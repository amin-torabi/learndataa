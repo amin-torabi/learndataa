{
 "cells": [
  {
   "cell_type": "code",
   "execution_count": 1,
   "id": "20a562f7-a08b-4f5e-8b21-59366170b252",
   "metadata": {},
   "outputs": [],
   "source": [
    "import numpy as np"
   ]
  },
  {
   "cell_type": "markdown",
   "id": "58ca7796-4fe3-4390-a2c1-6abc4378387a",
   "metadata": {},
   "source": [
    "### P3 - Basic Data types"
   ]
  },
  {
   "cell_type": "code",
   "execution_count": 6,
   "id": "8e8aed4d-d138-44d9-b8cd-aefb9cda8cfc",
   "metadata": {},
   "outputs": [
    {
     "data": {
      "text/plain": [
       "1"
      ]
     },
     "execution_count": 6,
     "metadata": {},
     "output_type": "execute_result"
    }
   ],
   "source": [
    "5 // 3"
   ]
  },
  {
   "cell_type": "code",
   "execution_count": 8,
   "id": "8d126889-5be7-4176-ac60-4ba88174f1d7",
   "metadata": {},
   "outputs": [
    {
     "data": {
      "text/plain": [
       "2"
      ]
     },
     "execution_count": 8,
     "metadata": {},
     "output_type": "execute_result"
    }
   ],
   "source": [
    "5 % 3"
   ]
  },
  {
   "cell_type": "markdown",
   "id": "8ed50b19-c629-4a6d-9f36-d18e6574b32a",
   "metadata": {},
   "source": [
    "### P4 - Lists in Python"
   ]
  },
  {
   "cell_type": "code",
   "execution_count": 12,
   "id": "06b32444-de3e-4410-b9c1-2922331668dd",
   "metadata": {},
   "outputs": [
    {
     "data": {
      "text/plain": [
       "False"
      ]
     },
     "execution_count": 12,
     "metadata": {},
     "output_type": "execute_result"
    }
   ],
   "source": [
    "# all\n",
    "\n",
    "x = [1, 2, 3, None]\n",
    "all(x)"
   ]
  },
  {
   "cell_type": "code",
   "execution_count": 13,
   "id": "a18bebb3-ac13-4de2-aec7-560fa0a2c8e2",
   "metadata": {},
   "outputs": [
    {
     "data": {
      "text/plain": [
       "[1, 2, 3, 4, 5, 6]"
      ]
     },
     "execution_count": 13,
     "metadata": {},
     "output_type": "execute_result"
    }
   ],
   "source": [
    "# extend \n",
    "\n",
    "a = [1, 2, 3]\n",
    "b = [4, 5, 6]\n",
    "a.extend(b)\n",
    "a"
   ]
  },
  {
   "cell_type": "code",
   "execution_count": 20,
   "id": "89b2e8aa-9540-4dc8-8d96-c8d91fda6f68",
   "metadata": {},
   "outputs": [
    {
     "data": {
      "text/plain": [
       "[1, 99, 2, 3]"
      ]
     },
     "execution_count": 20,
     "metadata": {},
     "output_type": "execute_result"
    }
   ],
   "source": [
    "# 'insert' does not replace\n",
    "\n",
    "a = [1, 2, 3]\n",
    "a.insert(1, 99)\n",
    "a"
   ]
  },
  {
   "cell_type": "code",
   "execution_count": 21,
   "id": "c2597432-f2bc-4788-b0e0-f8894f9cb9c7",
   "metadata": {},
   "outputs": [
    {
     "data": {
      "text/plain": [
       "[1, 2, 99]"
      ]
     },
     "execution_count": 21,
     "metadata": {},
     "output_type": "execute_result"
    }
   ],
   "source": [
    "# does replace\n",
    "\n",
    "a = [1, 2, 3]\n",
    "a[2] = 99\n",
    "a"
   ]
  },
  {
   "cell_type": "code",
   "execution_count": 22,
   "id": "8428f5ee-00d7-4e4a-8931-d082d574bda3",
   "metadata": {},
   "outputs": [
    {
     "data": {
      "text/plain": [
       "[1, 2]"
      ]
     },
     "execution_count": 22,
     "metadata": {},
     "output_type": "execute_result"
    }
   ],
   "source": [
    "# remove \n",
    "\n",
    "a = [1, 99, 2]\n",
    "a.remove(99)\n",
    "a"
   ]
  },
  {
   "cell_type": "code",
   "execution_count": 25,
   "id": "b6d46436-c085-4abc-9896-d5890bda698e",
   "metadata": {},
   "outputs": [
    {
     "data": {
      "text/plain": [
       "[1, 3]"
      ]
     },
     "execution_count": 25,
     "metadata": {},
     "output_type": "execute_result"
    }
   ],
   "source": [
    "# pop\n",
    "\n",
    "a = [1, 2, 3]\n",
    "a.pop(1)\n",
    "a"
   ]
  },
  {
   "cell_type": "code",
   "execution_count": 27,
   "id": "e399de3d-c666-489f-9310-7f42410b1b02",
   "metadata": {},
   "outputs": [
    {
     "data": {
      "text/plain": [
       "[1, 2, 3]"
      ]
     },
     "execution_count": 27,
     "metadata": {},
     "output_type": "execute_result"
    }
   ],
   "source": [
    "# sort \n",
    "\n",
    "a = [1, 3, 2]\n",
    "a.sort()\n",
    "a"
   ]
  },
  {
   "cell_type": "code",
   "execution_count": 28,
   "id": "25245bf6-0203-4a3d-8965-6909b50a95e5",
   "metadata": {},
   "outputs": [
    {
     "data": {
      "text/plain": [
       "[2, 3, 1]"
      ]
     },
     "execution_count": 28,
     "metadata": {},
     "output_type": "execute_result"
    }
   ],
   "source": [
    "# 'reverse' does not sort\n",
    "\n",
    "a = [1, 3, 2]\n",
    "a.reverse()\n",
    "a"
   ]
  },
  {
   "cell_type": "code",
   "execution_count": 29,
   "id": "97f15628-e913-415e-9786-d6bac97b75cb",
   "metadata": {},
   "outputs": [
    {
     "data": {
      "text/plain": [
       "3"
      ]
     },
     "execution_count": 29,
     "metadata": {},
     "output_type": "execute_result"
    }
   ],
   "source": [
    "# count\n",
    "\n",
    "a = [1, 1, 3, 2, 1]\n",
    "a.count(1)"
   ]
  },
  {
   "cell_type": "code",
   "execution_count": 30,
   "id": "a80ccc61-bbab-46b7-a604-db0ffca2498b",
   "metadata": {},
   "outputs": [],
   "source": [
    "# clear\n",
    "\n",
    "a = [1, 2, 3]\n",
    "a.clear()"
   ]
  },
  {
   "cell_type": "markdown",
   "id": "0bbe49df-029c-4430-8b57-3b17890d1399",
   "metadata": {
    "tags": []
   },
   "source": [
    "### P5 - Arrays in Python"
   ]
  },
  {
   "cell_type": "code",
   "execution_count": 3,
   "id": "601453f2-baa7-44e3-b31f-0ce0f0068987",
   "metadata": {},
   "outputs": [],
   "source": [
    "a = np.array([[1, 2], [3, 4]])"
   ]
  },
  {
   "cell_type": "code",
   "execution_count": 6,
   "id": "3325b369-dfb1-40bc-94bb-c5941b2d1a5f",
   "metadata": {},
   "outputs": [
    {
     "data": {
      "text/plain": [
       "array([4, 6])"
      ]
     },
     "execution_count": 6,
     "metadata": {},
     "output_type": "execute_result"
    }
   ],
   "source": [
    "# axis\n",
    "np.sum(a, axis=0)"
   ]
  },
  {
   "cell_type": "code",
   "execution_count": 9,
   "id": "1e7a05fc-b441-4d38-a48c-e9483a1a469e",
   "metadata": {},
   "outputs": [
    {
     "data": {
      "text/plain": [
       "array([[0, 0],\n",
       "       [0, 0]])"
      ]
     },
     "execution_count": 9,
     "metadata": {},
     "output_type": "execute_result"
    }
   ],
   "source": [
    "# dtype, otherwise is float\n",
    "\n",
    "np.zeros((2, 2), dtype=\"int64\")"
   ]
  },
  {
   "cell_type": "code",
   "execution_count": 12,
   "id": "8fbb023f-ec94-418e-ae43-8f888b701b85",
   "metadata": {},
   "outputs": [
    {
     "data": {
      "text/plain": [
       "array([[10, 10],\n",
       "       [10, 10]])"
      ]
     },
     "execution_count": 12,
     "metadata": {},
     "output_type": "execute_result"
    }
   ],
   "source": [
    "# full\n",
    "\n",
    "a = np.full((2, 2), 10)\n",
    "a"
   ]
  },
  {
   "cell_type": "code",
   "execution_count": 20,
   "id": "83cb55ba-2880-4afe-baee-70d41d05682b",
   "metadata": {},
   "outputs": [
    {
     "data": {
      "text/plain": [
       "array([0, 1, 2, 3, 4, 5, 6, 7, 8, 9])"
      ]
     },
     "execution_count": 20,
     "metadata": {},
     "output_type": "execute_result"
    }
   ],
   "source": [
    "# endpoint\n",
    "\n",
    "a = np.linspace(0, 10, 10, dtype=\"int64\", endpoint=False)\n",
    "a"
   ]
  },
  {
   "cell_type": "code",
   "execution_count": 27,
   "id": "3beab1af-423e-497a-9865-fcef78765405",
   "metadata": {},
   "outputs": [
    {
     "name": "stdout",
     "output_type": "stream",
     "text": [
      "[99, 3]\n",
      "[1, 2, 3]\n"
     ]
    }
   ],
   "source": [
    "# list vs np.array\n",
    "# in list, replacing the subset does not change the original array\n",
    "\n",
    "a = [1, 2, 3]\n",
    "b = a[1:]\n",
    "b[0] = 99\n",
    "print(b)\n",
    "print(a)"
   ]
  },
  {
   "cell_type": "code",
   "execution_count": 28,
   "id": "df0221cb-4323-4768-912f-3bf7e2123e0f",
   "metadata": {},
   "outputs": [
    {
     "name": "stdout",
     "output_type": "stream",
     "text": [
      "[99  3]\n",
      "[ 1 99  3]\n"
     ]
    }
   ],
   "source": [
    "# list vs np.array\n",
    "# in np.array, replacing the subset does change the original array\n",
    "\n",
    "a = np.array([1, 2, 3])\n",
    "b = a[1:]\n",
    "b[0] = 99\n",
    "print(b)\n",
    "print(a)"
   ]
  },
  {
   "cell_type": "code",
   "execution_count": 36,
   "id": "20b7221b-7319-4f8a-b347-e88f670b26a6",
   "metadata": {},
   "outputs": [
    {
     "data": {
      "text/plain": [
       "array([1, 7, 6])"
      ]
     },
     "execution_count": 36,
     "metadata": {},
     "output_type": "execute_result"
    }
   ],
   "source": [
    "# slicing\n",
    "\n",
    "a = np.array([\n",
    "    [1, 2, 3],\n",
    "    [4, 5, 6],\n",
    "    [7, 8, 9],\n",
    "])\n",
    "\n",
    "a[[0, 2, 1], [0, 0, 2]]"
   ]
  },
  {
   "cell_type": "code",
   "execution_count": 37,
   "id": "c38a3ce1-a623-43b1-b93a-0113b6fb73a3",
   "metadata": {},
   "outputs": [
    {
     "data": {
      "text/plain": [
       "array([7, 8, 9])"
      ]
     },
     "execution_count": 37,
     "metadata": {},
     "output_type": "execute_result"
    }
   ],
   "source": [
    "# axis\n",
    "\n",
    "np.max(a, axis=0)"
   ]
  },
  {
   "cell_type": "code",
   "execution_count": 38,
   "id": "365052b8-d37a-4946-88d0-0d642abc1b49",
   "metadata": {},
   "outputs": [
    {
     "data": {
      "text/plain": [
       "array([0, 0, 0])"
      ]
     },
     "execution_count": 38,
     "metadata": {},
     "output_type": "execute_result"
    }
   ],
   "source": [
    "# argmin/argmax, returns the index for the min/max\n",
    "\n",
    "np.argmin(a, axis=0)"
   ]
  },
  {
   "cell_type": "code",
   "execution_count": 39,
   "id": "34dffffc-bcb1-47d1-b8a9-2b6258437072",
   "metadata": {},
   "outputs": [
    {
     "data": {
      "text/plain": [
       "array([2, 2, 2])"
      ]
     },
     "execution_count": 39,
     "metadata": {},
     "output_type": "execute_result"
    }
   ],
   "source": [
    "np.argmax(a, axis=1)"
   ]
  },
  {
   "cell_type": "markdown",
   "id": "4c82f739-4aa6-4f13-ae45-a2404d18d6a1",
   "metadata": {
    "tags": []
   },
   "source": [
    "### P6 - Arrays in Python"
   ]
  },
  {
   "cell_type": "code",
   "execution_count": 42,
   "id": "57d8d78f-dc46-4363-aeaa-2cba8420baec",
   "metadata": {},
   "outputs": [
    {
     "data": {
      "text/plain": [
       "array([1, 2, 3, 4])"
      ]
     },
     "execution_count": 42,
     "metadata": {},
     "output_type": "execute_result"
    }
   ],
   "source": [
    "# reshape\n",
    "\n",
    "a = np.array([\n",
    "    [1, 2],\n",
    "    [3, 4]\n",
    "])\n",
    "\n",
    "a.reshape(-1)"
   ]
  },
  {
   "cell_type": "code",
   "execution_count": 51,
   "id": "66365a28-d876-4ff4-b633-da7167d0c19c",
   "metadata": {},
   "outputs": [
    {
     "name": "stdout",
     "output_type": "stream",
     "text": [
      "[ 1  2  3  4  5  6  7  8  9 10 11 12]\n",
      "[99  2  3  4  5  6  7  8  9 10 11 12]\n",
      "[[99  2  3  4]\n",
      " [ 5  6  7  8]\n",
      " [ 9 10 11 12]]\n"
     ]
    }
   ],
   "source": [
    "# ravel, changes in subset will appear in the original array\n",
    "\n",
    "a = np.array([\n",
    "    [1 , 2, 3, 4],\n",
    "    [5, 6, 7, 8],\n",
    "    [9, 10, 11, 12],\n",
    "])\n",
    "\n",
    "b = a.ravel()\n",
    "print(b)\n",
    "b[0] = 99\n",
    "print(b)\n",
    "print(a)"
   ]
  },
  {
   "cell_type": "code",
   "execution_count": 52,
   "id": "5fdc1ea1-48c7-45b4-aa3d-ffe7683930e9",
   "metadata": {},
   "outputs": [
    {
     "name": "stdout",
     "output_type": "stream",
     "text": [
      "[ 1  2  3  4  5  6  7  8  9 10 11 12]\n",
      "[[ 1  2  3  4]\n",
      " [ 5  6  7  8]\n",
      " [ 9 10 11 12]]\n"
     ]
    }
   ],
   "source": [
    "# flatten, changes in subset will NOT appear in the original array\n",
    "\n",
    "a = np.array([\n",
    "    [1 , 2, 3, 4],\n",
    "    [5, 6, 7, 8],\n",
    "    [9, 10, 11, 12],\n",
    "])\n",
    "\n",
    "b = a.flatten()\n",
    "print(b)\n",
    "b[0] = 99\n",
    "print(a)"
   ]
  },
  {
   "cell_type": "code",
   "execution_count": 54,
   "id": "96166952-9d77-46f5-aa50-87717aa8aff6",
   "metadata": {},
   "outputs": [
    {
     "name": "stdout",
     "output_type": "stream",
     "text": [
      "(1, 1, 3, 4)\n",
      "(3, 4)\n"
     ]
    }
   ],
   "source": [
    "# squeeze, drops extra dims\n",
    "\n",
    "a = np.array([[[\n",
    "    [1 , 2, 3, 4],\n",
    "    [5, 6, 7, 8],\n",
    "    [9, 10, 11, 12],\n",
    "]]])\n",
    "\n",
    "print(a.shape)\n",
    "b = np.squeeze(a)\n",
    "print(b.shape)"
   ]
  },
  {
   "cell_type": "code",
   "execution_count": 62,
   "id": "96d38734-3986-48e0-8330-a81cfa59c3bc",
   "metadata": {},
   "outputs": [
    {
     "name": "stdout",
     "output_type": "stream",
     "text": [
      "[[ 1  2]\n",
      " [ 3  4]\n",
      " [11 12]\n",
      " [13 14]]\n",
      "(4, 2)\n",
      "==========\n",
      "[[ 1  2 11 12]\n",
      " [ 3  4 13 14]]\n",
      "(2, 4)\n"
     ]
    }
   ],
   "source": [
    "# concatenate\n",
    "\n",
    "x = np.array([[1, 2], [3, 4]])\n",
    "y = np.array([[11, 12], [13, 14]])\n",
    "z0 = np.concatenate((x, y), axis=0)\n",
    "print(z0)\n",
    "print(z0.shape)\n",
    "print(\"=\" * 10)\n",
    "z1 = np.concatenate((x, y), axis=1)\n",
    "print(z1)\n",
    "print(z1.shape)"
   ]
  },
  {
   "cell_type": "code",
   "execution_count": 63,
   "id": "5076ffda-7903-460d-82ba-6b602b08a9f0",
   "metadata": {},
   "outputs": [
    {
     "name": "stdout",
     "output_type": "stream",
     "text": [
      "[[[ 1  2]\n",
      "  [ 3  4]]\n",
      "\n",
      " [[11 12]\n",
      "  [13 14]]]\n",
      "(2, 2, 2)\n"
     ]
    }
   ],
   "source": [
    "# stack, note an extra dim\n",
    "\n",
    "z = np.stack((x, y), axis=0)\n",
    "print(z)\n",
    "print(z.shape)"
   ]
  },
  {
   "cell_type": "code",
   "execution_count": 64,
   "id": "fc8ee7ec-62ab-4f5a-894f-b7e9658fe925",
   "metadata": {},
   "outputs": [
    {
     "name": "stdout",
     "output_type": "stream",
     "text": [
      "[[ 1  2 11 12]\n",
      " [ 3  4 13 14]]\n",
      "(2, 4)\n"
     ]
    }
   ],
   "source": [
    "# column stack\n",
    "\n",
    "z = np.column_stack((x, y))\n",
    "print(z)\n",
    "print(z.shape)"
   ]
  },
  {
   "cell_type": "code",
   "execution_count": 65,
   "id": "874bd870-5506-4b9f-9d84-50cbe0b4bc86",
   "metadata": {},
   "outputs": [
    {
     "name": "stdout",
     "output_type": "stream",
     "text": [
      "[[ 1  2 11 12]\n",
      " [ 3  4 13 14]]\n",
      "(2, 4)\n"
     ]
    }
   ],
   "source": [
    "# hstack\n",
    "\n",
    "z = np.hstack((x, y))\n",
    "print(z)\n",
    "print(z.shape)"
   ]
  },
  {
   "cell_type": "code",
   "execution_count": 66,
   "id": "131294e6-9ced-4abc-bc8b-e01ede463383",
   "metadata": {},
   "outputs": [
    {
     "name": "stdout",
     "output_type": "stream",
     "text": [
      "[[ 1  2]\n",
      " [ 3  4]\n",
      " [11 12]\n",
      " [13 14]]\n",
      "(4, 2)\n"
     ]
    }
   ],
   "source": [
    "# vstack\n",
    "\n",
    "z = np.vstack((x, y))\n",
    "print(z)\n",
    "print(z.shape)"
   ]
  },
  {
   "cell_type": "code",
   "execution_count": 72,
   "id": "db774389-035e-4b0a-938d-3adb7a936af1",
   "metadata": {},
   "outputs": [
    {
     "name": "stdout",
     "output_type": "stream",
     "text": [
      "[[1 2 3]]\n",
      "[[4 5 6]]\n",
      "[[7 8 9]]\n"
     ]
    }
   ],
   "source": [
    "# split, equal dim\n",
    "\n",
    "x = np.array([\n",
    "    [1, 2, 3],\n",
    "    [4, 5, 6],\n",
    "    [7, 8, 9],\n",
    "])\n",
    "\n",
    "a, b, c = np.split(x, 3)\n",
    "print(a, b, c, sep='\\n')"
   ]
  },
  {
   "cell_type": "code",
   "execution_count": 75,
   "id": "8a543433-3b2e-427d-8b59-51bf5a90ca42",
   "metadata": {},
   "outputs": [
    {
     "name": "stdout",
     "output_type": "stream",
     "text": [
      "[[1 2 3]\n",
      " [4 5 6]]\n",
      "(2, 3)\n",
      "=====\n",
      "[[7 8 9]]\n",
      "(1, 3)\n"
     ]
    }
   ],
   "source": [
    "# array_split, un-equal dim\n",
    "\n",
    "a, b = np.array_split(x, 2)\n",
    "print(a, a.shape, sep='\\n')\n",
    "print(\"=\" * 5)\n",
    "print(b, b.shape, sep='\\n')"
   ]
  },
  {
   "cell_type": "code",
   "execution_count": 84,
   "id": "2335b574-284c-4a5e-ad69-8b108131704e",
   "metadata": {},
   "outputs": [
    {
     "data": {
      "text/plain": [
       "[array([[1, 2, 3]]), array([[4, 5, 6]]), array([[7, 8, 9]])]"
      ]
     },
     "execution_count": 84,
     "metadata": {},
     "output_type": "execute_result"
    }
   ],
   "source": [
    "# vsplit\n",
    "\n",
    "np.vsplit(x, 3)"
   ]
  },
  {
   "cell_type": "code",
   "execution_count": 89,
   "id": "c35e532c-a844-4a7f-a51a-b3d14488527c",
   "metadata": {},
   "outputs": [
    {
     "data": {
      "text/plain": [
       "[array([[1],\n",
       "        [4],\n",
       "        [7]]),\n",
       " array([[2],\n",
       "        [5],\n",
       "        [8]]),\n",
       " array([[3],\n",
       "        [6],\n",
       "        [9]])]"
      ]
     },
     "execution_count": 89,
     "metadata": {},
     "output_type": "execute_result"
    }
   ],
   "source": [
    "# hsplit\n",
    "\n",
    "np.hsplit(x, 3)"
   ]
  },
  {
   "cell_type": "code",
   "execution_count": 92,
   "id": "664c6e5b-1eba-4cf7-a411-8afc4b9e3732",
   "metadata": {},
   "outputs": [
    {
     "data": {
      "text/plain": [
       "array([[1, 2, 1, 2, 1, 2],\n",
       "       [3, 4, 3, 4, 3, 4],\n",
       "       [1, 2, 1, 2, 1, 2],\n",
       "       [3, 4, 3, 4, 3, 4]])"
      ]
     },
     "execution_count": 92,
     "metadata": {},
     "output_type": "execute_result"
    }
   ],
   "source": [
    "# tile\n",
    "\n",
    "x = np.array([\n",
    "    [1, 2],\n",
    "    [3, 4]\n",
    "])\n",
    "\n",
    "np.tile(x, (2, 3))"
   ]
  },
  {
   "cell_type": "code",
   "execution_count": 93,
   "id": "d33f7b24-80d2-4705-8fd3-d722c51460a7",
   "metadata": {},
   "outputs": [
    {
     "data": {
      "text/plain": [
       "array([[11, 22, 33, 44],\n",
       "       [21, 32, 43, 54],\n",
       "       [32, 53, 74, 95]])"
      ]
     },
     "execution_count": 93,
     "metadata": {},
     "output_type": "execute_result"
    }
   ],
   "source": [
    "# broadcasting, adding two arrays with different shapes\n",
    "\n",
    "x = np.array([\n",
    "    [1, 2, 3, 4],\n",
    "    [11, 12, 13, 14],\n",
    "    [22, 33, 44, 55]\n",
    "])\n",
    "y = np.array([10, 20, 30 , 40])\n",
    "x + y"
   ]
  },
  {
   "cell_type": "markdown",
   "id": "4544243c-fbff-42d0-8f7c-4eab85c14045",
   "metadata": {
    "tags": []
   },
   "source": [
    "### P7 - Tuple in Python"
   ]
  },
  {
   "cell_type": "code",
   "execution_count": 94,
   "id": "3a70a421-9df7-4c4f-8327-0337c7ad0137",
   "metadata": {},
   "outputs": [
    {
     "data": {
      "text/plain": [
       "tuple"
      ]
     },
     "execution_count": 94,
     "metadata": {},
     "output_type": "execute_result"
    }
   ],
   "source": [
    "x = 1, 2, 3\n",
    "type(x)"
   ]
  },
  {
   "cell_type": "code",
   "execution_count": 96,
   "id": "ea75db41-757a-4743-a86a-7e202a6299d1",
   "metadata": {},
   "outputs": [
    {
     "data": {
      "text/plain": [
       "(1, 2, 3, 4, 5, 6)"
      ]
     },
     "execution_count": 96,
     "metadata": {},
     "output_type": "execute_result"
    }
   ],
   "source": [
    "# concat two tuples\n",
    "\n",
    "x = (1, 2, 3)\n",
    "y = (4, 5, 6)\n",
    "x + y"
   ]
  },
  {
   "cell_type": "code",
   "execution_count": 101,
   "id": "85823f9e-851c-48b9-89c6-154cbe0f9d90",
   "metadata": {},
   "outputs": [
    {
     "name": "stdout",
     "output_type": "stream",
     "text": [
      "[1, 2, 3, 4, 5, 6]\n",
      "(1, 2, 3, 4, 5, 6)\n"
     ]
    }
   ],
   "source": [
    "# concat a tuple and a list\n",
    "\n",
    "x = [1, 2, 3]\n",
    "y = (4, 5, 6)\n",
    "z1 = [*x, *y]\n",
    "print(z1)\n",
    "z2 = (*x, *y)\n",
    "print(z2)"
   ]
  },
  {
   "cell_type": "code",
   "execution_count": 111,
   "id": "a246cd08-8d89-438c-83bd-d00ca4419249",
   "metadata": {},
   "outputs": [
    {
     "data": {
      "text/plain": [
       "(1, 2, 3, 1, 2, 3, 1, 2, 3)"
      ]
     },
     "execution_count": 111,
     "metadata": {},
     "output_type": "execute_result"
    }
   ],
   "source": [
    "# flatten tuple\n",
    "\n",
    "x = (1, 2, 3)\n",
    "y = (x, x, x)\n",
    "sum(y, ())"
   ]
  },
  {
   "cell_type": "code",
   "execution_count": 117,
   "id": "e2ba2ac4-3e4f-4252-a1b2-85a91bc64d06",
   "metadata": {},
   "outputs": [
    {
     "data": {
      "text/plain": [
       "2"
      ]
     },
     "execution_count": 117,
     "metadata": {},
     "output_type": "execute_result"
    }
   ],
   "source": [
    "# index\n",
    "\n",
    "x = (1, 2, 99)\n",
    "x.index(99)"
   ]
  },
  {
   "cell_type": "code",
   "execution_count": 118,
   "id": "f8781279-90d4-4daa-b6e1-724cc7d9430d",
   "metadata": {},
   "outputs": [
    {
     "data": {
      "text/plain": [
       "3"
      ]
     },
     "execution_count": 118,
     "metadata": {},
     "output_type": "execute_result"
    }
   ],
   "source": [
    "# count\n",
    "\n",
    "x = (1, 1, 1, 2, 3)\n",
    "x.count(1)"
   ]
  },
  {
   "cell_type": "code",
   "execution_count": 120,
   "id": "33fbf67b-e477-4c9f-af72-59fe9ddd5cef",
   "metadata": {},
   "outputs": [],
   "source": [
    "# tuples are allowed in sets\n",
    "\n",
    "x = {(1, 2), (3, 4)}"
   ]
  },
  {
   "cell_type": "code",
   "execution_count": 119,
   "id": "d74afa75-1c7f-4058-86ca-cfacf74cdd52",
   "metadata": {},
   "outputs": [
    {
     "ename": "TypeError",
     "evalue": "unhashable type: 'list'",
     "output_type": "error",
     "traceback": [
      "\u001b[0;31m---------------------------------------------------------------------------\u001b[0m",
      "\u001b[0;31mTypeError\u001b[0m                                 Traceback (most recent call last)",
      "\u001b[0;32m/var/folders/37/wjht8zw57rlcnbqywt11_rkr0000gq/T/ipykernel_19034/1332490915.py\u001b[0m in \u001b[0;36m<module>\u001b[0;34m\u001b[0m\n\u001b[1;32m      1\u001b[0m \u001b[0;31m# no list in sets!\u001b[0m\u001b[0;34m\u001b[0m\u001b[0;34m\u001b[0m\u001b[0;34m\u001b[0m\u001b[0m\n\u001b[1;32m      2\u001b[0m \u001b[0;34m\u001b[0m\u001b[0m\n\u001b[0;32m----> 3\u001b[0;31m \u001b[0mx\u001b[0m \u001b[0;34m=\u001b[0m \u001b[0;34m{\u001b[0m\u001b[0;34m[\u001b[0m\u001b[0;36m1\u001b[0m\u001b[0;34m,\u001b[0m \u001b[0;36m2\u001b[0m\u001b[0;34m]\u001b[0m\u001b[0;34m,\u001b[0m \u001b[0;34m[\u001b[0m\u001b[0;36m3\u001b[0m\u001b[0;34m,\u001b[0m \u001b[0;36m4\u001b[0m\u001b[0;34m]\u001b[0m\u001b[0;34m}\u001b[0m\u001b[0;34m\u001b[0m\u001b[0;34m\u001b[0m\u001b[0m\n\u001b[0m",
      "\u001b[0;31mTypeError\u001b[0m: unhashable type: 'list'"
     ]
    }
   ],
   "source": [
    "# lists are not allowed in sets\n",
    "\n",
    "x = {[1, 2], [3, 4]}"
   ]
  },
  {
   "cell_type": "code",
   "execution_count": 123,
   "id": "f30acf32-970b-453b-9afb-0a15ea291425",
   "metadata": {},
   "outputs": [
    {
     "data": {
      "text/plain": [
       "['c', 'd']"
      ]
     },
     "execution_count": 123,
     "metadata": {},
     "output_type": "execute_result"
    }
   ],
   "source": [
    "# dict keys can be tuple\n",
    "x = {\n",
    "    (\"a\", \"b\"): [\"c\", \"d\"],\n",
    "    (\"e\", \"f\"): [\"g\", \"H\"]\n",
    "}\n",
    "\n",
    "x[\"a\", \"b\"]"
   ]
  },
  {
   "cell_type": "code",
   "execution_count": 122,
   "id": "82650177-7495-4e7d-b4e3-53ca05bb8326",
   "metadata": {},
   "outputs": [
    {
     "ename": "TypeError",
     "evalue": "unhashable type: 'list'",
     "output_type": "error",
     "traceback": [
      "\u001b[0;31m---------------------------------------------------------------------------\u001b[0m",
      "\u001b[0;31mTypeError\u001b[0m                                 Traceback (most recent call last)",
      "\u001b[0;32m/var/folders/37/wjht8zw57rlcnbqywt11_rkr0000gq/T/ipykernel_19034/2679226582.py\u001b[0m in \u001b[0;36m<module>\u001b[0;34m\u001b[0m\n\u001b[1;32m      1\u001b[0m \u001b[0;31m# dict keys cannot be list\u001b[0m\u001b[0;34m\u001b[0m\u001b[0;34m\u001b[0m\u001b[0;34m\u001b[0m\u001b[0m\n\u001b[0;32m----> 2\u001b[0;31m x = {\n\u001b[0m\u001b[1;32m      3\u001b[0m     \u001b[0;34m[\u001b[0m\u001b[0;34m\"a\"\u001b[0m\u001b[0;34m,\u001b[0m \u001b[0;34m\"b\"\u001b[0m\u001b[0;34m]\u001b[0m\u001b[0;34m:\u001b[0m \u001b[0;34m[\u001b[0m\u001b[0;34m\"c\"\u001b[0m\u001b[0;34m,\u001b[0m \u001b[0;34m\"d\"\u001b[0m\u001b[0;34m]\u001b[0m\u001b[0;34m,\u001b[0m\u001b[0;34m\u001b[0m\u001b[0;34m\u001b[0m\u001b[0m\n\u001b[1;32m      4\u001b[0m     \u001b[0;34m(\u001b[0m\u001b[0;34m\"e\"\u001b[0m\u001b[0;34m,\u001b[0m \u001b[0;34m\"f\"\u001b[0m\u001b[0;34m)\u001b[0m\u001b[0;34m:\u001b[0m \u001b[0;34m[\u001b[0m\u001b[0;34m\"g\"\u001b[0m\u001b[0;34m,\u001b[0m \u001b[0;34m\"H\"\u001b[0m\u001b[0;34m]\u001b[0m\u001b[0;34m\u001b[0m\u001b[0;34m\u001b[0m\u001b[0m\n\u001b[1;32m      5\u001b[0m }\n",
      "\u001b[0;31mTypeError\u001b[0m: unhashable type: 'list'"
     ]
    }
   ],
   "source": [
    "# dict keys cannot be list\n",
    "\n",
    "x = {\n",
    "    [\"a\", \"b\"]: [\"c\", \"d\"],\n",
    "    (\"e\", \"f\"): [\"g\", \"H\"]\n",
    "}"
   ]
  },
  {
   "cell_type": "code",
   "execution_count": 128,
   "id": "f866483b-e905-4b01-8ff7-5489b2c6dff1",
   "metadata": {},
   "outputs": [
    {
     "data": {
      "text/plain": [
       "[1, 2, 3, 1, 2, 3, 1, 2, 3]"
      ]
     },
     "execution_count": 128,
     "metadata": {},
     "output_type": "execute_result"
    }
   ],
   "source": [
    "# flatten nested tuple \n",
    "\n",
    "x = (1, 2, 3)\n",
    "y = (x, x, x)\n",
    "\n",
    "[j for i in y for j in i]"
   ]
  },
  {
   "cell_type": "code",
   "execution_count": null,
   "id": "f7579ed8-e987-41a2-b5ae-dac4be5d044e",
   "metadata": {},
   "outputs": [],
   "source": []
  }
 ],
 "metadata": {
  "kernelspec": {
   "display_name": "Python 3 (ipykernel)",
   "language": "python",
   "name": "python3"
  },
  "language_info": {
   "codemirror_mode": {
    "name": "ipython",
    "version": 3
   },
   "file_extension": ".py",
   "mimetype": "text/x-python",
   "name": "python",
   "nbconvert_exporter": "python",
   "pygments_lexer": "ipython3",
   "version": "3.9.5"
  }
 },
 "nbformat": 4,
 "nbformat_minor": 5
}
