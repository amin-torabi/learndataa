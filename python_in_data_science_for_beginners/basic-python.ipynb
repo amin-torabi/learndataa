{
 "cells": [
  {
   "cell_type": "markdown",
   "id": "58ca7796-4fe3-4390-a2c1-6abc4378387a",
   "metadata": {},
   "source": [
    "P3 - Basic Data types"
   ]
  },
  {
   "cell_type": "code",
   "execution_count": 6,
   "id": "8e8aed4d-d138-44d9-b8cd-aefb9cda8cfc",
   "metadata": {},
   "outputs": [
    {
     "data": {
      "text/plain": [
       "1"
      ]
     },
     "execution_count": 6,
     "metadata": {},
     "output_type": "execute_result"
    }
   ],
   "source": [
    "5 // 3"
   ]
  },
  {
   "cell_type": "code",
   "execution_count": 8,
   "id": "8d126889-5be7-4176-ac60-4ba88174f1d7",
   "metadata": {},
   "outputs": [
    {
     "data": {
      "text/plain": [
       "2"
      ]
     },
     "execution_count": 8,
     "metadata": {},
     "output_type": "execute_result"
    }
   ],
   "source": [
    "5 % 3"
   ]
  },
  {
   "cell_type": "markdown",
   "id": "8ed50b19-c629-4a6d-9f36-d18e6574b32a",
   "metadata": {},
   "source": [
    "P4 - Lists in Python"
   ]
  },
  {
   "cell_type": "code",
   "execution_count": 12,
   "id": "06b32444-de3e-4410-b9c1-2922331668dd",
   "metadata": {},
   "outputs": [
    {
     "data": {
      "text/plain": [
       "False"
      ]
     },
     "execution_count": 12,
     "metadata": {},
     "output_type": "execute_result"
    }
   ],
   "source": [
    "# all\n",
    "\n",
    "x = [1, 2, 3, None]\n",
    "all(x)"
   ]
  },
  {
   "cell_type": "code",
   "execution_count": 13,
   "id": "a18bebb3-ac13-4de2-aec7-560fa0a2c8e2",
   "metadata": {},
   "outputs": [
    {
     "data": {
      "text/plain": [
       "[1, 2, 3, 4, 5, 6]"
      ]
     },
     "execution_count": 13,
     "metadata": {},
     "output_type": "execute_result"
    }
   ],
   "source": [
    "# extend \n",
    "\n",
    "a = [1, 2, 3]\n",
    "b = [4, 5, 6]\n",
    "a.extend(b)\n",
    "a"
   ]
  },
  {
   "cell_type": "code",
   "execution_count": 20,
   "id": "89b2e8aa-9540-4dc8-8d96-c8d91fda6f68",
   "metadata": {},
   "outputs": [
    {
     "data": {
      "text/plain": [
       "[1, 99, 2, 3]"
      ]
     },
     "execution_count": 20,
     "metadata": {},
     "output_type": "execute_result"
    }
   ],
   "source": [
    "# 'insert' does not replace\n",
    "\n",
    "a = [1, 2, 3]\n",
    "a.insert(1, 99)\n",
    "a"
   ]
  },
  {
   "cell_type": "code",
   "execution_count": 21,
   "id": "c2597432-f2bc-4788-b0e0-f8894f9cb9c7",
   "metadata": {},
   "outputs": [
    {
     "data": {
      "text/plain": [
       "[1, 2, 99]"
      ]
     },
     "execution_count": 21,
     "metadata": {},
     "output_type": "execute_result"
    }
   ],
   "source": [
    "# does replace\n",
    "\n",
    "a = [1, 2, 3]\n",
    "a[2] = 99\n",
    "a"
   ]
  },
  {
   "cell_type": "code",
   "execution_count": 22,
   "id": "8428f5ee-00d7-4e4a-8931-d082d574bda3",
   "metadata": {},
   "outputs": [
    {
     "data": {
      "text/plain": [
       "[1, 2]"
      ]
     },
     "execution_count": 22,
     "metadata": {},
     "output_type": "execute_result"
    }
   ],
   "source": [
    "# remove \n",
    "\n",
    "a = [1, 99, 2]\n",
    "a.remove(99)\n",
    "a"
   ]
  },
  {
   "cell_type": "code",
   "execution_count": 25,
   "id": "b6d46436-c085-4abc-9896-d5890bda698e",
   "metadata": {},
   "outputs": [
    {
     "data": {
      "text/plain": [
       "[1, 3]"
      ]
     },
     "execution_count": 25,
     "metadata": {},
     "output_type": "execute_result"
    }
   ],
   "source": [
    "# pop\n",
    "\n",
    "a = [1, 2, 3]\n",
    "a.pop(1)\n",
    "a"
   ]
  },
  {
   "cell_type": "code",
   "execution_count": 27,
   "id": "e399de3d-c666-489f-9310-7f42410b1b02",
   "metadata": {},
   "outputs": [
    {
     "data": {
      "text/plain": [
       "[1, 2, 3]"
      ]
     },
     "execution_count": 27,
     "metadata": {},
     "output_type": "execute_result"
    }
   ],
   "source": [
    "# sort \n",
    "\n",
    "a = [1, 3, 2]\n",
    "a.sort()\n",
    "a"
   ]
  },
  {
   "cell_type": "code",
   "execution_count": 28,
   "id": "25245bf6-0203-4a3d-8965-6909b50a95e5",
   "metadata": {},
   "outputs": [
    {
     "data": {
      "text/plain": [
       "[2, 3, 1]"
      ]
     },
     "execution_count": 28,
     "metadata": {},
     "output_type": "execute_result"
    }
   ],
   "source": [
    "# 'reverse' does not sort\n",
    "\n",
    "a = [1, 3, 2]\n",
    "a.reverse()\n",
    "a"
   ]
  },
  {
   "cell_type": "code",
   "execution_count": 29,
   "id": "97f15628-e913-415e-9786-d6bac97b75cb",
   "metadata": {},
   "outputs": [
    {
     "data": {
      "text/plain": [
       "3"
      ]
     },
     "execution_count": 29,
     "metadata": {},
     "output_type": "execute_result"
    }
   ],
   "source": [
    "# count\n",
    "\n",
    "a = [1, 1, 3, 2, 1]\n",
    "a.count(1)"
   ]
  },
  {
   "cell_type": "code",
   "execution_count": 30,
   "id": "a80ccc61-bbab-46b7-a604-db0ffca2498b",
   "metadata": {},
   "outputs": [],
   "source": [
    "# clear\n",
    "\n",
    "a = [1, 2, 3]\n",
    "a.clear()"
   ]
  },
  {
   "cell_type": "markdown",
   "id": "0bbe49df-029c-4430-8b57-3b17890d1399",
   "metadata": {},
   "source": [
    "P5 - Arrays in Python"
   ]
  },
  {
   "cell_type": "code",
   "execution_count": null,
   "id": "601453f2-baa7-44e3-b31f-0ce0f0068987",
   "metadata": {},
   "outputs": [],
   "source": []
  }
 ],
 "metadata": {
  "kernelspec": {
   "display_name": "Python 3 (ipykernel)",
   "language": "python",
   "name": "python3"
  },
  "language_info": {
   "codemirror_mode": {
    "name": "ipython",
    "version": 3
   },
   "file_extension": ".py",
   "mimetype": "text/x-python",
   "name": "python",
   "nbconvert_exporter": "python",
   "pygments_lexer": "ipython3",
   "version": "3.9.5"
  }
 },
 "nbformat": 4,
 "nbformat_minor": 5
}
