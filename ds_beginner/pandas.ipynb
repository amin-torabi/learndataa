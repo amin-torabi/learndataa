{
 "cells": [
  {
   "cell_type": "code",
   "execution_count": 159,
   "id": "f231f511-274e-4ab1-a2ee-a83282943dca",
   "metadata": {},
   "outputs": [],
   "source": [
    "import matplotlib.pyplot as plt\n",
    "import numpy as np\n",
    "import pandas as pd\n",
    "import re\n",
    "import seaborn as sns"
   ]
  },
  {
   "cell_type": "markdown",
   "id": "3d9e85de-295d-4e48-9252-67afeaad1ba9",
   "metadata": {},
   "source": [
    "### P1 - Pandas in Python"
   ]
  },
  {
   "cell_type": "code",
   "execution_count": 2,
   "id": "65011b6d-429b-45e6-8107-c1ef0b61750d",
   "metadata": {},
   "outputs": [],
   "source": [
    "tips = sns.load_dataset(\"tips\")"
   ]
  },
  {
   "cell_type": "code",
   "execution_count": 4,
   "id": "dd4b85e2-c364-4a8c-9f83-89b2c2f10f6d",
   "metadata": {},
   "outputs": [
    {
     "data": {
      "text/plain": [
       "array([[16.99, 1.01, 'Female', ..., 'Sun', 'Dinner', 2],\n",
       "       [10.34, 1.66, 'Male', ..., 'Sun', 'Dinner', 3],\n",
       "       [21.01, 3.5, 'Male', ..., 'Sun', 'Dinner', 3],\n",
       "       ...,\n",
       "       [22.67, 2.0, 'Male', ..., 'Sat', 'Dinner', 2],\n",
       "       [17.82, 1.75, 'Male', ..., 'Sat', 'Dinner', 2],\n",
       "       [18.78, 3.0, 'Female', ..., 'Thur', 'Dinner', 2]], dtype=object)"
      ]
     },
     "execution_count": 4,
     "metadata": {},
     "output_type": "execute_result"
    }
   ],
   "source": [
    "# to_numpy\n",
    "\n",
    "x = tips.to_numpy()\n",
    "x"
   ]
  },
  {
   "cell_type": "code",
   "execution_count": 5,
   "id": "c2b937b9-a3a2-44ef-bd25-13218e452250",
   "metadata": {},
   "outputs": [
    {
     "data": {
      "text/html": [
       "<div>\n",
       "<style scoped>\n",
       "    .dataframe tbody tr th:only-of-type {\n",
       "        vertical-align: middle;\n",
       "    }\n",
       "\n",
       "    .dataframe tbody tr th {\n",
       "        vertical-align: top;\n",
       "    }\n",
       "\n",
       "    .dataframe thead th {\n",
       "        text-align: right;\n",
       "    }\n",
       "</style>\n",
       "<table border=\"1\" class=\"dataframe\">\n",
       "  <thead>\n",
       "    <tr style=\"text-align: right;\">\n",
       "      <th></th>\n",
       "      <th>total_bill</th>\n",
       "      <th>tip</th>\n",
       "      <th>sex</th>\n",
       "      <th>smoker</th>\n",
       "      <th>day</th>\n",
       "      <th>time</th>\n",
       "      <th>size</th>\n",
       "    </tr>\n",
       "  </thead>\n",
       "  <tbody>\n",
       "    <tr>\n",
       "      <th>243</th>\n",
       "      <td>18.78</td>\n",
       "      <td>3.00</td>\n",
       "      <td>Female</td>\n",
       "      <td>No</td>\n",
       "      <td>Thur</td>\n",
       "      <td>Dinner</td>\n",
       "      <td>2</td>\n",
       "    </tr>\n",
       "    <tr>\n",
       "      <th>242</th>\n",
       "      <td>17.82</td>\n",
       "      <td>1.75</td>\n",
       "      <td>Male</td>\n",
       "      <td>No</td>\n",
       "      <td>Sat</td>\n",
       "      <td>Dinner</td>\n",
       "      <td>2</td>\n",
       "    </tr>\n",
       "    <tr>\n",
       "      <th>241</th>\n",
       "      <td>22.67</td>\n",
       "      <td>2.00</td>\n",
       "      <td>Male</td>\n",
       "      <td>Yes</td>\n",
       "      <td>Sat</td>\n",
       "      <td>Dinner</td>\n",
       "      <td>2</td>\n",
       "    </tr>\n",
       "    <tr>\n",
       "      <th>240</th>\n",
       "      <td>27.18</td>\n",
       "      <td>2.00</td>\n",
       "      <td>Female</td>\n",
       "      <td>Yes</td>\n",
       "      <td>Sat</td>\n",
       "      <td>Dinner</td>\n",
       "      <td>2</td>\n",
       "    </tr>\n",
       "    <tr>\n",
       "      <th>239</th>\n",
       "      <td>29.03</td>\n",
       "      <td>5.92</td>\n",
       "      <td>Male</td>\n",
       "      <td>No</td>\n",
       "      <td>Sat</td>\n",
       "      <td>Dinner</td>\n",
       "      <td>3</td>\n",
       "    </tr>\n",
       "    <tr>\n",
       "      <th>...</th>\n",
       "      <td>...</td>\n",
       "      <td>...</td>\n",
       "      <td>...</td>\n",
       "      <td>...</td>\n",
       "      <td>...</td>\n",
       "      <td>...</td>\n",
       "      <td>...</td>\n",
       "    </tr>\n",
       "    <tr>\n",
       "      <th>4</th>\n",
       "      <td>24.59</td>\n",
       "      <td>3.61</td>\n",
       "      <td>Female</td>\n",
       "      <td>No</td>\n",
       "      <td>Sun</td>\n",
       "      <td>Dinner</td>\n",
       "      <td>4</td>\n",
       "    </tr>\n",
       "    <tr>\n",
       "      <th>3</th>\n",
       "      <td>23.68</td>\n",
       "      <td>3.31</td>\n",
       "      <td>Male</td>\n",
       "      <td>No</td>\n",
       "      <td>Sun</td>\n",
       "      <td>Dinner</td>\n",
       "      <td>2</td>\n",
       "    </tr>\n",
       "    <tr>\n",
       "      <th>2</th>\n",
       "      <td>21.01</td>\n",
       "      <td>3.50</td>\n",
       "      <td>Male</td>\n",
       "      <td>No</td>\n",
       "      <td>Sun</td>\n",
       "      <td>Dinner</td>\n",
       "      <td>3</td>\n",
       "    </tr>\n",
       "    <tr>\n",
       "      <th>1</th>\n",
       "      <td>10.34</td>\n",
       "      <td>1.66</td>\n",
       "      <td>Male</td>\n",
       "      <td>No</td>\n",
       "      <td>Sun</td>\n",
       "      <td>Dinner</td>\n",
       "      <td>3</td>\n",
       "    </tr>\n",
       "    <tr>\n",
       "      <th>0</th>\n",
       "      <td>16.99</td>\n",
       "      <td>1.01</td>\n",
       "      <td>Female</td>\n",
       "      <td>No</td>\n",
       "      <td>Sun</td>\n",
       "      <td>Dinner</td>\n",
       "      <td>2</td>\n",
       "    </tr>\n",
       "  </tbody>\n",
       "</table>\n",
       "<p>244 rows × 7 columns</p>\n",
       "</div>"
      ],
      "text/plain": [
       "     total_bill   tip     sex smoker   day    time  size\n",
       "243       18.78  3.00  Female     No  Thur  Dinner     2\n",
       "242       17.82  1.75    Male     No   Sat  Dinner     2\n",
       "241       22.67  2.00    Male    Yes   Sat  Dinner     2\n",
       "240       27.18  2.00  Female    Yes   Sat  Dinner     2\n",
       "239       29.03  5.92    Male     No   Sat  Dinner     3\n",
       "..          ...   ...     ...    ...   ...     ...   ...\n",
       "4         24.59  3.61  Female     No   Sun  Dinner     4\n",
       "3         23.68  3.31    Male     No   Sun  Dinner     2\n",
       "2         21.01  3.50    Male     No   Sun  Dinner     3\n",
       "1         10.34  1.66    Male     No   Sun  Dinner     3\n",
       "0         16.99  1.01  Female     No   Sun  Dinner     2\n",
       "\n",
       "[244 rows x 7 columns]"
      ]
     },
     "execution_count": 5,
     "metadata": {},
     "output_type": "execute_result"
    }
   ],
   "source": [
    "# sort_index\n",
    "\n",
    "tips.sort_index(axis=0, ascending=False)"
   ]
  },
  {
   "cell_type": "code",
   "execution_count": 6,
   "id": "6f8db45b-af41-4985-b2d1-9fcc2a8df0d4",
   "metadata": {},
   "outputs": [
    {
     "data": {
      "text/html": [
       "<div>\n",
       "<style scoped>\n",
       "    .dataframe tbody tr th:only-of-type {\n",
       "        vertical-align: middle;\n",
       "    }\n",
       "\n",
       "    .dataframe tbody tr th {\n",
       "        vertical-align: top;\n",
       "    }\n",
       "\n",
       "    .dataframe thead th {\n",
       "        text-align: right;\n",
       "    }\n",
       "</style>\n",
       "<table border=\"1\" class=\"dataframe\">\n",
       "  <thead>\n",
       "    <tr style=\"text-align: right;\">\n",
       "      <th></th>\n",
       "      <th>total_bill</th>\n",
       "      <th>tip</th>\n",
       "      <th>sex</th>\n",
       "      <th>smoker</th>\n",
       "      <th>day</th>\n",
       "      <th>time</th>\n",
       "      <th>size</th>\n",
       "    </tr>\n",
       "  </thead>\n",
       "  <tbody>\n",
       "    <tr>\n",
       "      <th>170</th>\n",
       "      <td>50.81</td>\n",
       "      <td>10.00</td>\n",
       "      <td>Male</td>\n",
       "      <td>Yes</td>\n",
       "      <td>Sat</td>\n",
       "      <td>Dinner</td>\n",
       "      <td>3</td>\n",
       "    </tr>\n",
       "    <tr>\n",
       "      <th>212</th>\n",
       "      <td>48.33</td>\n",
       "      <td>9.00</td>\n",
       "      <td>Male</td>\n",
       "      <td>No</td>\n",
       "      <td>Sat</td>\n",
       "      <td>Dinner</td>\n",
       "      <td>4</td>\n",
       "    </tr>\n",
       "    <tr>\n",
       "      <th>23</th>\n",
       "      <td>39.42</td>\n",
       "      <td>7.58</td>\n",
       "      <td>Male</td>\n",
       "      <td>No</td>\n",
       "      <td>Sat</td>\n",
       "      <td>Dinner</td>\n",
       "      <td>4</td>\n",
       "    </tr>\n",
       "    <tr>\n",
       "      <th>59</th>\n",
       "      <td>48.27</td>\n",
       "      <td>6.73</td>\n",
       "      <td>Male</td>\n",
       "      <td>No</td>\n",
       "      <td>Sat</td>\n",
       "      <td>Dinner</td>\n",
       "      <td>4</td>\n",
       "    </tr>\n",
       "    <tr>\n",
       "      <th>141</th>\n",
       "      <td>34.30</td>\n",
       "      <td>6.70</td>\n",
       "      <td>Male</td>\n",
       "      <td>No</td>\n",
       "      <td>Thur</td>\n",
       "      <td>Lunch</td>\n",
       "      <td>6</td>\n",
       "    </tr>\n",
       "  </tbody>\n",
       "</table>\n",
       "</div>"
      ],
      "text/plain": [
       "     total_bill    tip   sex smoker   day    time  size\n",
       "170       50.81  10.00  Male    Yes   Sat  Dinner     3\n",
       "212       48.33   9.00  Male     No   Sat  Dinner     4\n",
       "23        39.42   7.58  Male     No   Sat  Dinner     4\n",
       "59        48.27   6.73  Male     No   Sat  Dinner     4\n",
       "141       34.30   6.70  Male     No  Thur   Lunch     6"
      ]
     },
     "execution_count": 6,
     "metadata": {},
     "output_type": "execute_result"
    }
   ],
   "source": [
    "# sort_values \n",
    "\n",
    "tips.sort_values(by='tip', ascending=False).head()"
   ]
  },
  {
   "cell_type": "markdown",
   "id": "e72e4872-e8a1-418d-82d3-f15b2fa8b534",
   "metadata": {},
   "source": [
    "### P2 - Pandas in Python"
   ]
  },
  {
   "cell_type": "code",
   "execution_count": 7,
   "id": "bfc1be99-816f-43b8-9d9d-4c1d25265f69",
   "metadata": {},
   "outputs": [
    {
     "data": {
      "text/plain": [
       "16.99"
      ]
     },
     "execution_count": 7,
     "metadata": {},
     "output_type": "execute_result"
    }
   ],
   "source": [
    "# iat\n",
    "\n",
    "tips.iat[0, 0]"
   ]
  },
  {
   "cell_type": "markdown",
   "id": "ce545d3a-8f0f-487b-ac9d-d08818568f9a",
   "metadata": {},
   "source": [
    "### P3 - Sampling"
   ]
  },
  {
   "cell_type": "code",
   "execution_count": 8,
   "id": "19b8ffaa-a3d0-4e8d-8c47-75c71797e5a8",
   "metadata": {},
   "outputs": [
    {
     "data": {
      "text/plain": [
       "233    1.47\n",
       "210    2.00\n",
       "203    2.50\n",
       "187    2.00\n",
       "Name: tip, dtype: float64"
      ]
     },
     "execution_count": 8,
     "metadata": {},
     "output_type": "execute_result"
    }
   ],
   "source": [
    "# sample with n\n",
    "\n",
    "tips.tip.sample(n=4)"
   ]
  },
  {
   "cell_type": "code",
   "execution_count": 9,
   "id": "3112d309-1641-4ef5-8662-c9c3df349b34",
   "metadata": {},
   "outputs": [
    {
     "data": {
      "text/plain": [
       "174    4.00\n",
       "221    3.48\n",
       "37     3.07\n",
       "217    1.50\n",
       "44     5.60\n",
       "Name: tip, dtype: float64"
      ]
     },
     "execution_count": 9,
     "metadata": {},
     "output_type": "execute_result"
    }
   ],
   "source": [
    "# sample with frac\n",
    "\n",
    "tips.tip.sample(frac=0.02)"
   ]
  },
  {
   "cell_type": "code",
   "execution_count": 10,
   "id": "f7f12459-a78f-48e6-ae09-e7445217b629",
   "metadata": {},
   "outputs": [
    {
     "data": {
      "text/plain": [
       "220    2.2\n",
       "67     1.0\n",
       "212    9.0\n",
       "149    2.0\n",
       "140    3.5\n",
       "Name: tip, dtype: float64"
      ]
     },
     "execution_count": 10,
     "metadata": {},
     "output_type": "execute_result"
    }
   ],
   "source": [
    "# replace, if true a number can be sampled twice\n",
    "\n",
    "tips.tip.sample(frac=0.02, replace=True)"
   ]
  },
  {
   "cell_type": "code",
   "execution_count": 11,
   "id": "e0381c84-40ec-45e8-9bd9-1bc45e8c44d1",
   "metadata": {},
   "outputs": [
    {
     "data": {
      "text/plain": [
       "23     7.58\n",
       "3      3.31\n",
       "239    5.92\n",
       "67     1.00\n",
       "Name: tip, dtype: float64"
      ]
     },
     "execution_count": 11,
     "metadata": {},
     "output_type": "execute_result"
    }
   ],
   "source": [
    "# weights: sample series\n",
    "\n",
    "from sklearn.preprocessing import scale\n",
    "weights = abs(scale(tips.tip))  # just to simulate some weights\n",
    "\n",
    "tips.tip.sample(n=4, weights=weights)"
   ]
  },
  {
   "cell_type": "code",
   "execution_count": 12,
   "id": "1614e775-cf6d-4973-bee9-603124ae352b",
   "metadata": {},
   "outputs": [
    {
     "data": {
      "text/plain": [
       "140    3.50\n",
       "12     1.57\n",
       "59     6.73\n",
       "27     2.00\n",
       "Name: tip, dtype: float64"
      ]
     },
     "execution_count": 12,
     "metadata": {},
     "output_type": "execute_result"
    }
   ],
   "source": [
    "# weights: sample df\n",
    "\n",
    "tips.tip.sample(n=4, weights=weights)"
   ]
  },
  {
   "cell_type": "markdown",
   "id": "1a5050ae-5bdd-40a2-857b-d3978c0b9a7f",
   "metadata": {
    "tags": []
   },
   "source": [
    "### P4 - Accessing Data"
   ]
  },
  {
   "cell_type": "code",
   "execution_count": 13,
   "id": "8b6fb45d-3201-4ee7-ae5a-4b55663bc782",
   "metadata": {},
   "outputs": [
    {
     "data": {
      "text/plain": [
       "0       1.01\n",
       "1       1.66\n",
       "2       3.50\n",
       "3       3.31\n",
       "4       3.61\n",
       "       ...  \n",
       "240     2.00\n",
       "241     2.00\n",
       "242     1.75\n",
       "243     3.00\n",
       "244    99.00\n",
       "Length: 245, dtype: float64"
      ]
     },
     "execution_count": 13,
     "metadata": {},
     "output_type": "execute_result"
    }
   ],
   "source": [
    "# append\n",
    "\n",
    "tips.tip.append(pd.Series([99])).reset_index(drop=True)"
   ]
  },
  {
   "cell_type": "markdown",
   "id": "3b472d01-f802-4f31-a2d3-c494ecc14170",
   "metadata": {
    "tags": []
   },
   "source": [
    "### P5 - isin, where, mask"
   ]
  },
  {
   "cell_type": "code",
   "execution_count": 14,
   "id": "b6f6d704-46ed-4c91-b37e-261f87203ee8",
   "metadata": {},
   "outputs": [
    {
     "data": {
      "text/plain": [
       "0    False\n",
       "1    False\n",
       "2    False\n",
       "3    False\n",
       "4    False\n",
       "dtype: bool"
      ]
     },
     "execution_count": 14,
     "metadata": {},
     "output_type": "execute_result"
    }
   ],
   "source": [
    "# isin: can take dict, but looks like we have to provide all columns\n",
    "# all vs any\n",
    "\n",
    "d = {\n",
    "    \"sex\": [\"Female\"],\n",
    "    \"smoker\": [\"No\"],\n",
    "    \"day\": [\"Sun\"],\n",
    "    \"time\": [\"Dinner\"]\n",
    "}\n",
    "\n",
    "tips.isin(d).all(axis=1).head()"
   ]
  },
  {
   "cell_type": "code",
   "execution_count": 15,
   "id": "c27787ee-240f-4401-82ec-599caee3e419",
   "metadata": {},
   "outputs": [
    {
     "data": {
      "text/html": [
       "<div>\n",
       "<style scoped>\n",
       "    .dataframe tbody tr th:only-of-type {\n",
       "        vertical-align: middle;\n",
       "    }\n",
       "\n",
       "    .dataframe tbody tr th {\n",
       "        vertical-align: top;\n",
       "    }\n",
       "\n",
       "    .dataframe thead th {\n",
       "        text-align: right;\n",
       "    }\n",
       "</style>\n",
       "<table border=\"1\" class=\"dataframe\">\n",
       "  <thead>\n",
       "    <tr style=\"text-align: right;\">\n",
       "      <th></th>\n",
       "      <th>total_bill</th>\n",
       "      <th>tip</th>\n",
       "      <th>sex</th>\n",
       "      <th>smoker</th>\n",
       "      <th>day</th>\n",
       "      <th>time</th>\n",
       "      <th>size</th>\n",
       "    </tr>\n",
       "  </thead>\n",
       "  <tbody>\n",
       "    <tr>\n",
       "      <th>0</th>\n",
       "      <td>NaN</td>\n",
       "      <td>NaN</td>\n",
       "      <td>NaN</td>\n",
       "      <td>NaN</td>\n",
       "      <td>NaN</td>\n",
       "      <td>NaN</td>\n",
       "      <td>NaN</td>\n",
       "    </tr>\n",
       "    <tr>\n",
       "      <th>1</th>\n",
       "      <td>NaN</td>\n",
       "      <td>NaN</td>\n",
       "      <td>NaN</td>\n",
       "      <td>NaN</td>\n",
       "      <td>NaN</td>\n",
       "      <td>NaN</td>\n",
       "      <td>NaN</td>\n",
       "    </tr>\n",
       "    <tr>\n",
       "      <th>2</th>\n",
       "      <td>21.01</td>\n",
       "      <td>3.50</td>\n",
       "      <td>Male</td>\n",
       "      <td>No</td>\n",
       "      <td>Sun</td>\n",
       "      <td>Dinner</td>\n",
       "      <td>3.0</td>\n",
       "    </tr>\n",
       "    <tr>\n",
       "      <th>3</th>\n",
       "      <td>23.68</td>\n",
       "      <td>3.31</td>\n",
       "      <td>Male</td>\n",
       "      <td>No</td>\n",
       "      <td>Sun</td>\n",
       "      <td>Dinner</td>\n",
       "      <td>2.0</td>\n",
       "    </tr>\n",
       "    <tr>\n",
       "      <th>4</th>\n",
       "      <td>24.59</td>\n",
       "      <td>3.61</td>\n",
       "      <td>Female</td>\n",
       "      <td>No</td>\n",
       "      <td>Sun</td>\n",
       "      <td>Dinner</td>\n",
       "      <td>4.0</td>\n",
       "    </tr>\n",
       "  </tbody>\n",
       "</table>\n",
       "</div>"
      ],
      "text/plain": [
       "   total_bill   tip     sex smoker  day    time  size\n",
       "0         NaN   NaN     NaN    NaN  NaN     NaN   NaN\n",
       "1         NaN   NaN     NaN    NaN  NaN     NaN   NaN\n",
       "2       21.01  3.50    Male     No  Sun  Dinner   3.0\n",
       "3       23.68  3.31    Male     No  Sun  Dinner   2.0\n",
       "4       24.59  3.61  Female     No  Sun  Dinner   4.0"
      ]
     },
     "execution_count": 15,
     "metadata": {},
     "output_type": "execute_result"
    }
   ],
   "source": [
    "# where, returns all rows. non-matches will be NaN\n",
    "\n",
    "tips.where(tips.tip > 2).head()"
   ]
  },
  {
   "cell_type": "code",
   "execution_count": 16,
   "id": "4ee81fc4-8802-47a1-b8fa-40d8dd9755b0",
   "metadata": {},
   "outputs": [
    {
     "data": {
      "text/html": [
       "<div>\n",
       "<style scoped>\n",
       "    .dataframe tbody tr th:only-of-type {\n",
       "        vertical-align: middle;\n",
       "    }\n",
       "\n",
       "    .dataframe tbody tr th {\n",
       "        vertical-align: top;\n",
       "    }\n",
       "\n",
       "    .dataframe thead th {\n",
       "        text-align: right;\n",
       "    }\n",
       "</style>\n",
       "<table border=\"1\" class=\"dataframe\">\n",
       "  <thead>\n",
       "    <tr style=\"text-align: right;\">\n",
       "      <th></th>\n",
       "      <th>total_bill</th>\n",
       "      <th>tip</th>\n",
       "      <th>sex</th>\n",
       "      <th>smoker</th>\n",
       "      <th>day</th>\n",
       "      <th>time</th>\n",
       "      <th>size</th>\n",
       "    </tr>\n",
       "  </thead>\n",
       "  <tbody>\n",
       "    <tr>\n",
       "      <th>2</th>\n",
       "      <td>21.01</td>\n",
       "      <td>3.50</td>\n",
       "      <td>Male</td>\n",
       "      <td>No</td>\n",
       "      <td>Sun</td>\n",
       "      <td>Dinner</td>\n",
       "      <td>3</td>\n",
       "    </tr>\n",
       "    <tr>\n",
       "      <th>3</th>\n",
       "      <td>23.68</td>\n",
       "      <td>3.31</td>\n",
       "      <td>Male</td>\n",
       "      <td>No</td>\n",
       "      <td>Sun</td>\n",
       "      <td>Dinner</td>\n",
       "      <td>2</td>\n",
       "    </tr>\n",
       "    <tr>\n",
       "      <th>4</th>\n",
       "      <td>24.59</td>\n",
       "      <td>3.61</td>\n",
       "      <td>Female</td>\n",
       "      <td>No</td>\n",
       "      <td>Sun</td>\n",
       "      <td>Dinner</td>\n",
       "      <td>4</td>\n",
       "    </tr>\n",
       "    <tr>\n",
       "      <th>5</th>\n",
       "      <td>25.29</td>\n",
       "      <td>4.71</td>\n",
       "      <td>Male</td>\n",
       "      <td>No</td>\n",
       "      <td>Sun</td>\n",
       "      <td>Dinner</td>\n",
       "      <td>4</td>\n",
       "    </tr>\n",
       "    <tr>\n",
       "      <th>7</th>\n",
       "      <td>26.88</td>\n",
       "      <td>3.12</td>\n",
       "      <td>Male</td>\n",
       "      <td>No</td>\n",
       "      <td>Sun</td>\n",
       "      <td>Dinner</td>\n",
       "      <td>4</td>\n",
       "    </tr>\n",
       "  </tbody>\n",
       "</table>\n",
       "</div>"
      ],
      "text/plain": [
       "   total_bill   tip     sex smoker  day    time  size\n",
       "2       21.01  3.50    Male     No  Sun  Dinner     3\n",
       "3       23.68  3.31    Male     No  Sun  Dinner     2\n",
       "4       24.59  3.61  Female     No  Sun  Dinner     4\n",
       "5       25.29  4.71    Male     No  Sun  Dinner     4\n",
       "7       26.88  3.12    Male     No  Sun  Dinner     4"
      ]
     },
     "execution_count": 16,
     "metadata": {},
     "output_type": "execute_result"
    }
   ],
   "source": [
    "# will only return matches\n",
    "\n",
    "tips[tips.tip > 2].head()"
   ]
  },
  {
   "cell_type": "code",
   "execution_count": 17,
   "id": "43109465-84b4-4c01-a59e-172506a3e31b",
   "metadata": {},
   "outputs": [
    {
     "data": {
      "text/html": [
       "<div>\n",
       "<style scoped>\n",
       "    .dataframe tbody tr th:only-of-type {\n",
       "        vertical-align: middle;\n",
       "    }\n",
       "\n",
       "    .dataframe tbody tr th {\n",
       "        vertical-align: top;\n",
       "    }\n",
       "\n",
       "    .dataframe thead th {\n",
       "        text-align: right;\n",
       "    }\n",
       "</style>\n",
       "<table border=\"1\" class=\"dataframe\">\n",
       "  <thead>\n",
       "    <tr style=\"text-align: right;\">\n",
       "      <th></th>\n",
       "      <th>tip</th>\n",
       "    </tr>\n",
       "  </thead>\n",
       "  <tbody>\n",
       "    <tr>\n",
       "      <th>0</th>\n",
       "      <td>999.00</td>\n",
       "    </tr>\n",
       "    <tr>\n",
       "      <th>1</th>\n",
       "      <td>999.00</td>\n",
       "    </tr>\n",
       "    <tr>\n",
       "      <th>2</th>\n",
       "      <td>3.50</td>\n",
       "    </tr>\n",
       "    <tr>\n",
       "      <th>3</th>\n",
       "      <td>3.31</td>\n",
       "    </tr>\n",
       "    <tr>\n",
       "      <th>4</th>\n",
       "      <td>3.61</td>\n",
       "    </tr>\n",
       "  </tbody>\n",
       "</table>\n",
       "</div>"
      ],
      "text/plain": [
       "      tip\n",
       "0  999.00\n",
       "1  999.00\n",
       "2    3.50\n",
       "3    3.31\n",
       "4    3.61"
      ]
     },
     "execution_count": 17,
     "metadata": {},
     "output_type": "execute_result"
    }
   ],
   "source": [
    "# other, replaces nan\n",
    "\n",
    "tips[['tip']].where(tips.tip > 2, other=999).head()"
   ]
  },
  {
   "cell_type": "code",
   "execution_count": 18,
   "id": "674dc192-e972-472f-a5e6-a7f77e6f1cf9",
   "metadata": {},
   "outputs": [
    {
     "data": {
      "text/html": [
       "<div>\n",
       "<style scoped>\n",
       "    .dataframe tbody tr th:only-of-type {\n",
       "        vertical-align: middle;\n",
       "    }\n",
       "\n",
       "    .dataframe tbody tr th {\n",
       "        vertical-align: top;\n",
       "    }\n",
       "\n",
       "    .dataframe thead th {\n",
       "        text-align: right;\n",
       "    }\n",
       "</style>\n",
       "<table border=\"1\" class=\"dataframe\">\n",
       "  <thead>\n",
       "    <tr style=\"text-align: right;\">\n",
       "      <th></th>\n",
       "      <th>tip</th>\n",
       "    </tr>\n",
       "  </thead>\n",
       "  <tbody>\n",
       "    <tr>\n",
       "      <th>0</th>\n",
       "      <td>1.01</td>\n",
       "    </tr>\n",
       "    <tr>\n",
       "      <th>1</th>\n",
       "      <td>1.66</td>\n",
       "    </tr>\n",
       "    <tr>\n",
       "      <th>2</th>\n",
       "      <td>999.00</td>\n",
       "    </tr>\n",
       "    <tr>\n",
       "      <th>3</th>\n",
       "      <td>999.00</td>\n",
       "    </tr>\n",
       "    <tr>\n",
       "      <th>4</th>\n",
       "      <td>999.00</td>\n",
       "    </tr>\n",
       "  </tbody>\n",
       "</table>\n",
       "</div>"
      ],
      "text/plain": [
       "      tip\n",
       "0    1.01\n",
       "1    1.66\n",
       "2  999.00\n",
       "3  999.00\n",
       "4  999.00"
      ]
     },
     "execution_count": 18,
     "metadata": {},
     "output_type": "execute_result"
    }
   ],
   "source": [
    "# mask, exact opposite of where\n",
    "\n",
    "tips[['tip']].mask(tips.tip > 2, other=999).head()"
   ]
  },
  {
   "cell_type": "code",
   "execution_count": 19,
   "id": "69be8264-ace6-4635-a28a-dd4475fff50d",
   "metadata": {},
   "outputs": [
    {
     "data": {
      "text/html": [
       "<div>\n",
       "<style scoped>\n",
       "    .dataframe tbody tr th:only-of-type {\n",
       "        vertical-align: middle;\n",
       "    }\n",
       "\n",
       "    .dataframe tbody tr th {\n",
       "        vertical-align: top;\n",
       "    }\n",
       "\n",
       "    .dataframe thead th {\n",
       "        text-align: right;\n",
       "    }\n",
       "</style>\n",
       "<table border=\"1\" class=\"dataframe\">\n",
       "  <thead>\n",
       "    <tr style=\"text-align: right;\">\n",
       "      <th></th>\n",
       "      <th>tip</th>\n",
       "    </tr>\n",
       "  </thead>\n",
       "  <tbody>\n",
       "    <tr>\n",
       "      <th>0</th>\n",
       "      <td>16.99</td>\n",
       "    </tr>\n",
       "    <tr>\n",
       "      <th>1</th>\n",
       "      <td>10.34</td>\n",
       "    </tr>\n",
       "    <tr>\n",
       "      <th>2</th>\n",
       "      <td>3.50</td>\n",
       "    </tr>\n",
       "    <tr>\n",
       "      <th>3</th>\n",
       "      <td>3.31</td>\n",
       "    </tr>\n",
       "    <tr>\n",
       "      <th>4</th>\n",
       "      <td>3.61</td>\n",
       "    </tr>\n",
       "  </tbody>\n",
       "</table>\n",
       "</div>"
      ],
      "text/plain": [
       "     tip\n",
       "0  16.99\n",
       "1  10.34\n",
       "2   3.50\n",
       "3   3.31\n",
       "4   3.61"
      ]
     },
     "execution_count": 19,
     "metadata": {},
     "output_type": "execute_result"
    }
   ],
   "source": [
    "# where match, replace with another column\n",
    "\n",
    "tips[['tip']].where(tips[['tip']] > 3, tips['total_bill'], axis=0).head()"
   ]
  },
  {
   "cell_type": "markdown",
   "id": "9b023cb8-9015-47fa-84b3-680b049293ef",
   "metadata": {
    "tags": []
   },
   "source": [
    "### P6 - duplicates"
   ]
  },
  {
   "cell_type": "code",
   "execution_count": 20,
   "id": "50759877-915f-4b8d-8a59-968203893b31",
   "metadata": {},
   "outputs": [
    {
     "data": {
      "text/plain": [
       "0      False\n",
       "1      False\n",
       "2       True\n",
       "3      False\n",
       "4      False\n",
       "       ...  \n",
       "239     True\n",
       "240     True\n",
       "241     True\n",
       "242     True\n",
       "243    False\n",
       "Length: 244, dtype: bool"
      ]
     },
     "execution_count": 20,
     "metadata": {},
     "output_type": "execute_result"
    }
   ],
   "source": [
    "# duplicated, keep (first, last, False)\n",
    "\n",
    "tips.duplicated(['sex', 'time', 'smoker', 'day', 'size'], keep='first')"
   ]
  },
  {
   "cell_type": "code",
   "execution_count": 21,
   "id": "9182f41e-334a-4077-98c1-7b2a58e53b2a",
   "metadata": {},
   "outputs": [
    {
     "data": {
      "text/plain": [
       "'Male'"
      ]
     },
     "execution_count": 21,
     "metadata": {},
     "output_type": "execute_result"
    }
   ],
   "source": [
    "# get by index\n",
    "\n",
    "tips['sex'].get(1)"
   ]
  },
  {
   "cell_type": "markdown",
   "id": "fe1d4b96-b16f-48ee-9ae2-9565e1ea0d1c",
   "metadata": {
    "tags": []
   },
   "source": [
    "### P7 - Index"
   ]
  },
  {
   "cell_type": "code",
   "execution_count": 22,
   "id": "068f8a67-63f0-4a67-9e7e-2c85738a9af8",
   "metadata": {},
   "outputs": [
    {
     "data": {
      "text/html": [
       "<div>\n",
       "<style scoped>\n",
       "    .dataframe tbody tr th:only-of-type {\n",
       "        vertical-align: middle;\n",
       "    }\n",
       "\n",
       "    .dataframe tbody tr th {\n",
       "        vertical-align: top;\n",
       "    }\n",
       "\n",
       "    .dataframe thead th {\n",
       "        text-align: right;\n",
       "    }\n",
       "</style>\n",
       "<table border=\"1\" class=\"dataframe\">\n",
       "  <thead>\n",
       "    <tr style=\"text-align: right;\">\n",
       "      <th></th>\n",
       "      <th></th>\n",
       "      <th>total_bill</th>\n",
       "      <th>tip</th>\n",
       "      <th>smoker</th>\n",
       "      <th>day</th>\n",
       "      <th>time</th>\n",
       "      <th>size</th>\n",
       "    </tr>\n",
       "    <tr>\n",
       "      <th></th>\n",
       "      <th>sex</th>\n",
       "      <th></th>\n",
       "      <th></th>\n",
       "      <th></th>\n",
       "      <th></th>\n",
       "      <th></th>\n",
       "      <th></th>\n",
       "    </tr>\n",
       "  </thead>\n",
       "  <tbody>\n",
       "    <tr>\n",
       "      <th>0</th>\n",
       "      <th>Female</th>\n",
       "      <td>16.99</td>\n",
       "      <td>1.01</td>\n",
       "      <td>No</td>\n",
       "      <td>Sun</td>\n",
       "      <td>Dinner</td>\n",
       "      <td>2</td>\n",
       "    </tr>\n",
       "    <tr>\n",
       "      <th>1</th>\n",
       "      <th>Male</th>\n",
       "      <td>10.34</td>\n",
       "      <td>1.66</td>\n",
       "      <td>No</td>\n",
       "      <td>Sun</td>\n",
       "      <td>Dinner</td>\n",
       "      <td>3</td>\n",
       "    </tr>\n",
       "    <tr>\n",
       "      <th>2</th>\n",
       "      <th>Male</th>\n",
       "      <td>21.01</td>\n",
       "      <td>3.50</td>\n",
       "      <td>No</td>\n",
       "      <td>Sun</td>\n",
       "      <td>Dinner</td>\n",
       "      <td>3</td>\n",
       "    </tr>\n",
       "    <tr>\n",
       "      <th>3</th>\n",
       "      <th>Male</th>\n",
       "      <td>23.68</td>\n",
       "      <td>3.31</td>\n",
       "      <td>No</td>\n",
       "      <td>Sun</td>\n",
       "      <td>Dinner</td>\n",
       "      <td>2</td>\n",
       "    </tr>\n",
       "    <tr>\n",
       "      <th>4</th>\n",
       "      <th>Female</th>\n",
       "      <td>24.59</td>\n",
       "      <td>3.61</td>\n",
       "      <td>No</td>\n",
       "      <td>Sun</td>\n",
       "      <td>Dinner</td>\n",
       "      <td>4</td>\n",
       "    </tr>\n",
       "  </tbody>\n",
       "</table>\n",
       "</div>"
      ],
      "text/plain": [
       "          total_bill   tip smoker  day    time  size\n",
       "  sex                                               \n",
       "0 Female       16.99  1.01     No  Sun  Dinner     2\n",
       "1 Male         10.34  1.66     No  Sun  Dinner     3\n",
       "2 Male         21.01  3.50     No  Sun  Dinner     3\n",
       "3 Male         23.68  3.31     No  Sun  Dinner     2\n",
       "4 Female       24.59  3.61     No  Sun  Dinner     4"
      ]
     },
     "execution_count": 22,
     "metadata": {},
     "output_type": "execute_result"
    }
   ],
   "source": [
    "# append\n",
    "\n",
    "tips.set_index(\"sex\", append=True).head()"
   ]
  },
  {
   "cell_type": "markdown",
   "id": "1a5cc6e4-c6c5-4ec2-8f0f-25083a1cbca7",
   "metadata": {
    "tags": []
   },
   "source": [
    "### P9 - Concat & Append"
   ]
  },
  {
   "cell_type": "code",
   "execution_count": 23,
   "id": "1954c397-5cbc-47ed-acca-f9a1b654ca9e",
   "metadata": {},
   "outputs": [],
   "source": [
    "tips1 = tips.sample(frac=.5)\n",
    "tips2 = tips.sample(frac=.5)"
   ]
  },
  {
   "cell_type": "code",
   "execution_count": 24,
   "id": "672e4240-9bb9-4cf0-8e80-d248bed8987e",
   "metadata": {},
   "outputs": [
    {
     "data": {
      "text/html": [
       "<div>\n",
       "<style scoped>\n",
       "    .dataframe tbody tr th:only-of-type {\n",
       "        vertical-align: middle;\n",
       "    }\n",
       "\n",
       "    .dataframe tbody tr th {\n",
       "        vertical-align: top;\n",
       "    }\n",
       "\n",
       "    .dataframe thead th {\n",
       "        text-align: right;\n",
       "    }\n",
       "</style>\n",
       "<table border=\"1\" class=\"dataframe\">\n",
       "  <thead>\n",
       "    <tr style=\"text-align: right;\">\n",
       "      <th></th>\n",
       "      <th></th>\n",
       "      <th>total_bill</th>\n",
       "      <th>tip</th>\n",
       "      <th>sex</th>\n",
       "      <th>smoker</th>\n",
       "      <th>day</th>\n",
       "      <th>time</th>\n",
       "      <th>size</th>\n",
       "    </tr>\n",
       "  </thead>\n",
       "  <tbody>\n",
       "    <tr>\n",
       "      <th rowspan=\"5\" valign=\"top\">a</th>\n",
       "      <th>161</th>\n",
       "      <td>12.66</td>\n",
       "      <td>2.50</td>\n",
       "      <td>Male</td>\n",
       "      <td>No</td>\n",
       "      <td>Sun</td>\n",
       "      <td>Dinner</td>\n",
       "      <td>2</td>\n",
       "    </tr>\n",
       "    <tr>\n",
       "      <th>173</th>\n",
       "      <td>31.85</td>\n",
       "      <td>3.18</td>\n",
       "      <td>Male</td>\n",
       "      <td>Yes</td>\n",
       "      <td>Sun</td>\n",
       "      <td>Dinner</td>\n",
       "      <td>2</td>\n",
       "    </tr>\n",
       "    <tr>\n",
       "      <th>57</th>\n",
       "      <td>26.41</td>\n",
       "      <td>1.50</td>\n",
       "      <td>Female</td>\n",
       "      <td>No</td>\n",
       "      <td>Sat</td>\n",
       "      <td>Dinner</td>\n",
       "      <td>2</td>\n",
       "    </tr>\n",
       "    <tr>\n",
       "      <th>32</th>\n",
       "      <td>15.06</td>\n",
       "      <td>3.00</td>\n",
       "      <td>Female</td>\n",
       "      <td>No</td>\n",
       "      <td>Sat</td>\n",
       "      <td>Dinner</td>\n",
       "      <td>2</td>\n",
       "    </tr>\n",
       "    <tr>\n",
       "      <th>92</th>\n",
       "      <td>5.75</td>\n",
       "      <td>1.00</td>\n",
       "      <td>Female</td>\n",
       "      <td>Yes</td>\n",
       "      <td>Fri</td>\n",
       "      <td>Dinner</td>\n",
       "      <td>2</td>\n",
       "    </tr>\n",
       "  </tbody>\n",
       "</table>\n",
       "</div>"
      ],
      "text/plain": [
       "       total_bill   tip     sex smoker  day    time  size\n",
       "a 161       12.66  2.50    Male     No  Sun  Dinner     2\n",
       "  173       31.85  3.18    Male    Yes  Sun  Dinner     2\n",
       "  57        26.41  1.50  Female     No  Sat  Dinner     2\n",
       "  32        15.06  3.00  Female     No  Sat  Dinner     2\n",
       "  92         5.75  1.00  Female    Yes  Fri  Dinner     2"
      ]
     },
     "execution_count": 24,
     "metadata": {},
     "output_type": "execute_result"
    }
   ],
   "source": [
    "# keys \n",
    "\n",
    "tips_concat = pd.concat([tips1, tips2], keys=['a', 'b'])\n",
    "tips_concat.head()"
   ]
  },
  {
   "cell_type": "code",
   "execution_count": 25,
   "id": "4da6bcd0-e5dc-4b25-9448-968f3c00ad0e",
   "metadata": {},
   "outputs": [
    {
     "data": {
      "text/html": [
       "<div>\n",
       "<style scoped>\n",
       "    .dataframe tbody tr th:only-of-type {\n",
       "        vertical-align: middle;\n",
       "    }\n",
       "\n",
       "    .dataframe tbody tr th {\n",
       "        vertical-align: top;\n",
       "    }\n",
       "\n",
       "    .dataframe thead th {\n",
       "        text-align: right;\n",
       "    }\n",
       "</style>\n",
       "<table border=\"1\" class=\"dataframe\">\n",
       "  <thead>\n",
       "    <tr style=\"text-align: right;\">\n",
       "      <th></th>\n",
       "      <th>total_bill</th>\n",
       "      <th>tip</th>\n",
       "      <th>sex</th>\n",
       "      <th>smoker</th>\n",
       "      <th>day</th>\n",
       "      <th>time</th>\n",
       "      <th>size</th>\n",
       "    </tr>\n",
       "  </thead>\n",
       "  <tbody>\n",
       "    <tr>\n",
       "      <th>229</th>\n",
       "      <td>22.12</td>\n",
       "      <td>2.88</td>\n",
       "      <td>Female</td>\n",
       "      <td>Yes</td>\n",
       "      <td>Sat</td>\n",
       "      <td>Dinner</td>\n",
       "      <td>2</td>\n",
       "    </tr>\n",
       "    <tr>\n",
       "      <th>141</th>\n",
       "      <td>34.30</td>\n",
       "      <td>6.70</td>\n",
       "      <td>Male</td>\n",
       "      <td>No</td>\n",
       "      <td>Thur</td>\n",
       "      <td>Lunch</td>\n",
       "      <td>6</td>\n",
       "    </tr>\n",
       "    <tr>\n",
       "      <th>137</th>\n",
       "      <td>14.15</td>\n",
       "      <td>2.00</td>\n",
       "      <td>Female</td>\n",
       "      <td>No</td>\n",
       "      <td>Thur</td>\n",
       "      <td>Lunch</td>\n",
       "      <td>2</td>\n",
       "    </tr>\n",
       "    <tr>\n",
       "      <th>208</th>\n",
       "      <td>24.27</td>\n",
       "      <td>2.03</td>\n",
       "      <td>Male</td>\n",
       "      <td>Yes</td>\n",
       "      <td>Sat</td>\n",
       "      <td>Dinner</td>\n",
       "      <td>2</td>\n",
       "    </tr>\n",
       "    <tr>\n",
       "      <th>201</th>\n",
       "      <td>12.74</td>\n",
       "      <td>2.01</td>\n",
       "      <td>Female</td>\n",
       "      <td>Yes</td>\n",
       "      <td>Thur</td>\n",
       "      <td>Lunch</td>\n",
       "      <td>2</td>\n",
       "    </tr>\n",
       "  </tbody>\n",
       "</table>\n",
       "</div>"
      ],
      "text/plain": [
       "     total_bill   tip     sex smoker   day    time  size\n",
       "229       22.12  2.88  Female    Yes   Sat  Dinner     2\n",
       "141       34.30  6.70    Male     No  Thur   Lunch     6\n",
       "137       14.15  2.00  Female     No  Thur   Lunch     2\n",
       "208       24.27  2.03    Male    Yes   Sat  Dinner     2\n",
       "201       12.74  2.01  Female    Yes  Thur   Lunch     2"
      ]
     },
     "execution_count": 25,
     "metadata": {},
     "output_type": "execute_result"
    }
   ],
   "source": [
    "tips_concat.loc['b'].head()"
   ]
  },
  {
   "cell_type": "code",
   "execution_count": 26,
   "id": "5885b4e7-7457-4cd8-826c-754cdbd819bd",
   "metadata": {},
   "outputs": [
    {
     "data": {
      "text/html": [
       "<div>\n",
       "<style scoped>\n",
       "    .dataframe tbody tr th:only-of-type {\n",
       "        vertical-align: middle;\n",
       "    }\n",
       "\n",
       "    .dataframe tbody tr th {\n",
       "        vertical-align: top;\n",
       "    }\n",
       "\n",
       "    .dataframe thead th {\n",
       "        text-align: right;\n",
       "    }\n",
       "</style>\n",
       "<table border=\"1\" class=\"dataframe\">\n",
       "  <thead>\n",
       "    <tr style=\"text-align: right;\">\n",
       "      <th></th>\n",
       "      <th>total_bill</th>\n",
       "      <th>tip</th>\n",
       "      <th>sex</th>\n",
       "      <th>smoker</th>\n",
       "      <th>day</th>\n",
       "      <th>time</th>\n",
       "      <th>size</th>\n",
       "      <th>total_bill</th>\n",
       "      <th>tip</th>\n",
       "      <th>sex</th>\n",
       "      <th>smoker</th>\n",
       "      <th>day</th>\n",
       "      <th>time</th>\n",
       "      <th>size</th>\n",
       "    </tr>\n",
       "  </thead>\n",
       "  <tbody>\n",
       "    <tr>\n",
       "      <th>1</th>\n",
       "      <td>10.34</td>\n",
       "      <td>1.66</td>\n",
       "      <td>Male</td>\n",
       "      <td>No</td>\n",
       "      <td>Sun</td>\n",
       "      <td>Dinner</td>\n",
       "      <td>3.0</td>\n",
       "      <td>10.34</td>\n",
       "      <td>1.66</td>\n",
       "      <td>Male</td>\n",
       "      <td>No</td>\n",
       "      <td>Sun</td>\n",
       "      <td>Dinner</td>\n",
       "      <td>3.0</td>\n",
       "    </tr>\n",
       "    <tr>\n",
       "      <th>2</th>\n",
       "      <td>21.01</td>\n",
       "      <td>3.50</td>\n",
       "      <td>Male</td>\n",
       "      <td>No</td>\n",
       "      <td>Sun</td>\n",
       "      <td>Dinner</td>\n",
       "      <td>3.0</td>\n",
       "      <td>21.01</td>\n",
       "      <td>3.50</td>\n",
       "      <td>Male</td>\n",
       "      <td>No</td>\n",
       "      <td>Sun</td>\n",
       "      <td>Dinner</td>\n",
       "      <td>3.0</td>\n",
       "    </tr>\n",
       "    <tr>\n",
       "      <th>3</th>\n",
       "      <td>NaN</td>\n",
       "      <td>NaN</td>\n",
       "      <td>NaN</td>\n",
       "      <td>NaN</td>\n",
       "      <td>NaN</td>\n",
       "      <td>NaN</td>\n",
       "      <td>NaN</td>\n",
       "      <td>23.68</td>\n",
       "      <td>3.31</td>\n",
       "      <td>Male</td>\n",
       "      <td>No</td>\n",
       "      <td>Sun</td>\n",
       "      <td>Dinner</td>\n",
       "      <td>2.0</td>\n",
       "    </tr>\n",
       "    <tr>\n",
       "      <th>5</th>\n",
       "      <td>25.29</td>\n",
       "      <td>4.71</td>\n",
       "      <td>Male</td>\n",
       "      <td>No</td>\n",
       "      <td>Sun</td>\n",
       "      <td>Dinner</td>\n",
       "      <td>4.0</td>\n",
       "      <td>25.29</td>\n",
       "      <td>4.71</td>\n",
       "      <td>Male</td>\n",
       "      <td>No</td>\n",
       "      <td>Sun</td>\n",
       "      <td>Dinner</td>\n",
       "      <td>4.0</td>\n",
       "    </tr>\n",
       "    <tr>\n",
       "      <th>6</th>\n",
       "      <td>NaN</td>\n",
       "      <td>NaN</td>\n",
       "      <td>NaN</td>\n",
       "      <td>NaN</td>\n",
       "      <td>NaN</td>\n",
       "      <td>NaN</td>\n",
       "      <td>NaN</td>\n",
       "      <td>8.77</td>\n",
       "      <td>2.00</td>\n",
       "      <td>Male</td>\n",
       "      <td>No</td>\n",
       "      <td>Sun</td>\n",
       "      <td>Dinner</td>\n",
       "      <td>2.0</td>\n",
       "    </tr>\n",
       "    <tr>\n",
       "      <th>...</th>\n",
       "      <td>...</td>\n",
       "      <td>...</td>\n",
       "      <td>...</td>\n",
       "      <td>...</td>\n",
       "      <td>...</td>\n",
       "      <td>...</td>\n",
       "      <td>...</td>\n",
       "      <td>...</td>\n",
       "      <td>...</td>\n",
       "      <td>...</td>\n",
       "      <td>...</td>\n",
       "      <td>...</td>\n",
       "      <td>...</td>\n",
       "      <td>...</td>\n",
       "    </tr>\n",
       "    <tr>\n",
       "      <th>237</th>\n",
       "      <td>32.83</td>\n",
       "      <td>1.17</td>\n",
       "      <td>Male</td>\n",
       "      <td>Yes</td>\n",
       "      <td>Sat</td>\n",
       "      <td>Dinner</td>\n",
       "      <td>2.0</td>\n",
       "      <td>32.83</td>\n",
       "      <td>1.17</td>\n",
       "      <td>Male</td>\n",
       "      <td>Yes</td>\n",
       "      <td>Sat</td>\n",
       "      <td>Dinner</td>\n",
       "      <td>2.0</td>\n",
       "    </tr>\n",
       "    <tr>\n",
       "      <th>238</th>\n",
       "      <td>NaN</td>\n",
       "      <td>NaN</td>\n",
       "      <td>NaN</td>\n",
       "      <td>NaN</td>\n",
       "      <td>NaN</td>\n",
       "      <td>NaN</td>\n",
       "      <td>NaN</td>\n",
       "      <td>35.83</td>\n",
       "      <td>4.67</td>\n",
       "      <td>Female</td>\n",
       "      <td>No</td>\n",
       "      <td>Sat</td>\n",
       "      <td>Dinner</td>\n",
       "      <td>3.0</td>\n",
       "    </tr>\n",
       "    <tr>\n",
       "      <th>240</th>\n",
       "      <td>NaN</td>\n",
       "      <td>NaN</td>\n",
       "      <td>NaN</td>\n",
       "      <td>NaN</td>\n",
       "      <td>NaN</td>\n",
       "      <td>NaN</td>\n",
       "      <td>NaN</td>\n",
       "      <td>27.18</td>\n",
       "      <td>2.00</td>\n",
       "      <td>Female</td>\n",
       "      <td>Yes</td>\n",
       "      <td>Sat</td>\n",
       "      <td>Dinner</td>\n",
       "      <td>2.0</td>\n",
       "    </tr>\n",
       "    <tr>\n",
       "      <th>242</th>\n",
       "      <td>17.82</td>\n",
       "      <td>1.75</td>\n",
       "      <td>Male</td>\n",
       "      <td>No</td>\n",
       "      <td>Sat</td>\n",
       "      <td>Dinner</td>\n",
       "      <td>2.0</td>\n",
       "      <td>NaN</td>\n",
       "      <td>NaN</td>\n",
       "      <td>NaN</td>\n",
       "      <td>NaN</td>\n",
       "      <td>NaN</td>\n",
       "      <td>NaN</td>\n",
       "      <td>NaN</td>\n",
       "    </tr>\n",
       "    <tr>\n",
       "      <th>243</th>\n",
       "      <td>18.78</td>\n",
       "      <td>3.00</td>\n",
       "      <td>Female</td>\n",
       "      <td>No</td>\n",
       "      <td>Thur</td>\n",
       "      <td>Dinner</td>\n",
       "      <td>2.0</td>\n",
       "      <td>18.78</td>\n",
       "      <td>3.00</td>\n",
       "      <td>Female</td>\n",
       "      <td>No</td>\n",
       "      <td>Thur</td>\n",
       "      <td>Dinner</td>\n",
       "      <td>2.0</td>\n",
       "    </tr>\n",
       "  </tbody>\n",
       "</table>\n",
       "<p>183 rows × 14 columns</p>\n",
       "</div>"
      ],
      "text/plain": [
       "     total_bill   tip     sex smoker   day    time  size  total_bill   tip  \\\n",
       "1         10.34  1.66    Male     No   Sun  Dinner   3.0       10.34  1.66   \n",
       "2         21.01  3.50    Male     No   Sun  Dinner   3.0       21.01  3.50   \n",
       "3           NaN   NaN     NaN    NaN   NaN     NaN   NaN       23.68  3.31   \n",
       "5         25.29  4.71    Male     No   Sun  Dinner   4.0       25.29  4.71   \n",
       "6           NaN   NaN     NaN    NaN   NaN     NaN   NaN        8.77  2.00   \n",
       "..          ...   ...     ...    ...   ...     ...   ...         ...   ...   \n",
       "237       32.83  1.17    Male    Yes   Sat  Dinner   2.0       32.83  1.17   \n",
       "238         NaN   NaN     NaN    NaN   NaN     NaN   NaN       35.83  4.67   \n",
       "240         NaN   NaN     NaN    NaN   NaN     NaN   NaN       27.18  2.00   \n",
       "242       17.82  1.75    Male     No   Sat  Dinner   2.0         NaN   NaN   \n",
       "243       18.78  3.00  Female     No  Thur  Dinner   2.0       18.78  3.00   \n",
       "\n",
       "        sex smoker   day    time  size  \n",
       "1      Male     No   Sun  Dinner   3.0  \n",
       "2      Male     No   Sun  Dinner   3.0  \n",
       "3      Male     No   Sun  Dinner   2.0  \n",
       "5      Male     No   Sun  Dinner   4.0  \n",
       "6      Male     No   Sun  Dinner   2.0  \n",
       "..      ...    ...   ...     ...   ...  \n",
       "237    Male    Yes   Sat  Dinner   2.0  \n",
       "238  Female     No   Sat  Dinner   3.0  \n",
       "240  Female    Yes   Sat  Dinner   2.0  \n",
       "242     NaN    NaN   NaN     NaN   NaN  \n",
       "243  Female     No  Thur  Dinner   2.0  \n",
       "\n",
       "[183 rows x 14 columns]"
      ]
     },
     "execution_count": 26,
     "metadata": {},
     "output_type": "execute_result"
    }
   ],
   "source": [
    "# axis=1, join\n",
    "\n",
    "pd.concat([tips1, tips2], axis=1, join='outer')"
   ]
  },
  {
   "cell_type": "code",
   "execution_count": 27,
   "id": "fb39d900-dba0-4db4-9032-8044e58ee046",
   "metadata": {},
   "outputs": [
    {
     "data": {
      "text/html": [
       "<div>\n",
       "<style scoped>\n",
       "    .dataframe tbody tr th:only-of-type {\n",
       "        vertical-align: middle;\n",
       "    }\n",
       "\n",
       "    .dataframe tbody tr th {\n",
       "        vertical-align: top;\n",
       "    }\n",
       "\n",
       "    .dataframe thead th {\n",
       "        text-align: right;\n",
       "    }\n",
       "</style>\n",
       "<table border=\"1\" class=\"dataframe\">\n",
       "  <thead>\n",
       "    <tr style=\"text-align: right;\">\n",
       "      <th></th>\n",
       "      <th>total_bill</th>\n",
       "      <th>tip</th>\n",
       "      <th>sex</th>\n",
       "      <th>smoker</th>\n",
       "      <th>day</th>\n",
       "      <th>time</th>\n",
       "      <th>size</th>\n",
       "    </tr>\n",
       "  </thead>\n",
       "  <tbody>\n",
       "    <tr>\n",
       "      <th>229</th>\n",
       "      <td>22.12</td>\n",
       "      <td>2.88</td>\n",
       "      <td>Female</td>\n",
       "      <td>Yes</td>\n",
       "      <td>Sat</td>\n",
       "      <td>Dinner</td>\n",
       "      <td>2.0</td>\n",
       "    </tr>\n",
       "    <tr>\n",
       "      <th>141</th>\n",
       "      <td>34.30</td>\n",
       "      <td>6.70</td>\n",
       "      <td>Male</td>\n",
       "      <td>No</td>\n",
       "      <td>Thur</td>\n",
       "      <td>Lunch</td>\n",
       "      <td>6.0</td>\n",
       "    </tr>\n",
       "    <tr>\n",
       "      <th>137</th>\n",
       "      <td>NaN</td>\n",
       "      <td>NaN</td>\n",
       "      <td>NaN</td>\n",
       "      <td>NaN</td>\n",
       "      <td>NaN</td>\n",
       "      <td>NaN</td>\n",
       "      <td>NaN</td>\n",
       "    </tr>\n",
       "    <tr>\n",
       "      <th>208</th>\n",
       "      <td>NaN</td>\n",
       "      <td>NaN</td>\n",
       "      <td>NaN</td>\n",
       "      <td>NaN</td>\n",
       "      <td>NaN</td>\n",
       "      <td>NaN</td>\n",
       "      <td>NaN</td>\n",
       "    </tr>\n",
       "    <tr>\n",
       "      <th>201</th>\n",
       "      <td>NaN</td>\n",
       "      <td>NaN</td>\n",
       "      <td>NaN</td>\n",
       "      <td>NaN</td>\n",
       "      <td>NaN</td>\n",
       "      <td>NaN</td>\n",
       "      <td>NaN</td>\n",
       "    </tr>\n",
       "    <tr>\n",
       "      <th>...</th>\n",
       "      <td>...</td>\n",
       "      <td>...</td>\n",
       "      <td>...</td>\n",
       "      <td>...</td>\n",
       "      <td>...</td>\n",
       "      <td>...</td>\n",
       "      <td>...</td>\n",
       "    </tr>\n",
       "    <tr>\n",
       "      <th>49</th>\n",
       "      <td>18.04</td>\n",
       "      <td>3.00</td>\n",
       "      <td>Male</td>\n",
       "      <td>No</td>\n",
       "      <td>Sun</td>\n",
       "      <td>Dinner</td>\n",
       "      <td>2.0</td>\n",
       "    </tr>\n",
       "    <tr>\n",
       "      <th>44</th>\n",
       "      <td>NaN</td>\n",
       "      <td>NaN</td>\n",
       "      <td>NaN</td>\n",
       "      <td>NaN</td>\n",
       "      <td>NaN</td>\n",
       "      <td>NaN</td>\n",
       "      <td>NaN</td>\n",
       "    </tr>\n",
       "    <tr>\n",
       "      <th>52</th>\n",
       "      <td>34.81</td>\n",
       "      <td>5.20</td>\n",
       "      <td>Female</td>\n",
       "      <td>No</td>\n",
       "      <td>Sun</td>\n",
       "      <td>Dinner</td>\n",
       "      <td>4.0</td>\n",
       "    </tr>\n",
       "    <tr>\n",
       "      <th>1</th>\n",
       "      <td>10.34</td>\n",
       "      <td>1.66</td>\n",
       "      <td>Male</td>\n",
       "      <td>No</td>\n",
       "      <td>Sun</td>\n",
       "      <td>Dinner</td>\n",
       "      <td>3.0</td>\n",
       "    </tr>\n",
       "    <tr>\n",
       "      <th>189</th>\n",
       "      <td>NaN</td>\n",
       "      <td>NaN</td>\n",
       "      <td>NaN</td>\n",
       "      <td>NaN</td>\n",
       "      <td>NaN</td>\n",
       "      <td>NaN</td>\n",
       "      <td>NaN</td>\n",
       "    </tr>\n",
       "  </tbody>\n",
       "</table>\n",
       "<p>122 rows × 7 columns</p>\n",
       "</div>"
      ],
      "text/plain": [
       "     total_bill   tip     sex smoker   day    time  size\n",
       "229       22.12  2.88  Female    Yes   Sat  Dinner   2.0\n",
       "141       34.30  6.70    Male     No  Thur   Lunch   6.0\n",
       "137         NaN   NaN     NaN    NaN   NaN     NaN   NaN\n",
       "208         NaN   NaN     NaN    NaN   NaN     NaN   NaN\n",
       "201         NaN   NaN     NaN    NaN   NaN     NaN   NaN\n",
       "..          ...   ...     ...    ...   ...     ...   ...\n",
       "49        18.04  3.00    Male     No   Sun  Dinner   2.0\n",
       "44          NaN   NaN     NaN    NaN   NaN     NaN   NaN\n",
       "52        34.81  5.20  Female     No   Sun  Dinner   4.0\n",
       "1         10.34  1.66    Male     No   Sun  Dinner   3.0\n",
       "189         NaN   NaN     NaN    NaN   NaN     NaN   NaN\n",
       "\n",
       "[122 rows x 7 columns]"
      ]
     },
     "execution_count": 27,
     "metadata": {},
     "output_type": "execute_result"
    }
   ],
   "source": [
    "# reindex, adopt index of another dataframe,\n",
    "# if the index of the right-hand df is not available inn the left db\n",
    "# the records will be null\n",
    "\n",
    "tips1.reindex(tips2.index)"
   ]
  },
  {
   "cell_type": "code",
   "execution_count": 28,
   "id": "e37f24aa-5991-474f-a207-e17a63ad6aee",
   "metadata": {},
   "outputs": [
    {
     "data": {
      "text/html": [
       "<div>\n",
       "<style scoped>\n",
       "    .dataframe tbody tr th:only-of-type {\n",
       "        vertical-align: middle;\n",
       "    }\n",
       "\n",
       "    .dataframe tbody tr th {\n",
       "        vertical-align: top;\n",
       "    }\n",
       "\n",
       "    .dataframe thead th {\n",
       "        text-align: right;\n",
       "    }\n",
       "</style>\n",
       "<table border=\"1\" class=\"dataframe\">\n",
       "  <thead>\n",
       "    <tr style=\"text-align: right;\">\n",
       "      <th></th>\n",
       "      <th>total_bill</th>\n",
       "      <th>tip</th>\n",
       "      <th>sex</th>\n",
       "      <th>smoker</th>\n",
       "      <th>day</th>\n",
       "      <th>time</th>\n",
       "      <th>size</th>\n",
       "    </tr>\n",
       "  </thead>\n",
       "  <tbody>\n",
       "    <tr>\n",
       "      <th>161</th>\n",
       "      <td>12.66</td>\n",
       "      <td>2.50</td>\n",
       "      <td>Male</td>\n",
       "      <td>No</td>\n",
       "      <td>Sun</td>\n",
       "      <td>Dinner</td>\n",
       "      <td>2</td>\n",
       "    </tr>\n",
       "    <tr>\n",
       "      <th>173</th>\n",
       "      <td>31.85</td>\n",
       "      <td>3.18</td>\n",
       "      <td>Male</td>\n",
       "      <td>Yes</td>\n",
       "      <td>Sun</td>\n",
       "      <td>Dinner</td>\n",
       "      <td>2</td>\n",
       "    </tr>\n",
       "    <tr>\n",
       "      <th>57</th>\n",
       "      <td>26.41</td>\n",
       "      <td>1.50</td>\n",
       "      <td>Female</td>\n",
       "      <td>No</td>\n",
       "      <td>Sat</td>\n",
       "      <td>Dinner</td>\n",
       "      <td>2</td>\n",
       "    </tr>\n",
       "    <tr>\n",
       "      <th>32</th>\n",
       "      <td>15.06</td>\n",
       "      <td>3.00</td>\n",
       "      <td>Female</td>\n",
       "      <td>No</td>\n",
       "      <td>Sat</td>\n",
       "      <td>Dinner</td>\n",
       "      <td>2</td>\n",
       "    </tr>\n",
       "    <tr>\n",
       "      <th>92</th>\n",
       "      <td>5.75</td>\n",
       "      <td>1.00</td>\n",
       "      <td>Female</td>\n",
       "      <td>Yes</td>\n",
       "      <td>Fri</td>\n",
       "      <td>Dinner</td>\n",
       "      <td>2</td>\n",
       "    </tr>\n",
       "  </tbody>\n",
       "</table>\n",
       "</div>"
      ],
      "text/plain": [
       "     total_bill   tip     sex smoker  day    time  size\n",
       "161       12.66  2.50    Male     No  Sun  Dinner     2\n",
       "173       31.85  3.18    Male    Yes  Sun  Dinner     2\n",
       "57        26.41  1.50  Female     No  Sat  Dinner     2\n",
       "32        15.06  3.00  Female     No  Sat  Dinner     2\n",
       "92         5.75  1.00  Female    Yes  Fri  Dinner     2"
      ]
     },
     "execution_count": 28,
     "metadata": {},
     "output_type": "execute_result"
    }
   ],
   "source": [
    "# appendinng more than 2 df\n",
    "\n",
    "tips1.append([tips2, tips]).head()"
   ]
  },
  {
   "cell_type": "code",
   "execution_count": 29,
   "id": "e4708305-3c9d-47c2-96b1-f7a52af19c2b",
   "metadata": {},
   "outputs": [
    {
     "data": {
      "text/html": [
       "<div>\n",
       "<style scoped>\n",
       "    .dataframe tbody tr th:only-of-type {\n",
       "        vertical-align: middle;\n",
       "    }\n",
       "\n",
       "    .dataframe tbody tr th {\n",
       "        vertical-align: top;\n",
       "    }\n",
       "\n",
       "    .dataframe thead th {\n",
       "        text-align: right;\n",
       "    }\n",
       "</style>\n",
       "<table border=\"1\" class=\"dataframe\">\n",
       "  <thead>\n",
       "    <tr style=\"text-align: right;\">\n",
       "      <th></th>\n",
       "      <th>total_bill</th>\n",
       "      <th>tip</th>\n",
       "      <th>sex</th>\n",
       "      <th>smoker</th>\n",
       "      <th>day</th>\n",
       "      <th>time</th>\n",
       "      <th>size</th>\n",
       "    </tr>\n",
       "  </thead>\n",
       "  <tbody>\n",
       "    <tr>\n",
       "      <th>0</th>\n",
       "      <td>12.66</td>\n",
       "      <td>2.50</td>\n",
       "      <td>Male</td>\n",
       "      <td>No</td>\n",
       "      <td>Sun</td>\n",
       "      <td>Dinner</td>\n",
       "      <td>2</td>\n",
       "    </tr>\n",
       "    <tr>\n",
       "      <th>1</th>\n",
       "      <td>31.85</td>\n",
       "      <td>3.18</td>\n",
       "      <td>Male</td>\n",
       "      <td>Yes</td>\n",
       "      <td>Sun</td>\n",
       "      <td>Dinner</td>\n",
       "      <td>2</td>\n",
       "    </tr>\n",
       "    <tr>\n",
       "      <th>2</th>\n",
       "      <td>26.41</td>\n",
       "      <td>1.50</td>\n",
       "      <td>Female</td>\n",
       "      <td>No</td>\n",
       "      <td>Sat</td>\n",
       "      <td>Dinner</td>\n",
       "      <td>2</td>\n",
       "    </tr>\n",
       "    <tr>\n",
       "      <th>3</th>\n",
       "      <td>15.06</td>\n",
       "      <td>3.00</td>\n",
       "      <td>Female</td>\n",
       "      <td>No</td>\n",
       "      <td>Sat</td>\n",
       "      <td>Dinner</td>\n",
       "      <td>2</td>\n",
       "    </tr>\n",
       "    <tr>\n",
       "      <th>4</th>\n",
       "      <td>5.75</td>\n",
       "      <td>1.00</td>\n",
       "      <td>Female</td>\n",
       "      <td>Yes</td>\n",
       "      <td>Fri</td>\n",
       "      <td>Dinner</td>\n",
       "      <td>2</td>\n",
       "    </tr>\n",
       "  </tbody>\n",
       "</table>\n",
       "</div>"
      ],
      "text/plain": [
       "   total_bill   tip     sex smoker  day    time  size\n",
       "0       12.66  2.50    Male     No  Sun  Dinner     2\n",
       "1       31.85  3.18    Male    Yes  Sun  Dinner     2\n",
       "2       26.41  1.50  Female     No  Sat  Dinner     2\n",
       "3       15.06  3.00  Female     No  Sat  Dinner     2\n",
       "4        5.75  1.00  Female    Yes  Fri  Dinner     2"
      ]
     },
     "execution_count": 29,
     "metadata": {},
     "output_type": "execute_result"
    }
   ],
   "source": [
    "# ignore_index \n",
    "\n",
    "pd.concat([tips1, tips2], ignore_index=True).head()"
   ]
  },
  {
   "cell_type": "code",
   "execution_count": 36,
   "id": "8f779c63-fb38-4e92-b890-726f98a19742",
   "metadata": {},
   "outputs": [
    {
     "data": {
      "text/html": [
       "<div>\n",
       "<style scoped>\n",
       "    .dataframe tbody tr th:only-of-type {\n",
       "        vertical-align: middle;\n",
       "    }\n",
       "\n",
       "    .dataframe tbody tr th {\n",
       "        vertical-align: top;\n",
       "    }\n",
       "\n",
       "    .dataframe thead th {\n",
       "        text-align: right;\n",
       "    }\n",
       "</style>\n",
       "<table border=\"1\" class=\"dataframe\">\n",
       "  <thead>\n",
       "    <tr style=\"text-align: right;\">\n",
       "      <th></th>\n",
       "      <th>total_bill_x</th>\n",
       "      <th>tip_x</th>\n",
       "      <th>sex</th>\n",
       "      <th>smoker</th>\n",
       "      <th>day</th>\n",
       "      <th>time</th>\n",
       "      <th>size</th>\n",
       "      <th>total_bill_y</th>\n",
       "      <th>tip_y</th>\n",
       "    </tr>\n",
       "  </thead>\n",
       "  <tbody>\n",
       "    <tr>\n",
       "      <th>0</th>\n",
       "      <td>12.66</td>\n",
       "      <td>2.5</td>\n",
       "      <td>Male</td>\n",
       "      <td>No</td>\n",
       "      <td>Sun</td>\n",
       "      <td>Dinner</td>\n",
       "      <td>2</td>\n",
       "      <td>13.94</td>\n",
       "      <td>3.06</td>\n",
       "    </tr>\n",
       "    <tr>\n",
       "      <th>1</th>\n",
       "      <td>12.66</td>\n",
       "      <td>2.5</td>\n",
       "      <td>Male</td>\n",
       "      <td>No</td>\n",
       "      <td>Sun</td>\n",
       "      <td>Dinner</td>\n",
       "      <td>2</td>\n",
       "      <td>10.27</td>\n",
       "      <td>1.71</td>\n",
       "    </tr>\n",
       "    <tr>\n",
       "      <th>2</th>\n",
       "      <td>12.66</td>\n",
       "      <td>2.5</td>\n",
       "      <td>Male</td>\n",
       "      <td>No</td>\n",
       "      <td>Sun</td>\n",
       "      <td>Dinner</td>\n",
       "      <td>2</td>\n",
       "      <td>14.07</td>\n",
       "      <td>2.50</td>\n",
       "    </tr>\n",
       "    <tr>\n",
       "      <th>3</th>\n",
       "      <td>12.66</td>\n",
       "      <td>2.5</td>\n",
       "      <td>Male</td>\n",
       "      <td>No</td>\n",
       "      <td>Sun</td>\n",
       "      <td>Dinner</td>\n",
       "      <td>2</td>\n",
       "      <td>12.66</td>\n",
       "      <td>2.50</td>\n",
       "    </tr>\n",
       "    <tr>\n",
       "      <th>4</th>\n",
       "      <td>12.66</td>\n",
       "      <td>2.5</td>\n",
       "      <td>Male</td>\n",
       "      <td>No</td>\n",
       "      <td>Sun</td>\n",
       "      <td>Dinner</td>\n",
       "      <td>2</td>\n",
       "      <td>15.04</td>\n",
       "      <td>1.96</td>\n",
       "    </tr>\n",
       "  </tbody>\n",
       "</table>\n",
       "</div>"
      ],
      "text/plain": [
       "   total_bill_x  tip_x   sex smoker  day    time  size  total_bill_y  tip_y\n",
       "0         12.66    2.5  Male     No  Sun  Dinner     2         13.94   3.06\n",
       "1         12.66    2.5  Male     No  Sun  Dinner     2         10.27   1.71\n",
       "2         12.66    2.5  Male     No  Sun  Dinner     2         14.07   2.50\n",
       "3         12.66    2.5  Male     No  Sun  Dinner     2         12.66   2.50\n",
       "4         12.66    2.5  Male     No  Sun  Dinner     2         15.04   1.96"
      ]
     },
     "execution_count": 36,
     "metadata": {},
     "output_type": "execute_result"
    }
   ],
   "source": [
    "# validate = 'one_to_one', 'one_to_many' etc\n",
    "\n",
    "pd.merge(tips1, tips2, on=['sex', 'smoker', 'day', 'time', 'size'], validate='many_to_many').head()"
   ]
  },
  {
   "cell_type": "code",
   "execution_count": 37,
   "id": "dc47834f-2d34-4bff-93ef-954cef6abc93",
   "metadata": {},
   "outputs": [
    {
     "data": {
      "text/html": [
       "<div>\n",
       "<style scoped>\n",
       "    .dataframe tbody tr th:only-of-type {\n",
       "        vertical-align: middle;\n",
       "    }\n",
       "\n",
       "    .dataframe tbody tr th {\n",
       "        vertical-align: top;\n",
       "    }\n",
       "\n",
       "    .dataframe thead th {\n",
       "        text-align: right;\n",
       "    }\n",
       "</style>\n",
       "<table border=\"1\" class=\"dataframe\">\n",
       "  <thead>\n",
       "    <tr style=\"text-align: right;\">\n",
       "      <th></th>\n",
       "      <th>total_bill_x</th>\n",
       "      <th>tip_x</th>\n",
       "      <th>sex</th>\n",
       "      <th>smoker</th>\n",
       "      <th>day</th>\n",
       "      <th>time</th>\n",
       "      <th>size</th>\n",
       "      <th>total_bill_y</th>\n",
       "      <th>tip_y</th>\n",
       "      <th>indic_col</th>\n",
       "    </tr>\n",
       "  </thead>\n",
       "  <tbody>\n",
       "    <tr>\n",
       "      <th>0</th>\n",
       "      <td>12.66</td>\n",
       "      <td>2.5</td>\n",
       "      <td>Male</td>\n",
       "      <td>No</td>\n",
       "      <td>Sun</td>\n",
       "      <td>Dinner</td>\n",
       "      <td>2</td>\n",
       "      <td>13.94</td>\n",
       "      <td>3.06</td>\n",
       "      <td>both</td>\n",
       "    </tr>\n",
       "    <tr>\n",
       "      <th>1</th>\n",
       "      <td>12.66</td>\n",
       "      <td>2.5</td>\n",
       "      <td>Male</td>\n",
       "      <td>No</td>\n",
       "      <td>Sun</td>\n",
       "      <td>Dinner</td>\n",
       "      <td>2</td>\n",
       "      <td>10.27</td>\n",
       "      <td>1.71</td>\n",
       "      <td>both</td>\n",
       "    </tr>\n",
       "    <tr>\n",
       "      <th>2</th>\n",
       "      <td>12.66</td>\n",
       "      <td>2.5</td>\n",
       "      <td>Male</td>\n",
       "      <td>No</td>\n",
       "      <td>Sun</td>\n",
       "      <td>Dinner</td>\n",
       "      <td>2</td>\n",
       "      <td>14.07</td>\n",
       "      <td>2.50</td>\n",
       "      <td>both</td>\n",
       "    </tr>\n",
       "    <tr>\n",
       "      <th>3</th>\n",
       "      <td>12.66</td>\n",
       "      <td>2.5</td>\n",
       "      <td>Male</td>\n",
       "      <td>No</td>\n",
       "      <td>Sun</td>\n",
       "      <td>Dinner</td>\n",
       "      <td>2</td>\n",
       "      <td>12.66</td>\n",
       "      <td>2.50</td>\n",
       "      <td>both</td>\n",
       "    </tr>\n",
       "    <tr>\n",
       "      <th>4</th>\n",
       "      <td>12.66</td>\n",
       "      <td>2.5</td>\n",
       "      <td>Male</td>\n",
       "      <td>No</td>\n",
       "      <td>Sun</td>\n",
       "      <td>Dinner</td>\n",
       "      <td>2</td>\n",
       "      <td>15.04</td>\n",
       "      <td>1.96</td>\n",
       "      <td>both</td>\n",
       "    </tr>\n",
       "  </tbody>\n",
       "</table>\n",
       "</div>"
      ],
      "text/plain": [
       "   total_bill_x  tip_x   sex smoker  day    time  size  total_bill_y  tip_y  \\\n",
       "0         12.66    2.5  Male     No  Sun  Dinner     2         13.94   3.06   \n",
       "1         12.66    2.5  Male     No  Sun  Dinner     2         10.27   1.71   \n",
       "2         12.66    2.5  Male     No  Sun  Dinner     2         14.07   2.50   \n",
       "3         12.66    2.5  Male     No  Sun  Dinner     2         12.66   2.50   \n",
       "4         12.66    2.5  Male     No  Sun  Dinner     2         15.04   1.96   \n",
       "\n",
       "  indic_col  \n",
       "0      both  \n",
       "1      both  \n",
       "2      both  \n",
       "3      both  \n",
       "4      both  "
      ]
     },
     "execution_count": 37,
     "metadata": {},
     "output_type": "execute_result"
    }
   ],
   "source": [
    "# indicator, most helpful when how='outer'\n",
    "\n",
    "pd.merge(tips1, tips2, on=['sex', 'smoker', 'day', 'time', 'size'], indicator='indic_col').head()"
   ]
  },
  {
   "cell_type": "code",
   "execution_count": 44,
   "id": "377c08f4-f244-49e4-9b17-74eb2e7953cb",
   "metadata": {},
   "outputs": [
    {
     "data": {
      "text/html": [
       "<div>\n",
       "<style scoped>\n",
       "    .dataframe tbody tr th:only-of-type {\n",
       "        vertical-align: middle;\n",
       "    }\n",
       "\n",
       "    .dataframe tbody tr th {\n",
       "        vertical-align: top;\n",
       "    }\n",
       "\n",
       "    .dataframe thead th {\n",
       "        text-align: right;\n",
       "    }\n",
       "</style>\n",
       "<table border=\"1\" class=\"dataframe\">\n",
       "  <thead>\n",
       "    <tr style=\"text-align: right;\">\n",
       "      <th></th>\n",
       "      <th>A</th>\n",
       "      <th>B</th>\n",
       "    </tr>\n",
       "  </thead>\n",
       "  <tbody>\n",
       "    <tr>\n",
       "      <th>0</th>\n",
       "      <td>NaN</td>\n",
       "      <td>7.0</td>\n",
       "    </tr>\n",
       "    <tr>\n",
       "      <th>1</th>\n",
       "      <td>999.0</td>\n",
       "      <td>NaN</td>\n",
       "    </tr>\n",
       "  </tbody>\n",
       "</table>\n",
       "</div>"
      ],
      "text/plain": [
       "       A    B\n",
       "0    NaN  7.0\n",
       "1  999.0  NaN"
      ]
     },
     "execution_count": 44,
     "metadata": {},
     "output_type": "execute_result"
    }
   ],
   "source": [
    "# combine_first\n",
    "\n",
    "df1 = pd.DataFrame({\n",
    "    \"A\": [np.nan, 999],\n",
    "    \"B\": [7, np.nan]\n",
    "})\n",
    "df1.head()"
   ]
  },
  {
   "cell_type": "code",
   "execution_count": 45,
   "id": "fc22bb2a-2f1f-45da-9a16-1d7e6a6752bf",
   "metadata": {},
   "outputs": [
    {
     "data": {
      "text/html": [
       "<div>\n",
       "<style scoped>\n",
       "    .dataframe tbody tr th:only-of-type {\n",
       "        vertical-align: middle;\n",
       "    }\n",
       "\n",
       "    .dataframe tbody tr th {\n",
       "        vertical-align: top;\n",
       "    }\n",
       "\n",
       "    .dataframe thead th {\n",
       "        text-align: right;\n",
       "    }\n",
       "</style>\n",
       "<table border=\"1\" class=\"dataframe\">\n",
       "  <thead>\n",
       "    <tr style=\"text-align: right;\">\n",
       "      <th></th>\n",
       "      <th>A</th>\n",
       "      <th>B</th>\n",
       "    </tr>\n",
       "  </thead>\n",
       "  <tbody>\n",
       "    <tr>\n",
       "      <th>0</th>\n",
       "      <td>NaN</td>\n",
       "      <td>777</td>\n",
       "    </tr>\n",
       "    <tr>\n",
       "      <th>1</th>\n",
       "      <td>1.0</td>\n",
       "      <td>8687</td>\n",
       "    </tr>\n",
       "  </tbody>\n",
       "</table>\n",
       "</div>"
      ],
      "text/plain": [
       "     A     B\n",
       "0  NaN   777\n",
       "1  1.0  8687"
      ]
     },
     "execution_count": 45,
     "metadata": {},
     "output_type": "execute_result"
    }
   ],
   "source": [
    "df2 = pd.DataFrame({\n",
    "    \"A\": [np.nan, 1],\n",
    "    \"B\": [777, 8687]\n",
    "})\n",
    "df2.head()"
   ]
  },
  {
   "cell_type": "code",
   "execution_count": 46,
   "id": "0e121662-4fe8-44ec-926e-e8220db3bb32",
   "metadata": {},
   "outputs": [
    {
     "data": {
      "text/html": [
       "<div>\n",
       "<style scoped>\n",
       "    .dataframe tbody tr th:only-of-type {\n",
       "        vertical-align: middle;\n",
       "    }\n",
       "\n",
       "    .dataframe tbody tr th {\n",
       "        vertical-align: top;\n",
       "    }\n",
       "\n",
       "    .dataframe thead th {\n",
       "        text-align: right;\n",
       "    }\n",
       "</style>\n",
       "<table border=\"1\" class=\"dataframe\">\n",
       "  <thead>\n",
       "    <tr style=\"text-align: right;\">\n",
       "      <th></th>\n",
       "      <th>A</th>\n",
       "      <th>B</th>\n",
       "    </tr>\n",
       "  </thead>\n",
       "  <tbody>\n",
       "    <tr>\n",
       "      <th>0</th>\n",
       "      <td>NaN</td>\n",
       "      <td>7.0</td>\n",
       "    </tr>\n",
       "    <tr>\n",
       "      <th>1</th>\n",
       "      <td>999.0</td>\n",
       "      <td>8687.0</td>\n",
       "    </tr>\n",
       "  </tbody>\n",
       "</table>\n",
       "</div>"
      ],
      "text/plain": [
       "       A       B\n",
       "0    NaN     7.0\n",
       "1  999.0  8687.0"
      ]
     },
     "execution_count": 46,
     "metadata": {},
     "output_type": "execute_result"
    }
   ],
   "source": [
    "# NaN in the df1 is replaced with non-null value in df2\n",
    "\n",
    "df1.combine_first(df2)"
   ]
  },
  {
   "cell_type": "code",
   "execution_count": 47,
   "id": "bfea733f-22e7-4159-8b05-481629cf9b87",
   "metadata": {},
   "outputs": [
    {
     "data": {
      "text/html": [
       "<div>\n",
       "<style scoped>\n",
       "    .dataframe tbody tr th:only-of-type {\n",
       "        vertical-align: middle;\n",
       "    }\n",
       "\n",
       "    .dataframe tbody tr th {\n",
       "        vertical-align: top;\n",
       "    }\n",
       "\n",
       "    .dataframe thead th {\n",
       "        text-align: right;\n",
       "    }\n",
       "</style>\n",
       "<table border=\"1\" class=\"dataframe\">\n",
       "  <thead>\n",
       "    <tr style=\"text-align: right;\">\n",
       "      <th></th>\n",
       "      <th>A</th>\n",
       "      <th>B</th>\n",
       "    </tr>\n",
       "  </thead>\n",
       "  <tbody>\n",
       "    <tr>\n",
       "      <th>0</th>\n",
       "      <td>NaN</td>\n",
       "      <td>777.0</td>\n",
       "    </tr>\n",
       "    <tr>\n",
       "      <th>1</th>\n",
       "      <td>1.0</td>\n",
       "      <td>8687.0</td>\n",
       "    </tr>\n",
       "  </tbody>\n",
       "</table>\n",
       "</div>"
      ],
      "text/plain": [
       "     A       B\n",
       "0  NaN   777.0\n",
       "1  1.0  8687.0"
      ]
     },
     "execution_count": 47,
     "metadata": {},
     "output_type": "execute_result"
    }
   ],
   "source": [
    "# updates the non-null values as well\n",
    "\n",
    "df1.update(df2)\n",
    "df1.head()"
   ]
  },
  {
   "cell_type": "markdown",
   "id": "87e8b7d2-927d-447f-baed-6a427486199e",
   "metadata": {
    "tags": []
   },
   "source": [
    "### P10 - Pivot, stack, unstack"
   ]
  },
  {
   "cell_type": "code",
   "execution_count": 51,
   "id": "b87b275e-37f9-4d05-b8c5-ecd3a083a092",
   "metadata": {},
   "outputs": [
    {
     "data": {
      "text/html": [
       "<div>\n",
       "<style scoped>\n",
       "    .dataframe tbody tr th:only-of-type {\n",
       "        vertical-align: middle;\n",
       "    }\n",
       "\n",
       "    .dataframe tbody tr th {\n",
       "        vertical-align: top;\n",
       "    }\n",
       "\n",
       "    .dataframe thead th {\n",
       "        text-align: right;\n",
       "    }\n",
       "</style>\n",
       "<table border=\"1\" class=\"dataframe\">\n",
       "  <thead>\n",
       "    <tr style=\"text-align: right;\">\n",
       "      <th></th>\n",
       "      <th>month</th>\n",
       "      <th>day</th>\n",
       "      <th>A</th>\n",
       "      <th>B</th>\n",
       "    </tr>\n",
       "  </thead>\n",
       "  <tbody>\n",
       "    <tr>\n",
       "      <th>0</th>\n",
       "      <td>jan</td>\n",
       "      <td>mon</td>\n",
       "      <td>1</td>\n",
       "      <td>10</td>\n",
       "    </tr>\n",
       "    <tr>\n",
       "      <th>1</th>\n",
       "      <td>jan</td>\n",
       "      <td>wed</td>\n",
       "      <td>2</td>\n",
       "      <td>20</td>\n",
       "    </tr>\n",
       "    <tr>\n",
       "      <th>2</th>\n",
       "      <td>jan</td>\n",
       "      <td>thu</td>\n",
       "      <td>3</td>\n",
       "      <td>30</td>\n",
       "    </tr>\n",
       "    <tr>\n",
       "      <th>3</th>\n",
       "      <td>mar</td>\n",
       "      <td>mon</td>\n",
       "      <td>4</td>\n",
       "      <td>40</td>\n",
       "    </tr>\n",
       "    <tr>\n",
       "      <th>4</th>\n",
       "      <td>mar</td>\n",
       "      <td>wed</td>\n",
       "      <td>5</td>\n",
       "      <td>50</td>\n",
       "    </tr>\n",
       "  </tbody>\n",
       "</table>\n",
       "</div>"
      ],
      "text/plain": [
       "  month  day  A   B\n",
       "0   jan  mon  1  10\n",
       "1   jan  wed  2  20\n",
       "2   jan  thu  3  30\n",
       "3   mar  mon  4  40\n",
       "4   mar  wed  5  50"
      ]
     },
     "execution_count": 51,
     "metadata": {},
     "output_type": "execute_result"
    }
   ],
   "source": [
    "df1 = pd.DataFrame({\n",
    "    'month': ['jan', 'jan', 'jan', 'mar', 'mar', 'mar', 'dec'],\n",
    "    'day': ['mon', 'wed', 'thu', 'mon', 'wed', 'thu', 'mon'],\n",
    "    'A': [1, 2, 3, 4, 5, 6, 7],\n",
    "    'B': [10, 20, 30, 40, 50, 60, 70],\n",
    "})\n",
    "\n",
    "df1.head()"
   ]
  },
  {
   "cell_type": "code",
   "execution_count": 59,
   "id": "07c9102e-ab12-48ec-9c57-4e5e8092ecc6",
   "metadata": {},
   "outputs": [
    {
     "data": {
      "text/html": [
       "<div>\n",
       "<style scoped>\n",
       "    .dataframe tbody tr th:only-of-type {\n",
       "        vertical-align: middle;\n",
       "    }\n",
       "\n",
       "    .dataframe tbody tr th {\n",
       "        vertical-align: top;\n",
       "    }\n",
       "\n",
       "    .dataframe thead th {\n",
       "        text-align: right;\n",
       "    }\n",
       "</style>\n",
       "<table border=\"1\" class=\"dataframe\">\n",
       "  <thead>\n",
       "    <tr style=\"text-align: right;\">\n",
       "      <th></th>\n",
       "      <th></th>\n",
       "      <th>day</th>\n",
       "      <th>time</th>\n",
       "      <th>harvest</th>\n",
       "      <th>seed</th>\n",
       "    </tr>\n",
       "    <tr>\n",
       "      <th>weather</th>\n",
       "      <th>geology</th>\n",
       "      <th></th>\n",
       "      <th></th>\n",
       "      <th></th>\n",
       "      <th></th>\n",
       "    </tr>\n",
       "  </thead>\n",
       "  <tbody>\n",
       "    <tr>\n",
       "      <th rowspan=\"2\" valign=\"top\">rain</th>\n",
       "      <th>stone</th>\n",
       "      <td>sun</td>\n",
       "      <td>morning</td>\n",
       "      <td>1</td>\n",
       "      <td>12</td>\n",
       "    </tr>\n",
       "    <tr>\n",
       "      <th>river</th>\n",
       "      <td>sun</td>\n",
       "      <td>evening</td>\n",
       "      <td>2</td>\n",
       "      <td>23</td>\n",
       "    </tr>\n",
       "    <tr>\n",
       "      <th rowspan=\"2\" valign=\"top\">wind</th>\n",
       "      <th>stone</th>\n",
       "      <td>tue</td>\n",
       "      <td>morning</td>\n",
       "      <td>3</td>\n",
       "      <td>34</td>\n",
       "    </tr>\n",
       "    <tr>\n",
       "      <th>river</th>\n",
       "      <td>tue</td>\n",
       "      <td>evening</td>\n",
       "      <td>4</td>\n",
       "      <td>45</td>\n",
       "    </tr>\n",
       "  </tbody>\n",
       "</table>\n",
       "</div>"
      ],
      "text/plain": [
       "                 day     time  harvest  seed\n",
       "weather geology                             \n",
       "rain    stone    sun  morning        1    12\n",
       "        river    sun  evening        2    23\n",
       "wind    stone    tue  morning        3    34\n",
       "        river    tue  evening        4    45"
      ]
     },
     "execution_count": 59,
     "metadata": {},
     "output_type": "execute_result"
    }
   ],
   "source": [
    "tuple_list1 = list(zip(\n",
    "    ['rain', 'rain', 'wind', 'wind'],\n",
    "    ['stone', 'river', 'stone', 'river']\n",
    "))\n",
    "\n",
    "index2 = pd.MultiIndex.from_tuples(tuple_list1, names=['weather', 'geology'])\n",
    "\n",
    "df2 = pd.DataFrame(\n",
    "    {\n",
    "        'day': ['sun', 'sun', 'tue', 'tue'],\n",
    "        'time': ['morning', 'evening', 'morning', 'evening'],\n",
    "        'harvest': [1, 2, 3, 4],\n",
    "        'seed': [12, 23, 34, 45]\n",
    "    },\n",
    "    index=index2\n",
    ")\n",
    "\n",
    "df2.head()"
   ]
  },
  {
   "cell_type": "code",
   "execution_count": 61,
   "id": "7209a2ac-7e78-4de8-baa3-a679c2833cf9",
   "metadata": {},
   "outputs": [
    {
     "data": {
      "text/html": [
       "<div>\n",
       "<style scoped>\n",
       "    .dataframe tbody tr th:only-of-type {\n",
       "        vertical-align: middle;\n",
       "    }\n",
       "\n",
       "    .dataframe tbody tr th {\n",
       "        vertical-align: top;\n",
       "    }\n",
       "\n",
       "    .dataframe thead th {\n",
       "        text-align: right;\n",
       "    }\n",
       "</style>\n",
       "<table border=\"1\" class=\"dataframe\">\n",
       "  <thead>\n",
       "    <tr style=\"text-align: right;\">\n",
       "      <th></th>\n",
       "      <th></th>\n",
       "      <th>Z</th>\n",
       "    </tr>\n",
       "  </thead>\n",
       "  <tbody>\n",
       "    <tr>\n",
       "      <th rowspan=\"2\" valign=\"top\">3</th>\n",
       "      <th>9</th>\n",
       "      <td>0.509486</td>\n",
       "    </tr>\n",
       "    <tr>\n",
       "      <th>0</th>\n",
       "      <td>-0.649687</td>\n",
       "    </tr>\n",
       "    <tr>\n",
       "      <th rowspan=\"2\" valign=\"top\">1</th>\n",
       "      <th>9</th>\n",
       "      <td>-1.143977</td>\n",
       "    </tr>\n",
       "    <tr>\n",
       "      <th>0</th>\n",
       "      <td>1.596885</td>\n",
       "    </tr>\n",
       "  </tbody>\n",
       "</table>\n",
       "</div>"
      ],
      "text/plain": [
       "            Z\n",
       "3 9  0.509486\n",
       "  0 -0.649687\n",
       "1 9 -1.143977\n",
       "  0  1.596885"
      ]
     },
     "execution_count": 61,
     "metadata": {},
     "output_type": "execute_result"
    }
   ],
   "source": [
    "index3 = pd.MultiIndex.from_product([[3, 1], [9, 0]])\n",
    "df3 = pd.DataFrame(np.random.randn(4), index=index3, columns=[\"Z\"])\n",
    "df3.head()"
   ]
  },
  {
   "cell_type": "code",
   "execution_count": 65,
   "id": "cd1e9d7c-7cf0-4b82-8f0d-501f03d8de99",
   "metadata": {},
   "outputs": [
    {
     "data": {
      "text/html": [
       "<div>\n",
       "<style scoped>\n",
       "    .dataframe tbody tr th:only-of-type {\n",
       "        vertical-align: middle;\n",
       "    }\n",
       "\n",
       "    .dataframe tbody tr th {\n",
       "        vertical-align: top;\n",
       "    }\n",
       "\n",
       "    .dataframe thead th {\n",
       "        text-align: right;\n",
       "    }\n",
       "</style>\n",
       "<table border=\"1\" class=\"dataframe\">\n",
       "  <thead>\n",
       "    <tr style=\"text-align: right;\">\n",
       "      <th></th>\n",
       "      <th></th>\n",
       "      <th></th>\n",
       "      <th>A</th>\n",
       "      <th>B</th>\n",
       "    </tr>\n",
       "    <tr>\n",
       "      <th>Forest</th>\n",
       "      <th>Farm</th>\n",
       "      <th>Weather</th>\n",
       "      <th></th>\n",
       "      <th></th>\n",
       "    </tr>\n",
       "  </thead>\n",
       "  <tbody>\n",
       "    <tr>\n",
       "      <th rowspan=\"3\" valign=\"top\">tree</th>\n",
       "      <th rowspan=\"2\" valign=\"top\">plant</th>\n",
       "      <th>rain</th>\n",
       "      <td>1</td>\n",
       "      <td>55</td>\n",
       "    </tr>\n",
       "    <tr>\n",
       "      <th>cloud</th>\n",
       "      <td>2</td>\n",
       "      <td>66</td>\n",
       "    </tr>\n",
       "    <tr>\n",
       "      <th>soil</th>\n",
       "      <th>rain</th>\n",
       "      <td>3</td>\n",
       "      <td>77</td>\n",
       "    </tr>\n",
       "    <tr>\n",
       "      <th rowspan=\"3\" valign=\"top\">leaves</th>\n",
       "      <th>soil</th>\n",
       "      <th>cloud</th>\n",
       "      <td>4</td>\n",
       "      <td>88</td>\n",
       "    </tr>\n",
       "    <tr>\n",
       "      <th rowspan=\"2\" valign=\"top\">fruit</th>\n",
       "      <th>rain</th>\n",
       "      <td>5</td>\n",
       "      <td>99</td>\n",
       "    </tr>\n",
       "    <tr>\n",
       "      <th>cloud</th>\n",
       "      <td>6</td>\n",
       "      <td>100</td>\n",
       "    </tr>\n",
       "  </tbody>\n",
       "</table>\n",
       "</div>"
      ],
      "text/plain": [
       "                      A    B\n",
       "Forest Farm  Weather        \n",
       "tree   plant rain     1   55\n",
       "             cloud    2   66\n",
       "       soil  rain     3   77\n",
       "leaves soil  cloud    4   88\n",
       "       fruit rain     5   99\n",
       "             cloud    6  100"
      ]
     },
     "execution_count": 65,
     "metadata": {},
     "output_type": "execute_result"
    }
   ],
   "source": [
    "tuple_index4 = list(zip(\n",
    "    ['tree', 'tree', 'tree', 'leaves', 'leaves', 'leaves'],\n",
    "    ['plant', 'plant', 'soil', 'soil', 'fruit', 'fruit'],\n",
    "    ['rain', 'cloud', 'rain', 'cloud', 'rain', 'cloud'],\n",
    "))\n",
    "\n",
    "index4 = pd.MultiIndex.from_tuples(tuple_index4, names=['Forest', 'Farm', 'Weather'])\n",
    "df4 = pd.DataFrame(\n",
    "    {\n",
    "        'A': [1, 2, 3, 4, 5, 6],\n",
    "        'B': [55, 66, 77, 88, 99, 100],\n",
    "    },\n",
    "    index=index4\n",
    ")\n",
    "df4.head(6)"
   ]
  },
  {
   "cell_type": "code",
   "execution_count": 72,
   "id": "68fdccfc-a18f-49e9-b5f7-e6ee7d9030d3",
   "metadata": {},
   "outputs": [
    {
     "data": {
      "text/html": [
       "<div>\n",
       "<style scoped>\n",
       "    .dataframe tbody tr th:only-of-type {\n",
       "        vertical-align: middle;\n",
       "    }\n",
       "\n",
       "    .dataframe tbody tr th {\n",
       "        vertical-align: top;\n",
       "    }\n",
       "\n",
       "    .dataframe thead tr th {\n",
       "        text-align: left;\n",
       "    }\n",
       "\n",
       "    .dataframe thead tr:last-of-type th {\n",
       "        text-align: right;\n",
       "    }\n",
       "</style>\n",
       "<table border=\"1\" class=\"dataframe\">\n",
       "  <thead>\n",
       "    <tr>\n",
       "      <th></th>\n",
       "      <th>vehicle</th>\n",
       "      <th>car</th>\n",
       "      <th colspan=\"2\" halign=\"left\">truck</th>\n",
       "      <th>car</th>\n",
       "    </tr>\n",
       "    <tr>\n",
       "      <th></th>\n",
       "      <th>fuel</th>\n",
       "      <th>petrol</th>\n",
       "      <th>diesel</th>\n",
       "      <th>diesel</th>\n",
       "      <th>petrol</th>\n",
       "    </tr>\n",
       "    <tr>\n",
       "      <th>transp</th>\n",
       "      <th>freq</th>\n",
       "      <th></th>\n",
       "      <th></th>\n",
       "      <th></th>\n",
       "      <th></th>\n",
       "    </tr>\n",
       "  </thead>\n",
       "  <tbody>\n",
       "    <tr>\n",
       "      <th rowspan=\"2\" valign=\"top\">tar_road</th>\n",
       "      <th>one_way</th>\n",
       "      <td>17</td>\n",
       "      <td>11</td>\n",
       "      <td>19</td>\n",
       "      <td>23</td>\n",
       "    </tr>\n",
       "    <tr>\n",
       "      <th>two_way</th>\n",
       "      <td>26</td>\n",
       "      <td>21</td>\n",
       "      <td>10</td>\n",
       "      <td>14</td>\n",
       "    </tr>\n",
       "    <tr>\n",
       "      <th rowspan=\"2\" valign=\"top\">concrete_road</th>\n",
       "      <th>one_way</th>\n",
       "      <td>15</td>\n",
       "      <td>11</td>\n",
       "      <td>21</td>\n",
       "      <td>24</td>\n",
       "    </tr>\n",
       "    <tr>\n",
       "      <th>two_way</th>\n",
       "      <td>25</td>\n",
       "      <td>16</td>\n",
       "      <td>23</td>\n",
       "      <td>16</td>\n",
       "    </tr>\n",
       "    <tr>\n",
       "      <th>gravel_road</th>\n",
       "      <th>one_way</th>\n",
       "      <td>26</td>\n",
       "      <td>13</td>\n",
       "      <td>17</td>\n",
       "      <td>17</td>\n",
       "    </tr>\n",
       "  </tbody>\n",
       "</table>\n",
       "</div>"
      ],
      "text/plain": [
       "vehicle                  car  truck           car\n",
       "fuel                  petrol diesel diesel petrol\n",
       "transp        freq                               \n",
       "tar_road      one_way     17     11     19     23\n",
       "              two_way     26     21     10     14\n",
       "concrete_road one_way     15     11     21     24\n",
       "              two_way     25     16     23     16\n",
       "gravel_road   one_way     26     13     17     17"
      ]
     },
     "execution_count": 72,
     "metadata": {},
     "output_type": "execute_result"
    }
   ],
   "source": [
    "columns = pd.MultiIndex.from_tuples([\n",
    "    ('car', 'petrol'),\n",
    "    ('truck', 'diesel'),\n",
    "    ('truck', 'diesel'),\n",
    "    ('car', 'petrol')],\n",
    "    names=['vehicle', 'fuel']\n",
    ")\n",
    "\n",
    "index = pd.MultiIndex.from_product(\n",
    "    [\n",
    "        ('tar_road', 'concrete_road', 'gravel_road', 'mud_road'),\n",
    "        ('one_way', 'two_way')\n",
    "    ],\n",
    "    names=['transp', 'freq']\n",
    ")\n",
    "\n",
    "df5 = pd.DataFrame(\n",
    "    np.random.randint(10, 30, (8, 4)),\n",
    "    columns=columns,\n",
    "    index=index\n",
    ")\n",
    "df5.head()"
   ]
  },
  {
   "cell_type": "code",
   "execution_count": 77,
   "id": "04f79885-97fe-4a56-8013-e7a2a95c82a4",
   "metadata": {},
   "outputs": [
    {
     "data": {
      "text/html": [
       "<div>\n",
       "<style scoped>\n",
       "    .dataframe tbody tr th:only-of-type {\n",
       "        vertical-align: middle;\n",
       "    }\n",
       "\n",
       "    .dataframe tbody tr th {\n",
       "        vertical-align: top;\n",
       "    }\n",
       "\n",
       "    .dataframe thead th {\n",
       "        text-align: right;\n",
       "    }\n",
       "</style>\n",
       "<table border=\"1\" class=\"dataframe\">\n",
       "  <thead>\n",
       "    <tr style=\"text-align: right;\">\n",
       "      <th></th>\n",
       "      <th>month</th>\n",
       "      <th>week</th>\n",
       "      <th>suger_sold</th>\n",
       "      <th>salt_sold</th>\n",
       "    </tr>\n",
       "  </thead>\n",
       "  <tbody>\n",
       "    <tr>\n",
       "      <th>0</th>\n",
       "      <td>jan</td>\n",
       "      <td>first</td>\n",
       "      <td>10</td>\n",
       "      <td>22</td>\n",
       "    </tr>\n",
       "    <tr>\n",
       "      <th>1</th>\n",
       "      <td>jan</td>\n",
       "      <td>first</td>\n",
       "      <td>5</td>\n",
       "      <td>44</td>\n",
       "    </tr>\n",
       "    <tr>\n",
       "      <th>2</th>\n",
       "      <td>jan</td>\n",
       "      <td>first</td>\n",
       "      <td>20</td>\n",
       "      <td>55</td>\n",
       "    </tr>\n",
       "    <tr>\n",
       "      <th>3</th>\n",
       "      <td>jan</td>\n",
       "      <td>second</td>\n",
       "      <td>11</td>\n",
       "      <td>44</td>\n",
       "    </tr>\n",
       "    <tr>\n",
       "      <th>4</th>\n",
       "      <td>jan</td>\n",
       "      <td>second</td>\n",
       "      <td>19</td>\n",
       "      <td>66</td>\n",
       "    </tr>\n",
       "  </tbody>\n",
       "</table>\n",
       "</div>"
      ],
      "text/plain": [
       "  month    week  suger_sold  salt_sold\n",
       "0   jan   first          10         22\n",
       "1   jan   first           5         44\n",
       "2   jan   first          20         55\n",
       "3   jan  second          11         44\n",
       "4   jan  second          19         66"
      ]
     },
     "execution_count": 77,
     "metadata": {},
     "output_type": "execute_result"
    }
   ],
   "source": [
    "df6 = pd.DataFrame({\n",
    "    'month': ['jan', 'jan', 'jan', 'jan', 'jan', 'feb', 'feb', 'feb', 'feb', 'feb'],\n",
    "    'week': ['first', 'first', 'first', 'second', 'second', 'first', 'first', 'first', 'second', 'second'],\n",
    "    'suger_sold': [10, 5, 20, 11, 19, 34, 54, 23, 12, 29],\n",
    "    'salt_sold': [22, 44, 55, 44, 66, 33, 55, 67, 33, 56],\n",
    "})\n",
    "\n",
    "df6.head()"
   ]
  },
  {
   "cell_type": "markdown",
   "id": "df0c52b3-2968-4b2a-97e8-f754aa4eeb66",
   "metadata": {},
   "source": [
    "#### pivot"
   ]
  },
  {
   "cell_type": "code",
   "execution_count": 76,
   "id": "679264ab-5868-488b-8f38-6eab76fe8537",
   "metadata": {},
   "outputs": [
    {
     "data": {
      "text/html": [
       "<div>\n",
       "<style scoped>\n",
       "    .dataframe tbody tr th:only-of-type {\n",
       "        vertical-align: middle;\n",
       "    }\n",
       "\n",
       "    .dataframe tbody tr th {\n",
       "        vertical-align: top;\n",
       "    }\n",
       "\n",
       "    .dataframe thead th {\n",
       "        text-align: right;\n",
       "    }\n",
       "</style>\n",
       "<table border=\"1\" class=\"dataframe\">\n",
       "  <thead>\n",
       "    <tr style=\"text-align: right;\">\n",
       "      <th></th>\n",
       "      <th>month</th>\n",
       "      <th>day</th>\n",
       "      <th>A</th>\n",
       "      <th>B</th>\n",
       "    </tr>\n",
       "  </thead>\n",
       "  <tbody>\n",
       "    <tr>\n",
       "      <th>0</th>\n",
       "      <td>jan</td>\n",
       "      <td>mon</td>\n",
       "      <td>1</td>\n",
       "      <td>10</td>\n",
       "    </tr>\n",
       "    <tr>\n",
       "      <th>1</th>\n",
       "      <td>jan</td>\n",
       "      <td>wed</td>\n",
       "      <td>2</td>\n",
       "      <td>20</td>\n",
       "    </tr>\n",
       "    <tr>\n",
       "      <th>2</th>\n",
       "      <td>jan</td>\n",
       "      <td>thu</td>\n",
       "      <td>3</td>\n",
       "      <td>30</td>\n",
       "    </tr>\n",
       "    <tr>\n",
       "      <th>3</th>\n",
       "      <td>mar</td>\n",
       "      <td>mon</td>\n",
       "      <td>4</td>\n",
       "      <td>40</td>\n",
       "    </tr>\n",
       "    <tr>\n",
       "      <th>4</th>\n",
       "      <td>mar</td>\n",
       "      <td>wed</td>\n",
       "      <td>5</td>\n",
       "      <td>50</td>\n",
       "    </tr>\n",
       "    <tr>\n",
       "      <th>5</th>\n",
       "      <td>mar</td>\n",
       "      <td>thu</td>\n",
       "      <td>6</td>\n",
       "      <td>60</td>\n",
       "    </tr>\n",
       "    <tr>\n",
       "      <th>6</th>\n",
       "      <td>dec</td>\n",
       "      <td>mon</td>\n",
       "      <td>7</td>\n",
       "      <td>70</td>\n",
       "    </tr>\n",
       "  </tbody>\n",
       "</table>\n",
       "</div>"
      ],
      "text/plain": [
       "  month  day  A   B\n",
       "0   jan  mon  1  10\n",
       "1   jan  wed  2  20\n",
       "2   jan  thu  3  30\n",
       "3   mar  mon  4  40\n",
       "4   mar  wed  5  50\n",
       "5   mar  thu  6  60\n",
       "6   dec  mon  7  70"
      ]
     },
     "execution_count": 76,
     "metadata": {},
     "output_type": "execute_result"
    }
   ],
   "source": [
    "df1"
   ]
  },
  {
   "cell_type": "code",
   "execution_count": 81,
   "id": "1f04dd62-57e9-4302-8727-5bb58b65c578",
   "metadata": {},
   "outputs": [
    {
     "data": {
      "text/html": [
       "<div>\n",
       "<style scoped>\n",
       "    .dataframe tbody tr th:only-of-type {\n",
       "        vertical-align: middle;\n",
       "    }\n",
       "\n",
       "    .dataframe tbody tr th {\n",
       "        vertical-align: top;\n",
       "    }\n",
       "\n",
       "    .dataframe thead tr th {\n",
       "        text-align: left;\n",
       "    }\n",
       "\n",
       "    .dataframe thead tr:last-of-type th {\n",
       "        text-align: right;\n",
       "    }\n",
       "</style>\n",
       "<table border=\"1\" class=\"dataframe\">\n",
       "  <thead>\n",
       "    <tr>\n",
       "      <th></th>\n",
       "      <th colspan=\"3\" halign=\"left\">A</th>\n",
       "      <th colspan=\"3\" halign=\"left\">B</th>\n",
       "    </tr>\n",
       "    <tr>\n",
       "      <th>day</th>\n",
       "      <th>mon</th>\n",
       "      <th>thu</th>\n",
       "      <th>wed</th>\n",
       "      <th>mon</th>\n",
       "      <th>thu</th>\n",
       "      <th>wed</th>\n",
       "    </tr>\n",
       "    <tr>\n",
       "      <th>month</th>\n",
       "      <th></th>\n",
       "      <th></th>\n",
       "      <th></th>\n",
       "      <th></th>\n",
       "      <th></th>\n",
       "      <th></th>\n",
       "    </tr>\n",
       "  </thead>\n",
       "  <tbody>\n",
       "    <tr>\n",
       "      <th>dec</th>\n",
       "      <td>7.0</td>\n",
       "      <td>NaN</td>\n",
       "      <td>NaN</td>\n",
       "      <td>70.0</td>\n",
       "      <td>NaN</td>\n",
       "      <td>NaN</td>\n",
       "    </tr>\n",
       "    <tr>\n",
       "      <th>jan</th>\n",
       "      <td>1.0</td>\n",
       "      <td>3.0</td>\n",
       "      <td>2.0</td>\n",
       "      <td>10.0</td>\n",
       "      <td>30.0</td>\n",
       "      <td>20.0</td>\n",
       "    </tr>\n",
       "    <tr>\n",
       "      <th>mar</th>\n",
       "      <td>4.0</td>\n",
       "      <td>6.0</td>\n",
       "      <td>5.0</td>\n",
       "      <td>40.0</td>\n",
       "      <td>60.0</td>\n",
       "      <td>50.0</td>\n",
       "    </tr>\n",
       "  </tbody>\n",
       "</table>\n",
       "</div>"
      ],
      "text/plain": [
       "         A               B            \n",
       "day    mon  thu  wed   mon   thu   wed\n",
       "month                                 \n",
       "dec    7.0  NaN  NaN  70.0   NaN   NaN\n",
       "jan    1.0  3.0  2.0  10.0  30.0  20.0\n",
       "mar    4.0  6.0  5.0  40.0  60.0  50.0"
      ]
     },
     "execution_count": 81,
     "metadata": {},
     "output_type": "execute_result"
    }
   ],
   "source": [
    "df1_pivot = df1.pivot(index='month', columns='day', values=['A', 'B'])\n",
    "df1_pivot"
   ]
  },
  {
   "cell_type": "code",
   "execution_count": 83,
   "id": "f3ae8773-643a-4faa-844c-77a4a1e3d131",
   "metadata": {},
   "outputs": [
    {
     "data": {
      "text/html": [
       "<div>\n",
       "<style scoped>\n",
       "    .dataframe tbody tr th:only-of-type {\n",
       "        vertical-align: middle;\n",
       "    }\n",
       "\n",
       "    .dataframe tbody tr th {\n",
       "        vertical-align: top;\n",
       "    }\n",
       "\n",
       "    .dataframe thead th {\n",
       "        text-align: right;\n",
       "    }\n",
       "</style>\n",
       "<table border=\"1\" class=\"dataframe\">\n",
       "  <thead>\n",
       "    <tr style=\"text-align: right;\">\n",
       "      <th>day</th>\n",
       "      <th>mon</th>\n",
       "      <th>thu</th>\n",
       "      <th>wed</th>\n",
       "    </tr>\n",
       "    <tr>\n",
       "      <th>month</th>\n",
       "      <th></th>\n",
       "      <th></th>\n",
       "      <th></th>\n",
       "    </tr>\n",
       "  </thead>\n",
       "  <tbody>\n",
       "    <tr>\n",
       "      <th>dec</th>\n",
       "      <td>70.0</td>\n",
       "      <td>NaN</td>\n",
       "      <td>NaN</td>\n",
       "    </tr>\n",
       "    <tr>\n",
       "      <th>jan</th>\n",
       "      <td>10.0</td>\n",
       "      <td>30.0</td>\n",
       "      <td>20.0</td>\n",
       "    </tr>\n",
       "    <tr>\n",
       "      <th>mar</th>\n",
       "      <td>40.0</td>\n",
       "      <td>60.0</td>\n",
       "      <td>50.0</td>\n",
       "    </tr>\n",
       "  </tbody>\n",
       "</table>\n",
       "</div>"
      ],
      "text/plain": [
       "day     mon   thu   wed\n",
       "month                  \n",
       "dec    70.0   NaN   NaN\n",
       "jan    10.0  30.0  20.0\n",
       "mar    40.0  60.0  50.0"
      ]
     },
     "execution_count": 83,
     "metadata": {},
     "output_type": "execute_result"
    }
   ],
   "source": [
    "df1_pivot['B']"
   ]
  },
  {
   "cell_type": "markdown",
   "id": "d379c358-d39b-41a0-97a3-7086c4b4ee08",
   "metadata": {},
   "source": [
    "#### stack"
   ]
  },
  {
   "cell_type": "code",
   "execution_count": 85,
   "id": "c53cfd30-2e8d-4444-bddf-e8cd0ce1297c",
   "metadata": {},
   "outputs": [
    {
     "data": {
      "text/html": [
       "<div>\n",
       "<style scoped>\n",
       "    .dataframe tbody tr th:only-of-type {\n",
       "        vertical-align: middle;\n",
       "    }\n",
       "\n",
       "    .dataframe tbody tr th {\n",
       "        vertical-align: top;\n",
       "    }\n",
       "\n",
       "    .dataframe thead th {\n",
       "        text-align: right;\n",
       "    }\n",
       "</style>\n",
       "<table border=\"1\" class=\"dataframe\">\n",
       "  <thead>\n",
       "    <tr style=\"text-align: right;\">\n",
       "      <th></th>\n",
       "      <th></th>\n",
       "      <th>day</th>\n",
       "      <th>time</th>\n",
       "      <th>harvest</th>\n",
       "      <th>seed</th>\n",
       "    </tr>\n",
       "    <tr>\n",
       "      <th>weather</th>\n",
       "      <th>geology</th>\n",
       "      <th></th>\n",
       "      <th></th>\n",
       "      <th></th>\n",
       "      <th></th>\n",
       "    </tr>\n",
       "  </thead>\n",
       "  <tbody>\n",
       "    <tr>\n",
       "      <th rowspan=\"2\" valign=\"top\">rain</th>\n",
       "      <th>stone</th>\n",
       "      <td>sun</td>\n",
       "      <td>morning</td>\n",
       "      <td>1</td>\n",
       "      <td>12</td>\n",
       "    </tr>\n",
       "    <tr>\n",
       "      <th>river</th>\n",
       "      <td>sun</td>\n",
       "      <td>evening</td>\n",
       "      <td>2</td>\n",
       "      <td>23</td>\n",
       "    </tr>\n",
       "    <tr>\n",
       "      <th rowspan=\"2\" valign=\"top\">wind</th>\n",
       "      <th>stone</th>\n",
       "      <td>tue</td>\n",
       "      <td>morning</td>\n",
       "      <td>3</td>\n",
       "      <td>34</td>\n",
       "    </tr>\n",
       "    <tr>\n",
       "      <th>river</th>\n",
       "      <td>tue</td>\n",
       "      <td>evening</td>\n",
       "      <td>4</td>\n",
       "      <td>45</td>\n",
       "    </tr>\n",
       "  </tbody>\n",
       "</table>\n",
       "</div>"
      ],
      "text/plain": [
       "                 day     time  harvest  seed\n",
       "weather geology                             \n",
       "rain    stone    sun  morning        1    12\n",
       "        river    sun  evening        2    23\n",
       "wind    stone    tue  morning        3    34\n",
       "        river    tue  evening        4    45"
      ]
     },
     "execution_count": 85,
     "metadata": {},
     "output_type": "execute_result"
    }
   ],
   "source": [
    "df2"
   ]
  },
  {
   "cell_type": "code",
   "execution_count": 105,
   "id": "72177138-01b8-497b-9037-c4f5b2e9c847",
   "metadata": {},
   "outputs": [
    {
     "data": {
      "text/plain": [
       "weather  geology         \n",
       "rain     stone    day            sun\n",
       "                  time       morning\n",
       "                  harvest          1\n",
       "                  seed            12\n",
       "         river    day            sun\n",
       "                  time       evening\n",
       "                  harvest          2\n",
       "                  seed            23\n",
       "wind     stone    day            tue\n",
       "                  time       morning\n",
       "                  harvest          3\n",
       "                  seed            34\n",
       "         river    day            tue\n",
       "                  time       evening\n",
       "                  harvest          4\n",
       "                  seed            45\n",
       "dtype: object"
      ]
     },
     "execution_count": 105,
     "metadata": {},
     "output_type": "execute_result"
    }
   ],
   "source": [
    "# level \n",
    "\n",
    "df2_stacked = df2.stack(level=0)\n",
    "df2_stacked"
   ]
  },
  {
   "cell_type": "code",
   "execution_count": 107,
   "id": "9e71f544-7713-4232-9a6e-542fe9ef06de",
   "metadata": {},
   "outputs": [
    {
     "data": {
      "text/html": [
       "<div>\n",
       "<style scoped>\n",
       "    .dataframe tbody tr th:only-of-type {\n",
       "        vertical-align: middle;\n",
       "    }\n",
       "\n",
       "    .dataframe tbody tr th {\n",
       "        vertical-align: top;\n",
       "    }\n",
       "\n",
       "    .dataframe thead th {\n",
       "        text-align: right;\n",
       "    }\n",
       "</style>\n",
       "<table border=\"1\" class=\"dataframe\">\n",
       "  <thead>\n",
       "    <tr style=\"text-align: right;\">\n",
       "      <th></th>\n",
       "      <th>weather</th>\n",
       "      <th>rain</th>\n",
       "      <th>wind</th>\n",
       "    </tr>\n",
       "    <tr>\n",
       "      <th>geology</th>\n",
       "      <th></th>\n",
       "      <th></th>\n",
       "      <th></th>\n",
       "    </tr>\n",
       "  </thead>\n",
       "  <tbody>\n",
       "    <tr>\n",
       "      <th rowspan=\"4\" valign=\"top\">river</th>\n",
       "      <th>day</th>\n",
       "      <td>sun</td>\n",
       "      <td>tue</td>\n",
       "    </tr>\n",
       "    <tr>\n",
       "      <th>time</th>\n",
       "      <td>evening</td>\n",
       "      <td>evening</td>\n",
       "    </tr>\n",
       "    <tr>\n",
       "      <th>harvest</th>\n",
       "      <td>2</td>\n",
       "      <td>4</td>\n",
       "    </tr>\n",
       "    <tr>\n",
       "      <th>seed</th>\n",
       "      <td>23</td>\n",
       "      <td>45</td>\n",
       "    </tr>\n",
       "    <tr>\n",
       "      <th rowspan=\"4\" valign=\"top\">stone</th>\n",
       "      <th>day</th>\n",
       "      <td>sun</td>\n",
       "      <td>tue</td>\n",
       "    </tr>\n",
       "    <tr>\n",
       "      <th>time</th>\n",
       "      <td>morning</td>\n",
       "      <td>morning</td>\n",
       "    </tr>\n",
       "    <tr>\n",
       "      <th>harvest</th>\n",
       "      <td>1</td>\n",
       "      <td>3</td>\n",
       "    </tr>\n",
       "    <tr>\n",
       "      <th>seed</th>\n",
       "      <td>12</td>\n",
       "      <td>34</td>\n",
       "    </tr>\n",
       "  </tbody>\n",
       "</table>\n",
       "</div>"
      ],
      "text/plain": [
       "weather             rain     wind\n",
       "geology                          \n",
       "river   day          sun      tue\n",
       "        time     evening  evening\n",
       "        harvest        2        4\n",
       "        seed          23       45\n",
       "stone   day          sun      tue\n",
       "        time     morning  morning\n",
       "        harvest        1        3\n",
       "        seed          12       34"
      ]
     },
     "execution_count": 107,
     "metadata": {},
     "output_type": "execute_result"
    }
   ],
   "source": [
    "# level \n",
    "\n",
    "df2_stacked.unstack(level='weather')   # or level = 0"
   ]
  },
  {
   "cell_type": "markdown",
   "id": "f27893e7-b223-4f0a-b770-a9c8a1b9013e",
   "metadata": {},
   "source": [
    "#### sort during stack/unstack"
   ]
  },
  {
   "cell_type": "code",
   "execution_count": 109,
   "id": "700c2040-ce5b-4fd4-98dc-7b09cf4768ef",
   "metadata": {},
   "outputs": [
    {
     "data": {
      "text/html": [
       "<div>\n",
       "<style scoped>\n",
       "    .dataframe tbody tr th:only-of-type {\n",
       "        vertical-align: middle;\n",
       "    }\n",
       "\n",
       "    .dataframe tbody tr th {\n",
       "        vertical-align: top;\n",
       "    }\n",
       "\n",
       "    .dataframe thead th {\n",
       "        text-align: right;\n",
       "    }\n",
       "</style>\n",
       "<table border=\"1\" class=\"dataframe\">\n",
       "  <thead>\n",
       "    <tr style=\"text-align: right;\">\n",
       "      <th></th>\n",
       "      <th></th>\n",
       "      <th>Z</th>\n",
       "    </tr>\n",
       "  </thead>\n",
       "  <tbody>\n",
       "    <tr>\n",
       "      <th rowspan=\"2\" valign=\"top\">3</th>\n",
       "      <th>9</th>\n",
       "      <td>0.509486</td>\n",
       "    </tr>\n",
       "    <tr>\n",
       "      <th>0</th>\n",
       "      <td>-0.649687</td>\n",
       "    </tr>\n",
       "    <tr>\n",
       "      <th rowspan=\"2\" valign=\"top\">1</th>\n",
       "      <th>9</th>\n",
       "      <td>-1.143977</td>\n",
       "    </tr>\n",
       "    <tr>\n",
       "      <th>0</th>\n",
       "      <td>1.596885</td>\n",
       "    </tr>\n",
       "  </tbody>\n",
       "</table>\n",
       "</div>"
      ],
      "text/plain": [
       "            Z\n",
       "3 9  0.509486\n",
       "  0 -0.649687\n",
       "1 9 -1.143977\n",
       "  0  1.596885"
      ]
     },
     "execution_count": 109,
     "metadata": {},
     "output_type": "execute_result"
    }
   ],
   "source": [
    "df3"
   ]
  },
  {
   "cell_type": "code",
   "execution_count": 111,
   "id": "cc347d5f-5c20-44af-83c4-9ae6faeeb24e",
   "metadata": {},
   "outputs": [
    {
     "data": {
      "text/html": [
       "<div>\n",
       "<style scoped>\n",
       "    .dataframe tbody tr th:only-of-type {\n",
       "        vertical-align: middle;\n",
       "    }\n",
       "\n",
       "    .dataframe tbody tr th {\n",
       "        vertical-align: top;\n",
       "    }\n",
       "\n",
       "    .dataframe thead th {\n",
       "        text-align: right;\n",
       "    }\n",
       "</style>\n",
       "<table border=\"1\" class=\"dataframe\">\n",
       "  <thead>\n",
       "    <tr style=\"text-align: right;\">\n",
       "      <th></th>\n",
       "      <th></th>\n",
       "      <th>Z</th>\n",
       "    </tr>\n",
       "  </thead>\n",
       "  <tbody>\n",
       "    <tr>\n",
       "      <th rowspan=\"2\" valign=\"top\">1</th>\n",
       "      <th>0</th>\n",
       "      <td>1.596885</td>\n",
       "    </tr>\n",
       "    <tr>\n",
       "      <th>9</th>\n",
       "      <td>-1.143977</td>\n",
       "    </tr>\n",
       "    <tr>\n",
       "      <th rowspan=\"2\" valign=\"top\">3</th>\n",
       "      <th>0</th>\n",
       "      <td>-0.649687</td>\n",
       "    </tr>\n",
       "    <tr>\n",
       "      <th>9</th>\n",
       "      <td>0.509486</td>\n",
       "    </tr>\n",
       "  </tbody>\n",
       "</table>\n",
       "</div>"
      ],
      "text/plain": [
       "            Z\n",
       "1 0  1.596885\n",
       "  9 -1.143977\n",
       "3 0 -0.649687\n",
       "  9  0.509486"
      ]
     },
     "execution_count": 111,
     "metadata": {},
     "output_type": "execute_result"
    }
   ],
   "source": [
    "# indeces are sorted after unstach/stack\n",
    "\n",
    "df3.unstack().stack()"
   ]
  },
  {
   "cell_type": "markdown",
   "id": "3e25e1a3-7e4a-4989-9d3b-b3a939bc0ddc",
   "metadata": {},
   "source": [
    "#### pivot_table"
   ]
  },
  {
   "cell_type": "code",
   "execution_count": 123,
   "id": "2475f751-d412-476d-84a1-c9e6c14cd678",
   "metadata": {},
   "outputs": [
    {
     "data": {
      "text/html": [
       "<div>\n",
       "<style scoped>\n",
       "    .dataframe tbody tr th:only-of-type {\n",
       "        vertical-align: middle;\n",
       "    }\n",
       "\n",
       "    .dataframe tbody tr th {\n",
       "        vertical-align: top;\n",
       "    }\n",
       "\n",
       "    .dataframe thead th {\n",
       "        text-align: right;\n",
       "    }\n",
       "</style>\n",
       "<table border=\"1\" class=\"dataframe\">\n",
       "  <thead>\n",
       "    <tr style=\"text-align: right;\">\n",
       "      <th></th>\n",
       "      <th>month</th>\n",
       "      <th>week</th>\n",
       "      <th>suger_sold</th>\n",
       "      <th>salt_sold</th>\n",
       "    </tr>\n",
       "  </thead>\n",
       "  <tbody>\n",
       "    <tr>\n",
       "      <th>0</th>\n",
       "      <td>jan</td>\n",
       "      <td>first</td>\n",
       "      <td>10</td>\n",
       "      <td>22</td>\n",
       "    </tr>\n",
       "    <tr>\n",
       "      <th>1</th>\n",
       "      <td>jan</td>\n",
       "      <td>first</td>\n",
       "      <td>5</td>\n",
       "      <td>44</td>\n",
       "    </tr>\n",
       "    <tr>\n",
       "      <th>2</th>\n",
       "      <td>jan</td>\n",
       "      <td>first</td>\n",
       "      <td>20</td>\n",
       "      <td>55</td>\n",
       "    </tr>\n",
       "    <tr>\n",
       "      <th>3</th>\n",
       "      <td>jan</td>\n",
       "      <td>second</td>\n",
       "      <td>11</td>\n",
       "      <td>44</td>\n",
       "    </tr>\n",
       "    <tr>\n",
       "      <th>4</th>\n",
       "      <td>jan</td>\n",
       "      <td>second</td>\n",
       "      <td>19</td>\n",
       "      <td>66</td>\n",
       "    </tr>\n",
       "    <tr>\n",
       "      <th>5</th>\n",
       "      <td>feb</td>\n",
       "      <td>first</td>\n",
       "      <td>34</td>\n",
       "      <td>33</td>\n",
       "    </tr>\n",
       "    <tr>\n",
       "      <th>6</th>\n",
       "      <td>feb</td>\n",
       "      <td>first</td>\n",
       "      <td>54</td>\n",
       "      <td>55</td>\n",
       "    </tr>\n",
       "    <tr>\n",
       "      <th>7</th>\n",
       "      <td>feb</td>\n",
       "      <td>first</td>\n",
       "      <td>23</td>\n",
       "      <td>67</td>\n",
       "    </tr>\n",
       "    <tr>\n",
       "      <th>8</th>\n",
       "      <td>feb</td>\n",
       "      <td>second</td>\n",
       "      <td>12</td>\n",
       "      <td>33</td>\n",
       "    </tr>\n",
       "    <tr>\n",
       "      <th>9</th>\n",
       "      <td>feb</td>\n",
       "      <td>second</td>\n",
       "      <td>29</td>\n",
       "      <td>56</td>\n",
       "    </tr>\n",
       "  </tbody>\n",
       "</table>\n",
       "</div>"
      ],
      "text/plain": [
       "  month    week  suger_sold  salt_sold\n",
       "0   jan   first          10         22\n",
       "1   jan   first           5         44\n",
       "2   jan   first          20         55\n",
       "3   jan  second          11         44\n",
       "4   jan  second          19         66\n",
       "5   feb   first          34         33\n",
       "6   feb   first          54         55\n",
       "7   feb   first          23         67\n",
       "8   feb  second          12         33\n",
       "9   feb  second          29         56"
      ]
     },
     "execution_count": 123,
     "metadata": {},
     "output_type": "execute_result"
    }
   ],
   "source": [
    "df6"
   ]
  },
  {
   "cell_type": "code",
   "execution_count": null,
   "id": "149b8853-05e9-48dd-a8d1-a763a7069900",
   "metadata": {},
   "outputs": [],
   "source": [
    "# index contains duplicate records, cannot reshape\n",
    "\n",
    "df6.pivot(index='month', columns='week', values='suger_sold')"
   ]
  },
  {
   "cell_type": "code",
   "execution_count": 127,
   "id": "050e3b1c-e3ad-4cfd-8501-c435d3150990",
   "metadata": {},
   "outputs": [
    {
     "data": {
      "text/html": [
       "<div>\n",
       "<style scoped>\n",
       "    .dataframe tbody tr th:only-of-type {\n",
       "        vertical-align: middle;\n",
       "    }\n",
       "\n",
       "    .dataframe tbody tr th {\n",
       "        vertical-align: top;\n",
       "    }\n",
       "\n",
       "    .dataframe thead th {\n",
       "        text-align: right;\n",
       "    }\n",
       "</style>\n",
       "<table border=\"1\" class=\"dataframe\">\n",
       "  <thead>\n",
       "    <tr style=\"text-align: right;\">\n",
       "      <th>week</th>\n",
       "      <th>first</th>\n",
       "      <th>second</th>\n",
       "    </tr>\n",
       "    <tr>\n",
       "      <th>month</th>\n",
       "      <th></th>\n",
       "      <th></th>\n",
       "    </tr>\n",
       "  </thead>\n",
       "  <tbody>\n",
       "    <tr>\n",
       "      <th>feb</th>\n",
       "      <td>37.000000</td>\n",
       "      <td>20.5</td>\n",
       "    </tr>\n",
       "    <tr>\n",
       "      <th>jan</th>\n",
       "      <td>11.666667</td>\n",
       "      <td>15.0</td>\n",
       "    </tr>\n",
       "  </tbody>\n",
       "</table>\n",
       "</div>"
      ],
      "text/plain": [
       "week       first  second\n",
       "month                   \n",
       "feb    37.000000    20.5\n",
       "jan    11.666667    15.0"
      ]
     },
     "execution_count": 127,
     "metadata": {},
     "output_type": "execute_result"
    }
   ],
   "source": [
    "# we get mean values! \n",
    "\n",
    "df6.pivot_table(index='month', columns='week', values='suger_sold', aggfunc=np.mean)"
   ]
  },
  {
   "cell_type": "markdown",
   "id": "0bf450f7-1f1a-4905-aa24-62c37d650006",
   "metadata": {
    "tags": []
   },
   "source": [
    "### P11 - Groupby, Melt, Stack, Unstack, Get Dummies"
   ]
  },
  {
   "cell_type": "code",
   "execution_count": 130,
   "id": "458e17e4-b280-419a-b266-dac8ce8ab77c",
   "metadata": {},
   "outputs": [
    {
     "data": {
      "text/html": [
       "<div>\n",
       "<style scoped>\n",
       "    .dataframe tbody tr th:only-of-type {\n",
       "        vertical-align: middle;\n",
       "    }\n",
       "\n",
       "    .dataframe tbody tr th {\n",
       "        vertical-align: top;\n",
       "    }\n",
       "\n",
       "    .dataframe thead th {\n",
       "        text-align: right;\n",
       "    }\n",
       "</style>\n",
       "<table border=\"1\" class=\"dataframe\">\n",
       "  <thead>\n",
       "    <tr style=\"text-align: right;\">\n",
       "      <th></th>\n",
       "      <th>month</th>\n",
       "      <th>day</th>\n",
       "      <th>A</th>\n",
       "      <th>B</th>\n",
       "    </tr>\n",
       "  </thead>\n",
       "  <tbody>\n",
       "    <tr>\n",
       "      <th>0</th>\n",
       "      <td>jan</td>\n",
       "      <td>mon</td>\n",
       "      <td>1</td>\n",
       "      <td>10</td>\n",
       "    </tr>\n",
       "    <tr>\n",
       "      <th>1</th>\n",
       "      <td>jan</td>\n",
       "      <td>wed</td>\n",
       "      <td>2</td>\n",
       "      <td>20</td>\n",
       "    </tr>\n",
       "    <tr>\n",
       "      <th>2</th>\n",
       "      <td>jan</td>\n",
       "      <td>thu</td>\n",
       "      <td>3</td>\n",
       "      <td>30</td>\n",
       "    </tr>\n",
       "    <tr>\n",
       "      <th>3</th>\n",
       "      <td>mar</td>\n",
       "      <td>mon</td>\n",
       "      <td>4</td>\n",
       "      <td>40</td>\n",
       "    </tr>\n",
       "    <tr>\n",
       "      <th>4</th>\n",
       "      <td>mar</td>\n",
       "      <td>wed</td>\n",
       "      <td>5</td>\n",
       "      <td>50</td>\n",
       "    </tr>\n",
       "    <tr>\n",
       "      <th>5</th>\n",
       "      <td>mar</td>\n",
       "      <td>thu</td>\n",
       "      <td>6</td>\n",
       "      <td>60</td>\n",
       "    </tr>\n",
       "  </tbody>\n",
       "</table>\n",
       "</div>"
      ],
      "text/plain": [
       "  month  day  A   B\n",
       "0   jan  mon  1  10\n",
       "1   jan  wed  2  20\n",
       "2   jan  thu  3  30\n",
       "3   mar  mon  4  40\n",
       "4   mar  wed  5  50\n",
       "5   mar  thu  6  60"
      ]
     },
     "execution_count": 130,
     "metadata": {},
     "output_type": "execute_result"
    }
   ],
   "source": [
    "df1 = pd.DataFrame({\n",
    "    'month': ['jan', 'jan', 'jan', 'mar', 'mar', 'mar'],\n",
    "    'day': ['mon', 'wed', 'thu', 'mon', 'wed', 'thu'],\n",
    "    'A': [1, 2, 3, 4, 5, 6],\n",
    "    'B': [10, 20, 30, 40, 50, 60],\n",
    "})\n",
    "\n",
    "df1"
   ]
  },
  {
   "cell_type": "code",
   "execution_count": 131,
   "id": "257b4f50-b8e3-470d-aa3a-304a19953674",
   "metadata": {},
   "outputs": [
    {
     "data": {
      "text/html": [
       "<div>\n",
       "<style scoped>\n",
       "    .dataframe tbody tr th:only-of-type {\n",
       "        vertical-align: middle;\n",
       "    }\n",
       "\n",
       "    .dataframe tbody tr th {\n",
       "        vertical-align: top;\n",
       "    }\n",
       "\n",
       "    .dataframe thead th {\n",
       "        text-align: right;\n",
       "    }\n",
       "</style>\n",
       "<table border=\"1\" class=\"dataframe\">\n",
       "  <thead>\n",
       "    <tr style=\"text-align: right;\">\n",
       "      <th></th>\n",
       "      <th>car1990</th>\n",
       "      <th>car2000</th>\n",
       "      <th>car2010</th>\n",
       "      <th>bike1990</th>\n",
       "      <th>bike2000</th>\n",
       "      <th>bike2010</th>\n",
       "      <th>rating</th>\n",
       "      <th>end_use</th>\n",
       "      <th>surface</th>\n",
       "      <th>id</th>\n",
       "    </tr>\n",
       "  </thead>\n",
       "  <tbody>\n",
       "    <tr>\n",
       "      <th>0</th>\n",
       "      <td>25</td>\n",
       "      <td>22</td>\n",
       "      <td>25</td>\n",
       "      <td>78</td>\n",
       "      <td>78</td>\n",
       "      <td>88</td>\n",
       "      <td>3</td>\n",
       "      <td>race</td>\n",
       "      <td>tar</td>\n",
       "      <td>0</td>\n",
       "    </tr>\n",
       "    <tr>\n",
       "      <th>1</th>\n",
       "      <td>22</td>\n",
       "      <td>23</td>\n",
       "      <td>24</td>\n",
       "      <td>79</td>\n",
       "      <td>79</td>\n",
       "      <td>85</td>\n",
       "      <td>1</td>\n",
       "      <td>commute</td>\n",
       "      <td>concrete</td>\n",
       "      <td>1</td>\n",
       "    </tr>\n",
       "    <tr>\n",
       "      <th>2</th>\n",
       "      <td>23</td>\n",
       "      <td>25</td>\n",
       "      <td>27</td>\n",
       "      <td>67</td>\n",
       "      <td>88</td>\n",
       "      <td>90</td>\n",
       "      <td>3</td>\n",
       "      <td>offroad</td>\n",
       "      <td>gravel</td>\n",
       "      <td>2</td>\n",
       "    </tr>\n",
       "    <tr>\n",
       "      <th>3</th>\n",
       "      <td>20</td>\n",
       "      <td>27</td>\n",
       "      <td>30</td>\n",
       "      <td>66</td>\n",
       "      <td>77</td>\n",
       "      <td>79</td>\n",
       "      <td>2</td>\n",
       "      <td>transport</td>\n",
       "      <td>mixed</td>\n",
       "      <td>3</td>\n",
       "    </tr>\n",
       "  </tbody>\n",
       "</table>\n",
       "</div>"
      ],
      "text/plain": [
       "   car1990  car2000  car2010  bike1990  bike2000  bike2010  rating    end_use  \\\n",
       "0       25       22       25        78        78        88       3       race   \n",
       "1       22       23       24        79        79        85       1    commute   \n",
       "2       23       25       27        67        88        90       3    offroad   \n",
       "3       20       27       30        66        77        79       2  transport   \n",
       "\n",
       "    surface  id  \n",
       "0       tar   0  \n",
       "1  concrete   1  \n",
       "2    gravel   2  \n",
       "3     mixed   3  "
      ]
     },
     "execution_count": 131,
     "metadata": {},
     "output_type": "execute_result"
    }
   ],
   "source": [
    "np.random.seed(9)\n",
    "\n",
    "df7 = pd.DataFrame({\n",
    "    \"car1990\": [25, 22, 23, 20],\n",
    "    \"car2000\": [22, 23, 25, 27],\n",
    "    \"car2010\": [25, 24, 27, 30],\n",
    "    \"bike1990\": [78, 79, 67, 66],\n",
    "    \"bike2000\": [78, 79, 88, 77],\n",
    "    \"bike2010\": [88, 85, 90, 79],\n",
    "    \"rating\": np.random.randint(1, 5, 4),\n",
    "    \"end_use\": [\"race\", \"commute\", \"offroad\", \"transport\"],\n",
    "    \"surface\": [\"tar\", \"concrete\", \"gravel\", \"mixed\"]\n",
    "})\n",
    "\n",
    "df7[\"id\"] = df7.index\n",
    "df7"
   ]
  },
  {
   "cell_type": "markdown",
   "id": "b8337ec7-f5c5-4dd3-af65-4a8d53a980a6",
   "metadata": {},
   "source": [
    "#### melt"
   ]
  },
  {
   "cell_type": "code",
   "execution_count": 134,
   "id": "881672e7-0938-429c-8504-3e1b56bcd5d8",
   "metadata": {},
   "outputs": [
    {
     "data": {
      "text/html": [
       "<div>\n",
       "<style scoped>\n",
       "    .dataframe tbody tr th:only-of-type {\n",
       "        vertical-align: middle;\n",
       "    }\n",
       "\n",
       "    .dataframe tbody tr th {\n",
       "        vertical-align: top;\n",
       "    }\n",
       "\n",
       "    .dataframe thead th {\n",
       "        text-align: right;\n",
       "    }\n",
       "</style>\n",
       "<table border=\"1\" class=\"dataframe\">\n",
       "  <thead>\n",
       "    <tr style=\"text-align: right;\">\n",
       "      <th></th>\n",
       "      <th>month</th>\n",
       "      <th>day</th>\n",
       "      <th>A</th>\n",
       "      <th>B</th>\n",
       "    </tr>\n",
       "  </thead>\n",
       "  <tbody>\n",
       "    <tr>\n",
       "      <th>0</th>\n",
       "      <td>jan</td>\n",
       "      <td>mon</td>\n",
       "      <td>1</td>\n",
       "      <td>10</td>\n",
       "    </tr>\n",
       "    <tr>\n",
       "      <th>1</th>\n",
       "      <td>jan</td>\n",
       "      <td>wed</td>\n",
       "      <td>2</td>\n",
       "      <td>20</td>\n",
       "    </tr>\n",
       "    <tr>\n",
       "      <th>2</th>\n",
       "      <td>jan</td>\n",
       "      <td>thu</td>\n",
       "      <td>3</td>\n",
       "      <td>30</td>\n",
       "    </tr>\n",
       "    <tr>\n",
       "      <th>3</th>\n",
       "      <td>mar</td>\n",
       "      <td>mon</td>\n",
       "      <td>4</td>\n",
       "      <td>40</td>\n",
       "    </tr>\n",
       "    <tr>\n",
       "      <th>4</th>\n",
       "      <td>mar</td>\n",
       "      <td>wed</td>\n",
       "      <td>5</td>\n",
       "      <td>50</td>\n",
       "    </tr>\n",
       "    <tr>\n",
       "      <th>5</th>\n",
       "      <td>mar</td>\n",
       "      <td>thu</td>\n",
       "      <td>6</td>\n",
       "      <td>60</td>\n",
       "    </tr>\n",
       "  </tbody>\n",
       "</table>\n",
       "</div>"
      ],
      "text/plain": [
       "  month  day  A   B\n",
       "0   jan  mon  1  10\n",
       "1   jan  wed  2  20\n",
       "2   jan  thu  3  30\n",
       "3   mar  mon  4  40\n",
       "4   mar  wed  5  50\n",
       "5   mar  thu  6  60"
      ]
     },
     "execution_count": 134,
     "metadata": {},
     "output_type": "execute_result"
    }
   ],
   "source": [
    "df1"
   ]
  },
  {
   "cell_type": "code",
   "execution_count": 136,
   "id": "9b7c2c7a-992c-40b5-84fb-4c64ce797049",
   "metadata": {},
   "outputs": [
    {
     "data": {
      "text/html": [
       "<div>\n",
       "<style scoped>\n",
       "    .dataframe tbody tr th:only-of-type {\n",
       "        vertical-align: middle;\n",
       "    }\n",
       "\n",
       "    .dataframe tbody tr th {\n",
       "        vertical-align: top;\n",
       "    }\n",
       "\n",
       "    .dataframe thead th {\n",
       "        text-align: right;\n",
       "    }\n",
       "</style>\n",
       "<table border=\"1\" class=\"dataframe\">\n",
       "  <thead>\n",
       "    <tr style=\"text-align: right;\">\n",
       "      <th></th>\n",
       "      <th>month</th>\n",
       "      <th>day</th>\n",
       "      <th>chars</th>\n",
       "      <th>value</th>\n",
       "    </tr>\n",
       "  </thead>\n",
       "  <tbody>\n",
       "    <tr>\n",
       "      <th>0</th>\n",
       "      <td>jan</td>\n",
       "      <td>mon</td>\n",
       "      <td>A</td>\n",
       "      <td>1</td>\n",
       "    </tr>\n",
       "    <tr>\n",
       "      <th>1</th>\n",
       "      <td>jan</td>\n",
       "      <td>wed</td>\n",
       "      <td>A</td>\n",
       "      <td>2</td>\n",
       "    </tr>\n",
       "    <tr>\n",
       "      <th>2</th>\n",
       "      <td>jan</td>\n",
       "      <td>thu</td>\n",
       "      <td>A</td>\n",
       "      <td>3</td>\n",
       "    </tr>\n",
       "    <tr>\n",
       "      <th>3</th>\n",
       "      <td>mar</td>\n",
       "      <td>mon</td>\n",
       "      <td>A</td>\n",
       "      <td>4</td>\n",
       "    </tr>\n",
       "    <tr>\n",
       "      <th>4</th>\n",
       "      <td>mar</td>\n",
       "      <td>wed</td>\n",
       "      <td>A</td>\n",
       "      <td>5</td>\n",
       "    </tr>\n",
       "  </tbody>\n",
       "</table>\n",
       "</div>"
      ],
      "text/plain": [
       "  month  day chars  value\n",
       "0   jan  mon     A      1\n",
       "1   jan  wed     A      2\n",
       "2   jan  thu     A      3\n",
       "3   mar  mon     A      4\n",
       "4   mar  wed     A      5"
      ]
     },
     "execution_count": 136,
     "metadata": {},
     "output_type": "execute_result"
    }
   ],
   "source": [
    "df1.melt(id_vars=[\"month\", \"day\"], var_name='chars').head()"
   ]
  },
  {
   "cell_type": "markdown",
   "id": "6eb6802d-07a1-4da4-8d6b-685e69b0bdae",
   "metadata": {},
   "source": [
    "#### wide_to_long"
   ]
  },
  {
   "cell_type": "code",
   "execution_count": 139,
   "id": "b550fcb5-f5c4-4974-af0c-275e3e7838c9",
   "metadata": {},
   "outputs": [
    {
     "data": {
      "text/html": [
       "<div>\n",
       "<style scoped>\n",
       "    .dataframe tbody tr th:only-of-type {\n",
       "        vertical-align: middle;\n",
       "    }\n",
       "\n",
       "    .dataframe tbody tr th {\n",
       "        vertical-align: top;\n",
       "    }\n",
       "\n",
       "    .dataframe thead th {\n",
       "        text-align: right;\n",
       "    }\n",
       "</style>\n",
       "<table border=\"1\" class=\"dataframe\">\n",
       "  <thead>\n",
       "    <tr style=\"text-align: right;\">\n",
       "      <th></th>\n",
       "      <th>car1990</th>\n",
       "      <th>car2000</th>\n",
       "      <th>car2010</th>\n",
       "      <th>bike1990</th>\n",
       "      <th>bike2000</th>\n",
       "      <th>bike2010</th>\n",
       "      <th>rating</th>\n",
       "      <th>end_use</th>\n",
       "      <th>surface</th>\n",
       "      <th>id</th>\n",
       "    </tr>\n",
       "  </thead>\n",
       "  <tbody>\n",
       "    <tr>\n",
       "      <th>0</th>\n",
       "      <td>25</td>\n",
       "      <td>22</td>\n",
       "      <td>25</td>\n",
       "      <td>78</td>\n",
       "      <td>78</td>\n",
       "      <td>88</td>\n",
       "      <td>3</td>\n",
       "      <td>race</td>\n",
       "      <td>tar</td>\n",
       "      <td>0</td>\n",
       "    </tr>\n",
       "    <tr>\n",
       "      <th>1</th>\n",
       "      <td>22</td>\n",
       "      <td>23</td>\n",
       "      <td>24</td>\n",
       "      <td>79</td>\n",
       "      <td>79</td>\n",
       "      <td>85</td>\n",
       "      <td>1</td>\n",
       "      <td>commute</td>\n",
       "      <td>concrete</td>\n",
       "      <td>1</td>\n",
       "    </tr>\n",
       "    <tr>\n",
       "      <th>2</th>\n",
       "      <td>23</td>\n",
       "      <td>25</td>\n",
       "      <td>27</td>\n",
       "      <td>67</td>\n",
       "      <td>88</td>\n",
       "      <td>90</td>\n",
       "      <td>3</td>\n",
       "      <td>offroad</td>\n",
       "      <td>gravel</td>\n",
       "      <td>2</td>\n",
       "    </tr>\n",
       "    <tr>\n",
       "      <th>3</th>\n",
       "      <td>20</td>\n",
       "      <td>27</td>\n",
       "      <td>30</td>\n",
       "      <td>66</td>\n",
       "      <td>77</td>\n",
       "      <td>79</td>\n",
       "      <td>2</td>\n",
       "      <td>transport</td>\n",
       "      <td>mixed</td>\n",
       "      <td>3</td>\n",
       "    </tr>\n",
       "  </tbody>\n",
       "</table>\n",
       "</div>"
      ],
      "text/plain": [
       "   car1990  car2000  car2010  bike1990  bike2000  bike2010  rating    end_use  \\\n",
       "0       25       22       25        78        78        88       3       race   \n",
       "1       22       23       24        79        79        85       1    commute   \n",
       "2       23       25       27        67        88        90       3    offroad   \n",
       "3       20       27       30        66        77        79       2  transport   \n",
       "\n",
       "    surface  id  \n",
       "0       tar   0  \n",
       "1  concrete   1  \n",
       "2    gravel   2  \n",
       "3     mixed   3  "
      ]
     },
     "execution_count": 139,
     "metadata": {},
     "output_type": "execute_result"
    }
   ],
   "source": [
    "df7"
   ]
  },
  {
   "cell_type": "code",
   "execution_count": 150,
   "id": "61012ec9-8d6d-4523-998e-9fdfaef1d70e",
   "metadata": {},
   "outputs": [
    {
     "data": {
      "text/html": [
       "<div>\n",
       "<style scoped>\n",
       "    .dataframe tbody tr th:only-of-type {\n",
       "        vertical-align: middle;\n",
       "    }\n",
       "\n",
       "    .dataframe tbody tr th {\n",
       "        vertical-align: top;\n",
       "    }\n",
       "\n",
       "    .dataframe thead th {\n",
       "        text-align: right;\n",
       "    }\n",
       "</style>\n",
       "<table border=\"1\" class=\"dataframe\">\n",
       "  <thead>\n",
       "    <tr style=\"text-align: right;\">\n",
       "      <th></th>\n",
       "      <th></th>\n",
       "      <th>end_use</th>\n",
       "      <th>surface</th>\n",
       "      <th>rating</th>\n",
       "      <th>car</th>\n",
       "      <th>bike</th>\n",
       "    </tr>\n",
       "    <tr>\n",
       "      <th>id</th>\n",
       "      <th>year</th>\n",
       "      <th></th>\n",
       "      <th></th>\n",
       "      <th></th>\n",
       "      <th></th>\n",
       "      <th></th>\n",
       "    </tr>\n",
       "  </thead>\n",
       "  <tbody>\n",
       "    <tr>\n",
       "      <th>0</th>\n",
       "      <th>1990</th>\n",
       "      <td>race</td>\n",
       "      <td>tar</td>\n",
       "      <td>3</td>\n",
       "      <td>25</td>\n",
       "      <td>78</td>\n",
       "    </tr>\n",
       "    <tr>\n",
       "      <th>1</th>\n",
       "      <th>1990</th>\n",
       "      <td>commute</td>\n",
       "      <td>concrete</td>\n",
       "      <td>1</td>\n",
       "      <td>22</td>\n",
       "      <td>79</td>\n",
       "    </tr>\n",
       "    <tr>\n",
       "      <th>2</th>\n",
       "      <th>1990</th>\n",
       "      <td>offroad</td>\n",
       "      <td>gravel</td>\n",
       "      <td>3</td>\n",
       "      <td>23</td>\n",
       "      <td>67</td>\n",
       "    </tr>\n",
       "    <tr>\n",
       "      <th>3</th>\n",
       "      <th>1990</th>\n",
       "      <td>transport</td>\n",
       "      <td>mixed</td>\n",
       "      <td>2</td>\n",
       "      <td>20</td>\n",
       "      <td>66</td>\n",
       "    </tr>\n",
       "    <tr>\n",
       "      <th>0</th>\n",
       "      <th>2000</th>\n",
       "      <td>race</td>\n",
       "      <td>tar</td>\n",
       "      <td>3</td>\n",
       "      <td>22</td>\n",
       "      <td>78</td>\n",
       "    </tr>\n",
       "  </tbody>\n",
       "</table>\n",
       "</div>"
      ],
      "text/plain": [
       "           end_use   surface  rating  car  bike\n",
       "id year                                        \n",
       "0  1990       race       tar       3   25    78\n",
       "1  1990    commute  concrete       1   22    79\n",
       "2  1990    offroad    gravel       3   23    67\n",
       "3  1990  transport     mixed       2   20    66\n",
       "0  2000       race       tar       3   22    78"
      ]
     },
     "execution_count": 150,
     "metadata": {},
     "output_type": "execute_result"
    }
   ],
   "source": [
    "pd.wide_to_long(df7, stubnames=['car', 'bike'], i='id', j='year').head()"
   ]
  },
  {
   "cell_type": "code",
   "execution_count": 149,
   "id": "289897a9-1ad3-4669-9d45-d6c065c596ed",
   "metadata": {},
   "outputs": [
    {
     "data": {
      "text/html": [
       "<div>\n",
       "<style scoped>\n",
       "    .dataframe tbody tr th:only-of-type {\n",
       "        vertical-align: middle;\n",
       "    }\n",
       "\n",
       "    .dataframe tbody tr th {\n",
       "        vertical-align: top;\n",
       "    }\n",
       "\n",
       "    .dataframe thead tr th {\n",
       "        text-align: left;\n",
       "    }\n",
       "\n",
       "    .dataframe thead tr:last-of-type th {\n",
       "        text-align: right;\n",
       "    }\n",
       "</style>\n",
       "<table border=\"1\" class=\"dataframe\">\n",
       "  <thead>\n",
       "    <tr>\n",
       "      <th></th>\n",
       "      <th>floor</th>\n",
       "      <th colspan=\"2\" halign=\"left\">lower</th>\n",
       "      <th colspan=\"2\" halign=\"left\">upper</th>\n",
       "    </tr>\n",
       "    <tr>\n",
       "      <th></th>\n",
       "      <th>unit</th>\n",
       "      <th>A</th>\n",
       "      <th>B</th>\n",
       "      <th>A</th>\n",
       "      <th>B</th>\n",
       "    </tr>\n",
       "    <tr>\n",
       "      <th>month</th>\n",
       "      <th>day</th>\n",
       "      <th></th>\n",
       "      <th></th>\n",
       "      <th></th>\n",
       "      <th></th>\n",
       "    </tr>\n",
       "  </thead>\n",
       "  <tbody>\n",
       "    <tr>\n",
       "      <th rowspan=\"3\" valign=\"top\">jan</th>\n",
       "      <th>mon</th>\n",
       "      <td>1</td>\n",
       "      <td>10</td>\n",
       "      <td>2</td>\n",
       "      <td>20</td>\n",
       "    </tr>\n",
       "    <tr>\n",
       "      <th>wed</th>\n",
       "      <td>2</td>\n",
       "      <td>20</td>\n",
       "      <td>4</td>\n",
       "      <td>40</td>\n",
       "    </tr>\n",
       "    <tr>\n",
       "      <th>thu</th>\n",
       "      <td>3</td>\n",
       "      <td>30</td>\n",
       "      <td>6</td>\n",
       "      <td>60</td>\n",
       "    </tr>\n",
       "    <tr>\n",
       "      <th rowspan=\"3\" valign=\"top\">mar</th>\n",
       "      <th>mon</th>\n",
       "      <td>4</td>\n",
       "      <td>40</td>\n",
       "      <td>8</td>\n",
       "      <td>80</td>\n",
       "    </tr>\n",
       "    <tr>\n",
       "      <th>wed</th>\n",
       "      <td>5</td>\n",
       "      <td>50</td>\n",
       "      <td>10</td>\n",
       "      <td>100</td>\n",
       "    </tr>\n",
       "    <tr>\n",
       "      <th>thu</th>\n",
       "      <td>6</td>\n",
       "      <td>60</td>\n",
       "      <td>12</td>\n",
       "      <td>120</td>\n",
       "    </tr>\n",
       "  </tbody>\n",
       "</table>\n",
       "</div>"
      ],
      "text/plain": [
       "floor     lower     upper     \n",
       "unit          A   B     A    B\n",
       "month day                     \n",
       "jan   mon     1  10     2   20\n",
       "      wed     2  20     4   40\n",
       "      thu     3  30     6   60\n",
       "mar   mon     4  40     8   80\n",
       "      wed     5  50    10  100\n",
       "      thu     6  60    12  120"
      ]
     },
     "execution_count": 149,
     "metadata": {},
     "output_type": "execute_result"
    }
   ],
   "source": [
    "dfn = df1.copy()\n",
    "dfn['C'] = dfn['A'] * 2\n",
    "dfn['D'] = dfn['B'] * 2\n",
    "\n",
    "dfn = dfn.set_index(['month', 'day'])\n",
    "\n",
    "dfn.columns = pd.MultiIndex.from_product(\n",
    "    [\n",
    "        ('lower', 'upper'),\n",
    "        ('A', 'B'),\n",
    "    ],\n",
    "    names=['floor', 'unit']\n",
    ")\n",
    "\n",
    "dfn"
   ]
  },
  {
   "cell_type": "code",
   "execution_count": 153,
   "id": "52df46c7-5d11-4076-8c2f-6cdbec82b374",
   "metadata": {},
   "outputs": [
    {
     "data": {
      "text/html": [
       "<div>\n",
       "<style scoped>\n",
       "    .dataframe tbody tr th:only-of-type {\n",
       "        vertical-align: middle;\n",
       "    }\n",
       "\n",
       "    .dataframe tbody tr th {\n",
       "        vertical-align: top;\n",
       "    }\n",
       "\n",
       "    .dataframe thead th {\n",
       "        text-align: right;\n",
       "    }\n",
       "</style>\n",
       "<table border=\"1\" class=\"dataframe\">\n",
       "  <thead>\n",
       "    <tr style=\"text-align: right;\">\n",
       "      <th></th>\n",
       "      <th>unit</th>\n",
       "      <th>A</th>\n",
       "      <th>B</th>\n",
       "    </tr>\n",
       "    <tr>\n",
       "      <th>month</th>\n",
       "      <th>day</th>\n",
       "      <th></th>\n",
       "      <th></th>\n",
       "    </tr>\n",
       "  </thead>\n",
       "  <tbody>\n",
       "    <tr>\n",
       "      <th rowspan=\"3\" valign=\"top\">jan</th>\n",
       "      <th>mon</th>\n",
       "      <td>1.5</td>\n",
       "      <td>15.0</td>\n",
       "    </tr>\n",
       "    <tr>\n",
       "      <th>wed</th>\n",
       "      <td>3.0</td>\n",
       "      <td>30.0</td>\n",
       "    </tr>\n",
       "    <tr>\n",
       "      <th>thu</th>\n",
       "      <td>4.5</td>\n",
       "      <td>45.0</td>\n",
       "    </tr>\n",
       "    <tr>\n",
       "      <th rowspan=\"3\" valign=\"top\">mar</th>\n",
       "      <th>mon</th>\n",
       "      <td>6.0</td>\n",
       "      <td>60.0</td>\n",
       "    </tr>\n",
       "    <tr>\n",
       "      <th>wed</th>\n",
       "      <td>7.5</td>\n",
       "      <td>75.0</td>\n",
       "    </tr>\n",
       "    <tr>\n",
       "      <th>thu</th>\n",
       "      <td>9.0</td>\n",
       "      <td>90.0</td>\n",
       "    </tr>\n",
       "  </tbody>\n",
       "</table>\n",
       "</div>"
      ],
      "text/plain": [
       "unit         A     B\n",
       "month day           \n",
       "jan   mon  1.5  15.0\n",
       "      wed  3.0  30.0\n",
       "      thu  4.5  45.0\n",
       "mar   mon  6.0  60.0\n",
       "      wed  7.5  75.0\n",
       "      thu  9.0  90.0"
      ]
     },
     "execution_count": 153,
     "metadata": {},
     "output_type": "execute_result"
    }
   ],
   "source": [
    "# level & axis in groupby\n",
    "\n",
    "dfn.groupby(level=1, axis=1).mean()"
   ]
  },
  {
   "cell_type": "markdown",
   "id": "4c5a9628-b453-40e2-b5d1-57bb52750bbb",
   "metadata": {},
   "source": [
    "#### get_dummies"
   ]
  },
  {
   "cell_type": "code",
   "execution_count": 154,
   "id": "7c4bcd14-89e8-4881-80a4-0f81cd827337",
   "metadata": {},
   "outputs": [
    {
     "data": {
      "text/html": [
       "<div>\n",
       "<style scoped>\n",
       "    .dataframe tbody tr th:only-of-type {\n",
       "        vertical-align: middle;\n",
       "    }\n",
       "\n",
       "    .dataframe tbody tr th {\n",
       "        vertical-align: top;\n",
       "    }\n",
       "\n",
       "    .dataframe thead th {\n",
       "        text-align: right;\n",
       "    }\n",
       "</style>\n",
       "<table border=\"1\" class=\"dataframe\">\n",
       "  <thead>\n",
       "    <tr style=\"text-align: right;\">\n",
       "      <th></th>\n",
       "      <th>month</th>\n",
       "      <th>day</th>\n",
       "      <th>A</th>\n",
       "      <th>B</th>\n",
       "    </tr>\n",
       "  </thead>\n",
       "  <tbody>\n",
       "    <tr>\n",
       "      <th>0</th>\n",
       "      <td>jan</td>\n",
       "      <td>mon</td>\n",
       "      <td>1</td>\n",
       "      <td>10</td>\n",
       "    </tr>\n",
       "    <tr>\n",
       "      <th>1</th>\n",
       "      <td>jan</td>\n",
       "      <td>wed</td>\n",
       "      <td>2</td>\n",
       "      <td>20</td>\n",
       "    </tr>\n",
       "    <tr>\n",
       "      <th>2</th>\n",
       "      <td>jan</td>\n",
       "      <td>thu</td>\n",
       "      <td>3</td>\n",
       "      <td>30</td>\n",
       "    </tr>\n",
       "    <tr>\n",
       "      <th>3</th>\n",
       "      <td>mar</td>\n",
       "      <td>mon</td>\n",
       "      <td>4</td>\n",
       "      <td>40</td>\n",
       "    </tr>\n",
       "    <tr>\n",
       "      <th>4</th>\n",
       "      <td>mar</td>\n",
       "      <td>wed</td>\n",
       "      <td>5</td>\n",
       "      <td>50</td>\n",
       "    </tr>\n",
       "    <tr>\n",
       "      <th>5</th>\n",
       "      <td>mar</td>\n",
       "      <td>thu</td>\n",
       "      <td>6</td>\n",
       "      <td>60</td>\n",
       "    </tr>\n",
       "  </tbody>\n",
       "</table>\n",
       "</div>"
      ],
      "text/plain": [
       "  month  day  A   B\n",
       "0   jan  mon  1  10\n",
       "1   jan  wed  2  20\n",
       "2   jan  thu  3  30\n",
       "3   mar  mon  4  40\n",
       "4   mar  wed  5  50\n",
       "5   mar  thu  6  60"
      ]
     },
     "execution_count": 154,
     "metadata": {},
     "output_type": "execute_result"
    }
   ],
   "source": [
    "df1"
   ]
  },
  {
   "cell_type": "code",
   "execution_count": 161,
   "id": "3598201f-8163-4f63-ac24-58422749bcc8",
   "metadata": {},
   "outputs": [
    {
     "data": {
      "text/html": [
       "<div>\n",
       "<style scoped>\n",
       "    .dataframe tbody tr th:only-of-type {\n",
       "        vertical-align: middle;\n",
       "    }\n",
       "\n",
       "    .dataframe tbody tr th {\n",
       "        vertical-align: top;\n",
       "    }\n",
       "\n",
       "    .dataframe thead th {\n",
       "        text-align: right;\n",
       "    }\n",
       "</style>\n",
       "<table border=\"1\" class=\"dataframe\">\n",
       "  <thead>\n",
       "    <tr style=\"text-align: right;\">\n",
       "      <th></th>\n",
       "      <th>day</th>\n",
       "      <th>A</th>\n",
       "      <th>B</th>\n",
       "      <th>m_jan</th>\n",
       "      <th>m_mar</th>\n",
       "    </tr>\n",
       "  </thead>\n",
       "  <tbody>\n",
       "    <tr>\n",
       "      <th>0</th>\n",
       "      <td>mon</td>\n",
       "      <td>1</td>\n",
       "      <td>10</td>\n",
       "      <td>1</td>\n",
       "      <td>0</td>\n",
       "    </tr>\n",
       "    <tr>\n",
       "      <th>1</th>\n",
       "      <td>wed</td>\n",
       "      <td>2</td>\n",
       "      <td>20</td>\n",
       "      <td>1</td>\n",
       "      <td>0</td>\n",
       "    </tr>\n",
       "    <tr>\n",
       "      <th>2</th>\n",
       "      <td>thu</td>\n",
       "      <td>3</td>\n",
       "      <td>30</td>\n",
       "      <td>1</td>\n",
       "      <td>0</td>\n",
       "    </tr>\n",
       "    <tr>\n",
       "      <th>3</th>\n",
       "      <td>mon</td>\n",
       "      <td>4</td>\n",
       "      <td>40</td>\n",
       "      <td>0</td>\n",
       "      <td>1</td>\n",
       "    </tr>\n",
       "    <tr>\n",
       "      <th>4</th>\n",
       "      <td>wed</td>\n",
       "      <td>5</td>\n",
       "      <td>50</td>\n",
       "      <td>0</td>\n",
       "      <td>1</td>\n",
       "    </tr>\n",
       "    <tr>\n",
       "      <th>5</th>\n",
       "      <td>thu</td>\n",
       "      <td>6</td>\n",
       "      <td>60</td>\n",
       "      <td>0</td>\n",
       "      <td>1</td>\n",
       "    </tr>\n",
       "  </tbody>\n",
       "</table>\n",
       "</div>"
      ],
      "text/plain": [
       "   day  A   B  m_jan  m_mar\n",
       "0  mon  1  10      1      0\n",
       "1  wed  2  20      1      0\n",
       "2  thu  3  30      1      0\n",
       "3  mon  4  40      0      1\n",
       "4  wed  5  50      0      1\n",
       "5  thu  6  60      0      1"
      ]
     },
     "execution_count": 161,
     "metadata": {},
     "output_type": "execute_result"
    }
   ],
   "source": [
    "# get_dummies\n",
    "\n",
    "pd.get_dummies(df1, columns=['month'], prefix='m')"
   ]
  },
  {
   "cell_type": "code",
   "execution_count": 160,
   "id": "bb1bc43c-da14-4336-b564-643e12f3bc4b",
   "metadata": {},
   "outputs": [
    {
     "data": {
      "text/html": [
       "<div>\n",
       "<style scoped>\n",
       "    .dataframe tbody tr th:only-of-type {\n",
       "        vertical-align: middle;\n",
       "    }\n",
       "\n",
       "    .dataframe tbody tr th {\n",
       "        vertical-align: top;\n",
       "    }\n",
       "\n",
       "    .dataframe thead th {\n",
       "        text-align: right;\n",
       "    }\n",
       "</style>\n",
       "<table border=\"1\" class=\"dataframe\">\n",
       "  <thead>\n",
       "    <tr style=\"text-align: right;\">\n",
       "      <th></th>\n",
       "      <th>A</th>\n",
       "      <th>B</th>\n",
       "      <th>m_jan</th>\n",
       "      <th>m_mar</th>\n",
       "      <th>d_mon</th>\n",
       "      <th>d_thu</th>\n",
       "      <th>d_wed</th>\n",
       "    </tr>\n",
       "  </thead>\n",
       "  <tbody>\n",
       "    <tr>\n",
       "      <th>0</th>\n",
       "      <td>1</td>\n",
       "      <td>10</td>\n",
       "      <td>1</td>\n",
       "      <td>0</td>\n",
       "      <td>1</td>\n",
       "      <td>0</td>\n",
       "      <td>0</td>\n",
       "    </tr>\n",
       "    <tr>\n",
       "      <th>1</th>\n",
       "      <td>2</td>\n",
       "      <td>20</td>\n",
       "      <td>1</td>\n",
       "      <td>0</td>\n",
       "      <td>0</td>\n",
       "      <td>0</td>\n",
       "      <td>1</td>\n",
       "    </tr>\n",
       "    <tr>\n",
       "      <th>2</th>\n",
       "      <td>3</td>\n",
       "      <td>30</td>\n",
       "      <td>1</td>\n",
       "      <td>0</td>\n",
       "      <td>0</td>\n",
       "      <td>1</td>\n",
       "      <td>0</td>\n",
       "    </tr>\n",
       "    <tr>\n",
       "      <th>3</th>\n",
       "      <td>4</td>\n",
       "      <td>40</td>\n",
       "      <td>0</td>\n",
       "      <td>1</td>\n",
       "      <td>1</td>\n",
       "      <td>0</td>\n",
       "      <td>0</td>\n",
       "    </tr>\n",
       "    <tr>\n",
       "      <th>4</th>\n",
       "      <td>5</td>\n",
       "      <td>50</td>\n",
       "      <td>0</td>\n",
       "      <td>1</td>\n",
       "      <td>0</td>\n",
       "      <td>0</td>\n",
       "      <td>1</td>\n",
       "    </tr>\n",
       "    <tr>\n",
       "      <th>5</th>\n",
       "      <td>6</td>\n",
       "      <td>60</td>\n",
       "      <td>0</td>\n",
       "      <td>1</td>\n",
       "      <td>0</td>\n",
       "      <td>1</td>\n",
       "      <td>0</td>\n",
       "    </tr>\n",
       "  </tbody>\n",
       "</table>\n",
       "</div>"
      ],
      "text/plain": [
       "   A   B  m_jan  m_mar  d_mon  d_thu  d_wed\n",
       "0  1  10      1      0      1      0      0\n",
       "1  2  20      1      0      0      0      1\n",
       "2  3  30      1      0      0      1      0\n",
       "3  4  40      0      1      1      0      0\n",
       "4  5  50      0      1      0      0      1\n",
       "5  6  60      0      1      0      1      0"
      ]
     },
     "execution_count": 160,
     "metadata": {},
     "output_type": "execute_result"
    }
   ],
   "source": [
    "# multiple cols\n",
    "\n",
    "pd.get_dummies(df1, columns=['month', 'day'], prefix={\"month\": 'm', \"day\": \"d\"})"
   ]
  },
  {
   "cell_type": "code",
   "execution_count": 162,
   "id": "d567c18f-3c41-4975-abc7-7e40f3ca72e9",
   "metadata": {},
   "outputs": [
    {
     "data": {
      "text/html": [
       "<div>\n",
       "<style scoped>\n",
       "    .dataframe tbody tr th:only-of-type {\n",
       "        vertical-align: middle;\n",
       "    }\n",
       "\n",
       "    .dataframe tbody tr th {\n",
       "        vertical-align: top;\n",
       "    }\n",
       "\n",
       "    .dataframe thead th {\n",
       "        text-align: right;\n",
       "    }\n",
       "</style>\n",
       "<table border=\"1\" class=\"dataframe\">\n",
       "  <thead>\n",
       "    <tr style=\"text-align: right;\">\n",
       "      <th></th>\n",
       "      <th>A</th>\n",
       "      <th>B</th>\n",
       "      <th>m_mar</th>\n",
       "      <th>d_thu</th>\n",
       "      <th>d_wed</th>\n",
       "    </tr>\n",
       "  </thead>\n",
       "  <tbody>\n",
       "    <tr>\n",
       "      <th>0</th>\n",
       "      <td>1</td>\n",
       "      <td>10</td>\n",
       "      <td>0</td>\n",
       "      <td>0</td>\n",
       "      <td>0</td>\n",
       "    </tr>\n",
       "    <tr>\n",
       "      <th>1</th>\n",
       "      <td>2</td>\n",
       "      <td>20</td>\n",
       "      <td>0</td>\n",
       "      <td>0</td>\n",
       "      <td>1</td>\n",
       "    </tr>\n",
       "    <tr>\n",
       "      <th>2</th>\n",
       "      <td>3</td>\n",
       "      <td>30</td>\n",
       "      <td>0</td>\n",
       "      <td>1</td>\n",
       "      <td>0</td>\n",
       "    </tr>\n",
       "    <tr>\n",
       "      <th>3</th>\n",
       "      <td>4</td>\n",
       "      <td>40</td>\n",
       "      <td>1</td>\n",
       "      <td>0</td>\n",
       "      <td>0</td>\n",
       "    </tr>\n",
       "    <tr>\n",
       "      <th>4</th>\n",
       "      <td>5</td>\n",
       "      <td>50</td>\n",
       "      <td>1</td>\n",
       "      <td>0</td>\n",
       "      <td>1</td>\n",
       "    </tr>\n",
       "    <tr>\n",
       "      <th>5</th>\n",
       "      <td>6</td>\n",
       "      <td>60</td>\n",
       "      <td>1</td>\n",
       "      <td>1</td>\n",
       "      <td>0</td>\n",
       "    </tr>\n",
       "  </tbody>\n",
       "</table>\n",
       "</div>"
      ],
      "text/plain": [
       "   A   B  m_mar  d_thu  d_wed\n",
       "0  1  10      0      0      0\n",
       "1  2  20      0      0      1\n",
       "2  3  30      0      1      0\n",
       "3  4  40      1      0      0\n",
       "4  5  50      1      0      1\n",
       "5  6  60      1      1      0"
      ]
     },
     "execution_count": 162,
     "metadata": {},
     "output_type": "execute_result"
    }
   ],
   "source": [
    "# drop_first\n",
    "\n",
    "pd.get_dummies(df1, columns=['month', 'day'], prefix={\"month\": 'm', \"day\": \"d\"}, drop_first=True)"
   ]
  },
  {
   "cell_type": "code",
   "execution_count": 163,
   "id": "2af88fba-4610-4f23-ae13-3765ee48f553",
   "metadata": {},
   "outputs": [
    {
     "data": {
      "text/html": [
       "<div>\n",
       "<style scoped>\n",
       "    .dataframe tbody tr th:only-of-type {\n",
       "        vertical-align: middle;\n",
       "    }\n",
       "\n",
       "    .dataframe tbody tr th {\n",
       "        vertical-align: top;\n",
       "    }\n",
       "\n",
       "    .dataframe thead th {\n",
       "        text-align: right;\n",
       "    }\n",
       "</style>\n",
       "<table border=\"1\" class=\"dataframe\">\n",
       "  <thead>\n",
       "    <tr style=\"text-align: right;\">\n",
       "      <th>day</th>\n",
       "      <th>mon</th>\n",
       "      <th>thu</th>\n",
       "      <th>wed</th>\n",
       "    </tr>\n",
       "    <tr>\n",
       "      <th>month</th>\n",
       "      <th></th>\n",
       "      <th></th>\n",
       "      <th></th>\n",
       "    </tr>\n",
       "  </thead>\n",
       "  <tbody>\n",
       "    <tr>\n",
       "      <th>jan</th>\n",
       "      <td>1</td>\n",
       "      <td>3</td>\n",
       "      <td>2</td>\n",
       "    </tr>\n",
       "    <tr>\n",
       "      <th>mar</th>\n",
       "      <td>4</td>\n",
       "      <td>6</td>\n",
       "      <td>5</td>\n",
       "    </tr>\n",
       "  </tbody>\n",
       "</table>\n",
       "</div>"
      ],
      "text/plain": [
       "day    mon  thu  wed\n",
       "month               \n",
       "jan      1    3    2\n",
       "mar      4    6    5"
      ]
     },
     "execution_count": 163,
     "metadata": {},
     "output_type": "execute_result"
    }
   ],
   "source": [
    "# values & aggfunc\n",
    "\n",
    "pd.crosstab(df1['month'], df1['day'], values=df1['A'], aggfunc=sum)"
   ]
  },
  {
   "cell_type": "markdown",
   "id": "9321c8ba-4128-4a07-9854-1dd20628a8e7",
   "metadata": {
    "tags": []
   },
   "source": [
    "### P12 - Strings"
   ]
  },
  {
   "cell_type": "code",
   "execution_count": 164,
   "id": "8d468c81-b85e-4af3-8231-bd979deae3e5",
   "metadata": {},
   "outputs": [
    {
     "data": {
      "text/plain": [
       "0    This is a Sentence\n",
       "1                   NaN\n",
       "2                IS IT?\n",
       "dtype: object"
      ]
     },
     "execution_count": 164,
     "metadata": {},
     "output_type": "execute_result"
    }
   ],
   "source": [
    "x = pd.Series([\"This is a Sentence\", np.nan, 'IS IT?'])\n",
    "x"
   ]
  },
  {
   "cell_type": "code",
   "execution_count": 165,
   "id": "2c15d762-76a0-4a8e-b3a6-4f3af279a830",
   "metadata": {},
   "outputs": [
    {
     "data": {
      "text/plain": [
       "0    this is a sentence\n",
       "1                   NaN\n",
       "2                is it?\n",
       "dtype: object"
      ]
     },
     "execution_count": 165,
     "metadata": {},
     "output_type": "execute_result"
    }
   ],
   "source": [
    "# lower, upper, len\n",
    "\n",
    "x.str.lower()"
   ]
  },
  {
   "cell_type": "code",
   "execution_count": 172,
   "id": "24748c22-7c7d-42d3-acad-83bae2c39972",
   "metadata": {},
   "outputs": [
    {
     "data": {
      "text/plain": [
       "[' left', 'nospace', 'right ']"
      ]
     },
     "execution_count": 172,
     "metadata": {},
     "output_type": "execute_result"
    }
   ],
   "source": [
    "# lstrip, rstrip, strip\n",
    "\n",
    "x = pd.Series([' left', 'nospace', 'right '])\n",
    "list(x)"
   ]
  },
  {
   "cell_type": "code",
   "execution_count": 173,
   "id": "27b477ab-d3b7-4074-ac05-f46a957bd1a3",
   "metadata": {},
   "outputs": [
    {
     "data": {
      "text/plain": [
       "['left', 'nospace', 'right ']"
      ]
     },
     "execution_count": 173,
     "metadata": {},
     "output_type": "execute_result"
    }
   ],
   "source": [
    "list(x.str.lstrip())"
   ]
  },
  {
   "cell_type": "code",
   "execution_count": 174,
   "id": "be0a4f05-da57-4f7b-afe3-c58936f7d31e",
   "metadata": {},
   "outputs": [
    {
     "data": {
      "text/plain": [
       "0    x\n",
       "1    y\n",
       "2    z\n",
       "dtype: object"
      ]
     },
     "execution_count": 174,
     "metadata": {},
     "output_type": "execute_result"
    }
   ],
   "source": [
    "a = pd.Series(['x', 'y', 'z'], dtype='str')\n",
    "a"
   ]
  },
  {
   "cell_type": "code",
   "execution_count": 178,
   "id": "067df18b-4e89-4aa2-a47e-f1958c5a3504",
   "metadata": {},
   "outputs": [
    {
     "data": {
      "text/plain": [
       "'x, y, z'"
      ]
     },
     "execution_count": 178,
     "metadata": {},
     "output_type": "execute_result"
    }
   ],
   "source": [
    "# cat, sep\n",
    "\n",
    "a.str.cat(sep=', ')"
   ]
  },
  {
   "cell_type": "code",
   "execution_count": 181,
   "id": "099bbed8-762d-46fa-a2c1-1ef17ba8612f",
   "metadata": {},
   "outputs": [
    {
     "name": "stdout",
     "output_type": "stream",
     "text": [
      "x, y, z\n",
      "x, y, -, z\n"
     ]
    }
   ],
   "source": [
    "# na_rep\n",
    "\n",
    "a = pd.Series(['x', 'y', np.nan, 'z'], dtype='str')\n",
    "print(a.str.cat(sep=', '))\n",
    "print(a.str.cat(sep=', ', na_rep='-'))"
   ]
  },
  {
   "cell_type": "code",
   "execution_count": 183,
   "id": "08462edf-7a0f-4f0c-9c4a-b3c7e4bb0336",
   "metadata": {},
   "outputs": [
    {
     "data": {
      "text/plain": [
       "0    xX\n",
       "1    yY\n",
       "2    zZ\n",
       "3    -Q\n",
       "dtype: object"
      ]
     },
     "execution_count": 183,
     "metadata": {},
     "output_type": "execute_result"
    }
   ],
   "source": [
    "# concat two series \n",
    "\n",
    "a = pd.Series(['x', 'y', 'z', np.nan])\n",
    "b = pd.Series(['X', 'Y', 'Z', 'Q'])\n",
    "\n",
    "a.str.cat(b, na_rep='-')"
   ]
  },
  {
   "cell_type": "markdown",
   "id": "03f741cb-c301-4fee-91a4-e6462f5aabe8",
   "metadata": {},
   "source": [
    "#### concat using index"
   ]
  },
  {
   "cell_type": "code",
   "execution_count": 189,
   "id": "9daf6baa-1903-4f8c-824c-3e83558fba90",
   "metadata": {},
   "outputs": [
    {
     "name": "stdout",
     "output_type": "stream",
     "text": [
      "0      x\n",
      "1      y\n",
      "2      z\n",
      "3    NaN\n",
      "dtype: object\n",
      "==========\n",
      "0    X\n",
      "1    Y\n",
      "2    Z\n",
      "3    Q\n",
      "dtype: object\n"
     ]
    }
   ],
   "source": [
    "print(a)\n",
    "print(\"=\" * 10)\n",
    "print(b)"
   ]
  },
  {
   "cell_type": "code",
   "execution_count": null,
   "id": "2293730a-5d6c-42ed-b904-8552f6e48890",
   "metadata": {},
   "outputs": [],
   "source": [
    "# shuffle b index\n",
    "\n",
    "b.index = pd.Index([3, 2, 1, 0])"
   ]
  },
  {
   "cell_type": "code",
   "execution_count": 191,
   "id": "9c1c5e5d-5898-479f-a192-0fa98987e0dd",
   "metadata": {},
   "outputs": [
    {
     "data": {
      "text/plain": [
       "0    xX\n",
       "1    yY\n",
       "2    zZ\n",
       "3    -Q\n",
       "dtype: object"
      ]
     },
     "execution_count": 191,
     "metadata": {},
     "output_type": "execute_result"
    }
   ],
   "source": [
    "# join on index\n",
    "\n",
    "a.str.cat(b, join='left', na_rep='-')"
   ]
  },
  {
   "cell_type": "markdown",
   "id": "e74b5ab4-4b3e-498c-8b83-3a7bc5938e93",
   "metadata": {
    "tags": []
   },
   "source": [
    "### P12 - Regex"
   ]
  },
  {
   "cell_type": "code",
   "execution_count": 195,
   "id": "c25bc655-8866-4b24-aa83-c9846377bdc9",
   "metadata": {},
   "outputs": [],
   "source": [
    "s = 'dfa$ ab&cdeabb&98 abcd f12_abbbb&gh$[a \\\n",
    "lsjfdlj ljkfd'"
   ]
  },
  {
   "cell_type": "code",
   "execution_count": 204,
   "id": "32c83a0c-187e-4759-b0d0-6bd308317d7f",
   "metadata": {},
   "outputs": [
    {
     "name": "stdout",
     "output_type": "stream",
     "text": [
      "<re.Match object; span=(0, 3), match='dfa'>\n",
      "dfa\n",
      "0\n",
      "3\n",
      "(0, 3)\n"
     ]
    }
   ],
   "source": [
    "# match, group, start, end, span\n",
    "\n",
    "m = re.match('dfa', s)  # looks at the beginning of a string\n",
    "print(m)\n",
    "\n",
    "print(m.group())\n",
    "print(m.start())\n",
    "print(m.end())\n",
    "print(m.span())"
   ]
  },
  {
   "cell_type": "code",
   "execution_count": 205,
   "id": "d821167c-0280-48de-9040-bc56b5d44597",
   "metadata": {},
   "outputs": [
    {
     "data": {
      "text/plain": [
       "<re.Match object; span=(1, 3), match='fa'>"
      ]
     },
     "execution_count": 205,
     "metadata": {},
     "output_type": "execute_result"
    }
   ],
   "source": [
    "# search: looks through entire string, and returns the match\n",
    "\n",
    "sr = re.search(\"fa\", s)\n",
    "sr"
   ]
  },
  {
   "cell_type": "code",
   "execution_count": 206,
   "id": "4e27c9e3-2013-4271-ac04-598d930e421f",
   "metadata": {},
   "outputs": [
    {
     "data": {
      "text/plain": [
       "['fa']"
      ]
     },
     "execution_count": 206,
     "metadata": {},
     "output_type": "execute_result"
    }
   ],
   "source": [
    "# finadall, returns a list\n",
    "\n",
    "re.findall(\"fa\", s)"
   ]
  },
  {
   "cell_type": "code",
   "execution_count": 211,
   "id": "0236ac67-8a88-4d75-818a-7d1e6dcd161b",
   "metadata": {},
   "outputs": [
    {
     "name": "stdout",
     "output_type": "stream",
     "text": [
      "fa 1 3\n"
     ]
    }
   ],
   "source": [
    "# finditer\n",
    "\n",
    "m = re.finditer(\"fa\", s)\n",
    "for i in m:\n",
    "    print(i.group(), i.start(), i.end())"
   ]
  },
  {
   "cell_type": "code",
   "execution_count": 213,
   "id": "313f82bf-f9b0-4fcf-9976-5a1fb9964127",
   "metadata": {},
   "outputs": [
    {
     "data": {
      "text/plain": [
       "['This', 'is', 'some', 'text']"
      ]
     },
     "execution_count": 213,
     "metadata": {},
     "output_type": "execute_result"
    }
   ],
   "source": [
    "# split\n",
    "\n",
    "s = \"This is some text\"\n",
    "re.split('\\s', s)"
   ]
  },
  {
   "cell_type": "code",
   "execution_count": 214,
   "id": "2b3ac939-a1bf-4f8e-ab69-a1d24db5f26d",
   "metadata": {},
   "outputs": [
    {
     "data": {
      "text/plain": [
       "'This * is * some * text'"
      ]
     },
     "execution_count": 214,
     "metadata": {},
     "output_type": "execute_result"
    }
   ],
   "source": [
    "# sub \n",
    "\n",
    "re.sub(\"\\s\", \" * \", s)"
   ]
  },
  {
   "cell_type": "code",
   "execution_count": 215,
   "id": "8fb045e8-02fa-452d-b99e-0f5b0537dc01",
   "metadata": {},
   "outputs": [
    {
     "data": {
      "text/plain": [
       "('This * is * some text', 2)"
      ]
     },
     "execution_count": 215,
     "metadata": {},
     "output_type": "execute_result"
    }
   ],
   "source": [
    "# subn, sub only n times\n",
    "\n",
    "re.subn(\"\\s\", \" * \", s, 2)"
   ]
  },
  {
   "cell_type": "markdown",
   "id": "2839ec4b-fa45-4408-a66c-6152d4ebf66b",
   "metadata": {
    "tags": []
   },
   "source": [
    "### P13 - Extract"
   ]
  },
  {
   "cell_type": "code",
   "execution_count": 3,
   "id": "e87e39f4-fb53-400b-9cf4-6e0a7ce366e9",
   "metadata": {},
   "outputs": [
    {
     "data": {
      "text/plain": [
       "0    m1\n",
       "1    n2\n",
       "2    o3\n",
       "3     4\n",
       "dtype: object"
      ]
     },
     "execution_count": 3,
     "metadata": {},
     "output_type": "execute_result"
    }
   ],
   "source": [
    "s = pd.Series(['m1', 'n2', 'o3', '4'])\n",
    "s"
   ]
  },
  {
   "cell_type": "code",
   "execution_count": 12,
   "id": "d658143b-c150-4223-a8e7-c7d121ab0bd4",
   "metadata": {},
   "outputs": [
    {
     "data": {
      "text/html": [
       "<div>\n",
       "<style scoped>\n",
       "    .dataframe tbody tr th:only-of-type {\n",
       "        vertical-align: middle;\n",
       "    }\n",
       "\n",
       "    .dataframe tbody tr th {\n",
       "        vertical-align: top;\n",
       "    }\n",
       "\n",
       "    .dataframe thead th {\n",
       "        text-align: right;\n",
       "    }\n",
       "</style>\n",
       "<table border=\"1\" class=\"dataframe\">\n",
       "  <thead>\n",
       "    <tr style=\"text-align: right;\">\n",
       "      <th></th>\n",
       "      <th>0</th>\n",
       "      <th>1</th>\n",
       "    </tr>\n",
       "  </thead>\n",
       "  <tbody>\n",
       "    <tr>\n",
       "      <th>0</th>\n",
       "      <td>m</td>\n",
       "      <td>1</td>\n",
       "    </tr>\n",
       "    <tr>\n",
       "      <th>1</th>\n",
       "      <td>n</td>\n",
       "      <td>2</td>\n",
       "    </tr>\n",
       "    <tr>\n",
       "      <th>2</th>\n",
       "      <td>NaN</td>\n",
       "      <td>NaN</td>\n",
       "    </tr>\n",
       "    <tr>\n",
       "      <th>3</th>\n",
       "      <td>NaN</td>\n",
       "      <td>NaN</td>\n",
       "    </tr>\n",
       "  </tbody>\n",
       "</table>\n",
       "</div>"
      ],
      "text/plain": [
       "     0    1\n",
       "0    m    1\n",
       "1    n    2\n",
       "2  NaN  NaN\n",
       "3  NaN  NaN"
      ]
     },
     "execution_count": 12,
     "metadata": {},
     "output_type": "execute_result"
    }
   ],
   "source": [
    "# column names are 0, 1\n",
    "\n",
    "p = r'([mn])(\\d)'\n",
    "\n",
    "s.str.extract(p, expand=False)"
   ]
  },
  {
   "cell_type": "code",
   "execution_count": 13,
   "id": "488b05f6-750d-4578-80d7-f4f499ff8419",
   "metadata": {},
   "outputs": [
    {
     "data": {
      "text/html": [
       "<div>\n",
       "<style scoped>\n",
       "    .dataframe tbody tr th:only-of-type {\n",
       "        vertical-align: middle;\n",
       "    }\n",
       "\n",
       "    .dataframe tbody tr th {\n",
       "        vertical-align: top;\n",
       "    }\n",
       "\n",
       "    .dataframe thead th {\n",
       "        text-align: right;\n",
       "    }\n",
       "</style>\n",
       "<table border=\"1\" class=\"dataframe\">\n",
       "  <thead>\n",
       "    <tr style=\"text-align: right;\">\n",
       "      <th></th>\n",
       "      <th>letter</th>\n",
       "      <th>number</th>\n",
       "    </tr>\n",
       "  </thead>\n",
       "  <tbody>\n",
       "    <tr>\n",
       "      <th>0</th>\n",
       "      <td>m</td>\n",
       "      <td>1</td>\n",
       "    </tr>\n",
       "    <tr>\n",
       "      <th>1</th>\n",
       "      <td>n</td>\n",
       "      <td>2</td>\n",
       "    </tr>\n",
       "    <tr>\n",
       "      <th>2</th>\n",
       "      <td>NaN</td>\n",
       "      <td>NaN</td>\n",
       "    </tr>\n",
       "    <tr>\n",
       "      <th>3</th>\n",
       "      <td>NaN</td>\n",
       "      <td>NaN</td>\n",
       "    </tr>\n",
       "  </tbody>\n",
       "</table>\n",
       "</div>"
      ],
      "text/plain": [
       "  letter number\n",
       "0      m      1\n",
       "1      n      2\n",
       "2    NaN    NaN\n",
       "3    NaN    NaN"
      ]
     },
     "execution_count": 13,
     "metadata": {},
     "output_type": "execute_result"
    }
   ],
   "source": [
    "# ?P specify the column names\n",
    "\n",
    "p = r'(?P<letter>[mn])(?P<number>\\d)'\n",
    "\n",
    "s.str.extract(p, expand=False)"
   ]
  },
  {
   "cell_type": "code",
   "execution_count": 14,
   "id": "90d182d0-6ee2-4c32-acf0-55d4d26f0e42",
   "metadata": {},
   "outputs": [
    {
     "data": {
      "text/html": [
       "<div>\n",
       "<style scoped>\n",
       "    .dataframe tbody tr th:only-of-type {\n",
       "        vertical-align: middle;\n",
       "    }\n",
       "\n",
       "    .dataframe tbody tr th {\n",
       "        vertical-align: top;\n",
       "    }\n",
       "\n",
       "    .dataframe thead th {\n",
       "        text-align: right;\n",
       "    }\n",
       "</style>\n",
       "<table border=\"1\" class=\"dataframe\">\n",
       "  <thead>\n",
       "    <tr style=\"text-align: right;\">\n",
       "      <th></th>\n",
       "      <th>0</th>\n",
       "      <th>1</th>\n",
       "    </tr>\n",
       "  </thead>\n",
       "  <tbody>\n",
       "    <tr>\n",
       "      <th>0</th>\n",
       "      <td>m</td>\n",
       "      <td>1</td>\n",
       "    </tr>\n",
       "    <tr>\n",
       "      <th>1</th>\n",
       "      <td>n</td>\n",
       "      <td>2</td>\n",
       "    </tr>\n",
       "    <tr>\n",
       "      <th>2</th>\n",
       "      <td>NaN</td>\n",
       "      <td>3</td>\n",
       "    </tr>\n",
       "    <tr>\n",
       "      <th>3</th>\n",
       "      <td>NaN</td>\n",
       "      <td>4</td>\n",
       "    </tr>\n",
       "  </tbody>\n",
       "</table>\n",
       "</div>"
      ],
      "text/plain": [
       "     0  1\n",
       "0    m  1\n",
       "1    n  2\n",
       "2  NaN  3\n",
       "3  NaN  4"
      ]
     },
     "execution_count": 14,
     "metadata": {},
     "output_type": "execute_result"
    }
   ],
   "source": [
    "# ? optional\n",
    "\n",
    "p = r'([mn])?(\\d)'\n",
    "x = s.str.extract(p, expand=False)\n",
    "x"
   ]
  },
  {
   "cell_type": "code",
   "execution_count": 17,
   "id": "9830bb0b-c03a-4795-863d-04401e3b4bba",
   "metadata": {},
   "outputs": [
    {
     "data": {
      "text/plain": [
       "0      1\n",
       "1      2\n",
       "2    NaN\n",
       "3    NaN\n",
       "dtype: object"
      ]
     },
     "execution_count": 17,
     "metadata": {},
     "output_type": "execute_result"
    }
   ],
   "source": [
    "# expand=False, returns series\n",
    "\n",
    "p = r'[mn](\\d)'\n",
    "\n",
    "x = s.str.extract(p, expand=False)\n",
    "x"
   ]
  },
  {
   "cell_type": "code",
   "execution_count": 18,
   "id": "eccfd5bf-fc83-4294-bdf7-6d834fd0b98d",
   "metadata": {},
   "outputs": [
    {
     "data": {
      "text/html": [
       "<div>\n",
       "<style scoped>\n",
       "    .dataframe tbody tr th:only-of-type {\n",
       "        vertical-align: middle;\n",
       "    }\n",
       "\n",
       "    .dataframe tbody tr th {\n",
       "        vertical-align: top;\n",
       "    }\n",
       "\n",
       "    .dataframe thead th {\n",
       "        text-align: right;\n",
       "    }\n",
       "</style>\n",
       "<table border=\"1\" class=\"dataframe\">\n",
       "  <thead>\n",
       "    <tr style=\"text-align: right;\">\n",
       "      <th></th>\n",
       "      <th>0</th>\n",
       "    </tr>\n",
       "  </thead>\n",
       "  <tbody>\n",
       "    <tr>\n",
       "      <th>0</th>\n",
       "      <td>1</td>\n",
       "    </tr>\n",
       "    <tr>\n",
       "      <th>1</th>\n",
       "      <td>2</td>\n",
       "    </tr>\n",
       "    <tr>\n",
       "      <th>2</th>\n",
       "      <td>NaN</td>\n",
       "    </tr>\n",
       "    <tr>\n",
       "      <th>3</th>\n",
       "      <td>NaN</td>\n",
       "    </tr>\n",
       "  </tbody>\n",
       "</table>\n",
       "</div>"
      ],
      "text/plain": [
       "     0\n",
       "0    1\n",
       "1    2\n",
       "2  NaN\n",
       "3  NaN"
      ]
     },
     "execution_count": 18,
     "metadata": {},
     "output_type": "execute_result"
    }
   ],
   "source": [
    "# expand=True, returns dataframe\n",
    "\n",
    "p = r'[mn](\\d)'\n",
    "\n",
    "x = s.str.extract(p, expand=True)\n",
    "x"
   ]
  },
  {
   "cell_type": "code",
   "execution_count": 20,
   "id": "ab11c85b-fdb5-4842-bec7-29180af45d0e",
   "metadata": {},
   "outputs": [
    {
     "data": {
      "text/plain": [
       "M1    m1\n",
       "N2    n2\n",
       "O3    o3\n",
       "Q4     4\n",
       "dtype: object"
      ]
     },
     "execution_count": 20,
     "metadata": {},
     "output_type": "execute_result"
    }
   ],
   "source": [
    "# search in index\n",
    "\n",
    "s.index = ['M1', 'N2', 'O3', 'Q4']\n",
    "s"
   ]
  },
  {
   "cell_type": "code",
   "execution_count": 21,
   "id": "49584d38-0ffb-4ccb-a8b3-03444172e33b",
   "metadata": {},
   "outputs": [
    {
     "data": {
      "text/plain": [
       "Index(['1', '2', nan, nan], dtype='object', name='number')"
      ]
     },
     "execution_count": 21,
     "metadata": {},
     "output_type": "execute_result"
    }
   ],
   "source": [
    "p = r'[MN](?P<number>\\d)'\n",
    "x = s.index.str.extract(p, expand=False)\n",
    "x"
   ]
  },
  {
   "cell_type": "code",
   "execution_count": 24,
   "id": "f8250e77-14e1-46c7-add5-327c63a9e990",
   "metadata": {},
   "outputs": [
    {
     "data": {
      "text/html": [
       "<div>\n",
       "<style scoped>\n",
       "    .dataframe tbody tr th:only-of-type {\n",
       "        vertical-align: middle;\n",
       "    }\n",
       "\n",
       "    .dataframe tbody tr th {\n",
       "        vertical-align: top;\n",
       "    }\n",
       "\n",
       "    .dataframe thead th {\n",
       "        text-align: right;\n",
       "    }\n",
       "</style>\n",
       "<table border=\"1\" class=\"dataframe\">\n",
       "  <thead>\n",
       "    <tr style=\"text-align: right;\">\n",
       "      <th></th>\n",
       "      <th>number</th>\n",
       "    </tr>\n",
       "  </thead>\n",
       "  <tbody>\n",
       "    <tr>\n",
       "      <th>0</th>\n",
       "      <td>1</td>\n",
       "    </tr>\n",
       "    <tr>\n",
       "      <th>1</th>\n",
       "      <td>2</td>\n",
       "    </tr>\n",
       "    <tr>\n",
       "      <th>2</th>\n",
       "      <td>NaN</td>\n",
       "    </tr>\n",
       "    <tr>\n",
       "      <th>3</th>\n",
       "      <td>NaN</td>\n",
       "    </tr>\n",
       "  </tbody>\n",
       "</table>\n",
       "</div>"
      ],
      "text/plain": [
       "  number\n",
       "0      1\n",
       "1      2\n",
       "2    NaN\n",
       "3    NaN"
      ]
     },
     "execution_count": 24,
     "metadata": {},
     "output_type": "execute_result"
    }
   ],
   "source": [
    "# expand=True\n",
    "\n",
    "p = r'[MN](?P<number>\\d)'\n",
    "x = s.index.str.extract(p, expand=True)\n",
    "x"
   ]
  },
  {
   "cell_type": "code",
   "execution_count": 29,
   "id": "e81df7b6-82fe-4fed-9e3a-00300fbe914c",
   "metadata": {},
   "outputs": [
    {
     "data": {
      "text/plain": [
       "M1    m1m2\n",
       "N2      n2\n",
       "O3      o3\n",
       "Q4       4\n",
       "dtype: object"
      ]
     },
     "execution_count": 29,
     "metadata": {},
     "output_type": "execute_result"
    }
   ],
   "source": [
    "# extract all\n",
    "\n",
    "s[0] = 'm1m2'\n",
    "s"
   ]
  },
  {
   "cell_type": "code",
   "execution_count": 31,
   "id": "af5603c6-c96c-44b8-8e07-afd44ddb572f",
   "metadata": {},
   "outputs": [
    {
     "data": {
      "text/html": [
       "<div>\n",
       "<style scoped>\n",
       "    .dataframe tbody tr th:only-of-type {\n",
       "        vertical-align: middle;\n",
       "    }\n",
       "\n",
       "    .dataframe tbody tr th {\n",
       "        vertical-align: top;\n",
       "    }\n",
       "\n",
       "    .dataframe thead th {\n",
       "        text-align: right;\n",
       "    }\n",
       "</style>\n",
       "<table border=\"1\" class=\"dataframe\">\n",
       "  <thead>\n",
       "    <tr style=\"text-align: right;\">\n",
       "      <th></th>\n",
       "      <th></th>\n",
       "      <th>letter</th>\n",
       "      <th>number</th>\n",
       "    </tr>\n",
       "    <tr>\n",
       "      <th></th>\n",
       "      <th>match</th>\n",
       "      <th></th>\n",
       "      <th></th>\n",
       "    </tr>\n",
       "  </thead>\n",
       "  <tbody>\n",
       "    <tr>\n",
       "      <th rowspan=\"2\" valign=\"top\">M1</th>\n",
       "      <th>0</th>\n",
       "      <td>m</td>\n",
       "      <td>1</td>\n",
       "    </tr>\n",
       "    <tr>\n",
       "      <th>1</th>\n",
       "      <td>m</td>\n",
       "      <td>2</td>\n",
       "    </tr>\n",
       "    <tr>\n",
       "      <th>N2</th>\n",
       "      <th>0</th>\n",
       "      <td>n</td>\n",
       "      <td>2</td>\n",
       "    </tr>\n",
       "    <tr>\n",
       "      <th>O3</th>\n",
       "      <th>0</th>\n",
       "      <td>o</td>\n",
       "      <td>3</td>\n",
       "    </tr>\n",
       "  </tbody>\n",
       "</table>\n",
       "</div>"
      ],
      "text/plain": [
       "         letter number\n",
       "   match              \n",
       "M1 0          m      1\n",
       "   1          m      2\n",
       "N2 0          n      2\n",
       "O3 0          o      3"
      ]
     },
     "execution_count": 31,
     "metadata": {},
     "output_type": "execute_result"
    }
   ],
   "source": [
    "# extract all, breaks the first row into two rowes\n",
    "\n",
    "p = r'(?P<letter>[a-zA-Z])(?P<number>\\d)'\n",
    "\n",
    "s.str.extractall(p)"
   ]
  },
  {
   "cell_type": "code",
   "execution_count": 32,
   "id": "0a31b040-c9b8-4e9f-92c4-b9ececb2b835",
   "metadata": {},
   "outputs": [
    {
     "data": {
      "text/plain": [
       "0    0a2\n",
       "1    3bb\n",
       "2      4\n",
       "3      q\n",
       "dtype: object"
      ]
     },
     "execution_count": 32,
     "metadata": {},
     "output_type": "execute_result"
    }
   ],
   "source": [
    "# contains\n",
    "\n",
    "s = pd.Series(['0a2', '3bb', '4', 'q'])\n",
    "s"
   ]
  },
  {
   "cell_type": "code",
   "execution_count": 34,
   "id": "def40863-9cca-4389-b9d9-4246c81454b5",
   "metadata": {},
   "outputs": [
    {
     "data": {
      "text/plain": [
       "0     True\n",
       "1    False\n",
       "2    False\n",
       "3    False\n",
       "dtype: bool"
      ]
     },
     "execution_count": 34,
     "metadata": {},
     "output_type": "execute_result"
    }
   ],
   "source": [
    "p = r'[0-9][a-z][0-9]'\n",
    "x = s.str.contains(p)\n",
    "x"
   ]
  },
  {
   "cell_type": "code",
   "execution_count": 36,
   "id": "48989c09-ac76-4f97-b88b-18724eabf840",
   "metadata": {},
   "outputs": [
    {
     "data": {
      "text/plain": [
       "0     True\n",
       "1    False\n",
       "2    False\n",
       "3    False\n",
       "dtype: bool"
      ]
     },
     "execution_count": 36,
     "metadata": {},
     "output_type": "execute_result"
    }
   ],
   "source": [
    "# match, starts at the beginning of the string \n",
    "# while search starts in the middle of the string\n",
    "\n",
    "s.str.match(p)"
   ]
  },
  {
   "cell_type": "code",
   "execution_count": 39,
   "id": "7da8da76-9d78-40c7-a781-ba28bfc6a6c3",
   "metadata": {},
   "outputs": [
    {
     "name": "stdout",
     "output_type": "stream",
     "text": [
      "0      m\n",
      "1    m|n\n",
      "2    n|q\n",
      "3    NaN\n",
      "dtype: object\n"
     ]
    },
    {
     "data": {
      "text/html": [
       "<div>\n",
       "<style scoped>\n",
       "    .dataframe tbody tr th:only-of-type {\n",
       "        vertical-align: middle;\n",
       "    }\n",
       "\n",
       "    .dataframe tbody tr th {\n",
       "        vertical-align: top;\n",
       "    }\n",
       "\n",
       "    .dataframe thead th {\n",
       "        text-align: right;\n",
       "    }\n",
       "</style>\n",
       "<table border=\"1\" class=\"dataframe\">\n",
       "  <thead>\n",
       "    <tr style=\"text-align: right;\">\n",
       "      <th></th>\n",
       "      <th>m</th>\n",
       "      <th>n</th>\n",
       "      <th>q</th>\n",
       "    </tr>\n",
       "  </thead>\n",
       "  <tbody>\n",
       "    <tr>\n",
       "      <th>0</th>\n",
       "      <td>1</td>\n",
       "      <td>0</td>\n",
       "      <td>0</td>\n",
       "    </tr>\n",
       "    <tr>\n",
       "      <th>1</th>\n",
       "      <td>1</td>\n",
       "      <td>1</td>\n",
       "      <td>0</td>\n",
       "    </tr>\n",
       "    <tr>\n",
       "      <th>2</th>\n",
       "      <td>0</td>\n",
       "      <td>1</td>\n",
       "      <td>1</td>\n",
       "    </tr>\n",
       "    <tr>\n",
       "      <th>3</th>\n",
       "      <td>0</td>\n",
       "      <td>0</td>\n",
       "      <td>0</td>\n",
       "    </tr>\n",
       "  </tbody>\n",
       "</table>\n",
       "</div>"
      ],
      "text/plain": [
       "   m  n  q\n",
       "0  1  0  0\n",
       "1  1  1  0\n",
       "2  0  1  1\n",
       "3  0  0  0"
      ]
     },
     "execution_count": 39,
     "metadata": {},
     "output_type": "execute_result"
    }
   ],
   "source": [
    "# get_dummies with sep\n",
    "\n",
    "s = pd.Series(['m', 'm|n', 'n|q', np.nan], dtype='str')\n",
    "print(s)\n",
    "\n",
    "x = s.str.get_dummies(sep='|')\n",
    "x"
   ]
  },
  {
   "cell_type": "code",
   "execution_count": 41,
   "id": "f7673b9e-709b-4245-8e59-5bdeedf05471",
   "metadata": {},
   "outputs": [
    {
     "data": {
      "text/plain": [
       "M        m\n",
       "M|N    m|n\n",
       "N|Q    n|q\n",
       "NaN    NaN\n",
       "dtype: object"
      ]
     },
     "execution_count": 41,
     "metadata": {},
     "output_type": "execute_result"
    }
   ],
   "source": [
    "s.index = ['M', 'M|N', 'N|Q', np.nan]\n",
    "s"
   ]
  },
  {
   "cell_type": "code",
   "execution_count": 42,
   "id": "936ec74c-2ac5-4099-a7cd-79601d94ba70",
   "metadata": {},
   "outputs": [
    {
     "data": {
      "text/plain": [
       "MultiIndex([(1, 0, 0),\n",
       "            (1, 1, 0),\n",
       "            (0, 1, 1),\n",
       "            (0, 0, 0)],\n",
       "           names=['M', 'N', 'Q'])"
      ]
     },
     "execution_count": 42,
     "metadata": {},
     "output_type": "execute_result"
    }
   ],
   "source": [
    "# get_dummies wo sep\n",
    "\n",
    "x = s.index.str.get_dummies(sep='|')\n",
    "x"
   ]
  },
  {
   "cell_type": "markdown",
   "id": "018f3341-c35f-45d4-b9ec-84c403981893",
   "metadata": {
    "tags": []
   },
   "source": [
    "### P15 - missing values"
   ]
  },
  {
   "cell_type": "code",
   "execution_count": 53,
   "id": "0d53962d-5c60-4a2f-ad58-bf71595998a3",
   "metadata": {},
   "outputs": [
    {
     "data": {
      "text/plain": [
       "True"
      ]
     },
     "execution_count": 53,
     "metadata": {},
     "output_type": "execute_result"
    }
   ],
   "source": [
    "None == None"
   ]
  },
  {
   "cell_type": "code",
   "execution_count": 55,
   "id": "f856393a-8622-4108-9d20-fc91f9a18a5f",
   "metadata": {},
   "outputs": [
    {
     "data": {
      "text/plain": [
       "False"
      ]
     },
     "execution_count": 55,
     "metadata": {},
     "output_type": "execute_result"
    }
   ],
   "source": [
    "np.nan == np.nan"
   ]
  },
  {
   "cell_type": "code",
   "execution_count": 57,
   "id": "5b4af16f-baf3-45be-9836-1d81e61593a2",
   "metadata": {},
   "outputs": [
    {
     "data": {
      "text/html": [
       "<div>\n",
       "<style scoped>\n",
       "    .dataframe tbody tr th:only-of-type {\n",
       "        vertical-align: middle;\n",
       "    }\n",
       "\n",
       "    .dataframe tbody tr th {\n",
       "        vertical-align: top;\n",
       "    }\n",
       "\n",
       "    .dataframe thead th {\n",
       "        text-align: right;\n",
       "    }\n",
       "</style>\n",
       "<table border=\"1\" class=\"dataframe\">\n",
       "  <thead>\n",
       "    <tr style=\"text-align: right;\">\n",
       "      <th></th>\n",
       "      <th>x</th>\n",
       "    </tr>\n",
       "  </thead>\n",
       "  <tbody>\n",
       "    <tr>\n",
       "      <th>11</th>\n",
       "      <td>1</td>\n",
       "    </tr>\n",
       "    <tr>\n",
       "      <th>12</th>\n",
       "      <td>2</td>\n",
       "    </tr>\n",
       "    <tr>\n",
       "      <th>0</th>\n",
       "      <td>3</td>\n",
       "    </tr>\n",
       "  </tbody>\n",
       "</table>\n",
       "</div>"
      ],
      "text/plain": [
       "    x\n",
       "11  1\n",
       "12  2\n",
       "0   3"
      ]
     },
     "execution_count": 57,
     "metadata": {},
     "output_type": "execute_result"
    }
   ],
   "source": [
    "# sidenote\n",
    "\n",
    "a = pd.DataFrame(\n",
    "    {'x': [1, 2, 3]},\n",
    "    index=[11, 12, 0]\n",
    ")\n",
    "a"
   ]
  },
  {
   "cell_type": "code",
   "execution_count": 58,
   "id": "508d343b-986c-4d93-82ef-98fa3314a747",
   "metadata": {},
   "outputs": [
    {
     "data": {
      "text/plain": [
       "x    3\n",
       "Name: 0, dtype: int64"
      ]
     },
     "execution_count": 58,
     "metadata": {},
     "output_type": "execute_result"
    }
   ],
   "source": [
    "a.loc[0]"
   ]
  },
  {
   "cell_type": "code",
   "execution_count": 59,
   "id": "79d9c4ea-5c21-462a-8e1f-7013781cf06b",
   "metadata": {},
   "outputs": [
    {
     "data": {
      "text/plain": [
       "x    1\n",
       "Name: 11, dtype: int64"
      ]
     },
     "execution_count": 59,
     "metadata": {},
     "output_type": "execute_result"
    }
   ],
   "source": [
    "a.iloc[0]"
   ]
  },
  {
   "cell_type": "markdown",
   "id": "bc6bebc7-c814-4103-8a64-4b37c3df1bcd",
   "metadata": {
    "tags": []
   },
   "source": [
    "### P16 - fillna, dropna"
   ]
  },
  {
   "cell_type": "code",
   "execution_count": 8,
   "id": "2fc977ad-c2a1-42ae-bbf0-c2ed31a8dfcf",
   "metadata": {},
   "outputs": [
    {
     "data": {
      "text/html": [
       "<div>\n",
       "<style scoped>\n",
       "    .dataframe tbody tr th:only-of-type {\n",
       "        vertical-align: middle;\n",
       "    }\n",
       "\n",
       "    .dataframe tbody tr th {\n",
       "        vertical-align: top;\n",
       "    }\n",
       "\n",
       "    .dataframe thead th {\n",
       "        text-align: right;\n",
       "    }\n",
       "</style>\n",
       "<table border=\"1\" class=\"dataframe\">\n",
       "  <thead>\n",
       "    <tr style=\"text-align: right;\">\n",
       "      <th></th>\n",
       "      <th>x</th>\n",
       "      <th>y</th>\n",
       "      <th>z</th>\n",
       "    </tr>\n",
       "  </thead>\n",
       "  <tbody>\n",
       "    <tr>\n",
       "      <th>11</th>\n",
       "      <td>0.0</td>\n",
       "      <td>NaN</td>\n",
       "      <td>True</td>\n",
       "    </tr>\n",
       "    <tr>\n",
       "      <th>12</th>\n",
       "      <td>NaN</td>\n",
       "      <td>NaN</td>\n",
       "      <td>NaN</td>\n",
       "    </tr>\n",
       "    <tr>\n",
       "      <th>13</th>\n",
       "      <td>3.0</td>\n",
       "      <td>B</td>\n",
       "      <td>False</td>\n",
       "    </tr>\n",
       "    <tr>\n",
       "      <th>14</th>\n",
       "      <td>NaN</td>\n",
       "      <td>NaN</td>\n",
       "      <td>NaN</td>\n",
       "    </tr>\n",
       "    <tr>\n",
       "      <th>15</th>\n",
       "      <td>1.0</td>\n",
       "      <td>None</td>\n",
       "      <td>False</td>\n",
       "    </tr>\n",
       "    <tr>\n",
       "      <th>17</th>\n",
       "      <td>4.0</td>\n",
       "      <td>A</td>\n",
       "      <td>NaN</td>\n",
       "    </tr>\n",
       "    <tr>\n",
       "      <th>18</th>\n",
       "      <td>NaN</td>\n",
       "      <td>NaN</td>\n",
       "      <td>NaN</td>\n",
       "    </tr>\n",
       "    <tr>\n",
       "      <th>19</th>\n",
       "      <td>NaN</td>\n",
       "      <td>NaN</td>\n",
       "      <td>NaN</td>\n",
       "    </tr>\n",
       "    <tr>\n",
       "      <th>20</th>\n",
       "      <td>4.0</td>\n",
       "      <td>C</td>\n",
       "      <td>True</td>\n",
       "    </tr>\n",
       "  </tbody>\n",
       "</table>\n",
       "</div>"
      ],
      "text/plain": [
       "      x     y      z\n",
       "11  0.0   NaN   True\n",
       "12  NaN   NaN    NaN\n",
       "13  3.0     B  False\n",
       "14  NaN   NaN    NaN\n",
       "15  1.0  None  False\n",
       "17  4.0     A    NaN\n",
       "18  NaN   NaN    NaN\n",
       "19  NaN   NaN    NaN\n",
       "20  4.0     C   True"
      ]
     },
     "execution_count": 8,
     "metadata": {},
     "output_type": "execute_result"
    }
   ],
   "source": [
    "df = pd.DataFrame({\n",
    "    'x': np.random.randint(0,5, 5),\n",
    "    'y': [np.nan,'B',None,'A','C'],\n",
    "    'z': [True, False, False, np.nan, True]\n",
    "    },\n",
    "    index=pd.Series([11,13,15,17,20])\n",
    ")\n",
    "df2 = df.reindex([11,12,13,14,15,17,18,19,20])\n",
    "df2"
   ]
  },
  {
   "cell_type": "code",
   "execution_count": 4,
   "id": "2311dc68-8472-4d2c-ae78-d7cc3724229c",
   "metadata": {},
   "outputs": [
    {
     "data": {
      "text/html": [
       "<div>\n",
       "<style scoped>\n",
       "    .dataframe tbody tr th:only-of-type {\n",
       "        vertical-align: middle;\n",
       "    }\n",
       "\n",
       "    .dataframe tbody tr th {\n",
       "        vertical-align: top;\n",
       "    }\n",
       "\n",
       "    .dataframe thead th {\n",
       "        text-align: right;\n",
       "    }\n",
       "</style>\n",
       "<table border=\"1\" class=\"dataframe\">\n",
       "  <thead>\n",
       "    <tr style=\"text-align: right;\">\n",
       "      <th></th>\n",
       "      <th>x</th>\n",
       "      <th>y</th>\n",
       "      <th>z</th>\n",
       "    </tr>\n",
       "  </thead>\n",
       "  <tbody>\n",
       "    <tr>\n",
       "      <th>11</th>\n",
       "      <td>3.0</td>\n",
       "      <td>NaN</td>\n",
       "      <td>True</td>\n",
       "    </tr>\n",
       "    <tr>\n",
       "      <th>12</th>\n",
       "      <td>3.0</td>\n",
       "      <td>NaN</td>\n",
       "      <td>True</td>\n",
       "    </tr>\n",
       "    <tr>\n",
       "      <th>13</th>\n",
       "      <td>0.0</td>\n",
       "      <td>B</td>\n",
       "      <td>False</td>\n",
       "    </tr>\n",
       "    <tr>\n",
       "      <th>14</th>\n",
       "      <td>0.0</td>\n",
       "      <td>B</td>\n",
       "      <td>False</td>\n",
       "    </tr>\n",
       "    <tr>\n",
       "      <th>15</th>\n",
       "      <td>4.0</td>\n",
       "      <td>None</td>\n",
       "      <td>False</td>\n",
       "    </tr>\n",
       "    <tr>\n",
       "      <th>17</th>\n",
       "      <td>1.0</td>\n",
       "      <td>A</td>\n",
       "      <td>False</td>\n",
       "    </tr>\n",
       "    <tr>\n",
       "      <th>18</th>\n",
       "      <td>1.0</td>\n",
       "      <td>A</td>\n",
       "      <td>NaN</td>\n",
       "    </tr>\n",
       "    <tr>\n",
       "      <th>19</th>\n",
       "      <td>NaN</td>\n",
       "      <td>NaN</td>\n",
       "      <td>NaN</td>\n",
       "    </tr>\n",
       "    <tr>\n",
       "      <th>20</th>\n",
       "      <td>4.0</td>\n",
       "      <td>C</td>\n",
       "      <td>True</td>\n",
       "    </tr>\n",
       "  </tbody>\n",
       "</table>\n",
       "</div>"
      ],
      "text/plain": [
       "      x     y      z\n",
       "11  3.0   NaN   True\n",
       "12  3.0   NaN   True\n",
       "13  0.0     B  False\n",
       "14  0.0     B  False\n",
       "15  4.0  None  False\n",
       "17  1.0     A  False\n",
       "18  1.0     A    NaN\n",
       "19  NaN   NaN    NaN\n",
       "20  4.0     C   True"
      ]
     },
     "execution_count": 4,
     "metadata": {},
     "output_type": "execute_result"
    }
   ],
   "source": [
    "# fillna, limit\n",
    "# pad is the same as ffill\n",
    "\n",
    "df2.fillna(method='pad', limit=1)"
   ]
  },
  {
   "cell_type": "code",
   "execution_count": 25,
   "id": "29aa3b91-cbe2-43a3-b588-4b0a19b14ce8",
   "metadata": {},
   "outputs": [
    {
     "data": {
      "text/html": [
       "<div>\n",
       "<style scoped>\n",
       "    .dataframe tbody tr th:only-of-type {\n",
       "        vertical-align: middle;\n",
       "    }\n",
       "\n",
       "    .dataframe tbody tr th {\n",
       "        vertical-align: top;\n",
       "    }\n",
       "\n",
       "    .dataframe thead th {\n",
       "        text-align: right;\n",
       "    }\n",
       "</style>\n",
       "<table border=\"1\" class=\"dataframe\">\n",
       "  <thead>\n",
       "    <tr style=\"text-align: right;\">\n",
       "      <th></th>\n",
       "      <th>x</th>\n",
       "      <th>y</th>\n",
       "      <th>z</th>\n",
       "    </tr>\n",
       "  </thead>\n",
       "  <tbody>\n",
       "    <tr>\n",
       "      <th>11</th>\n",
       "      <td>0.0</td>\n",
       "      <td>99</td>\n",
       "      <td>True</td>\n",
       "    </tr>\n",
       "    <tr>\n",
       "      <th>12</th>\n",
       "      <td>99</td>\n",
       "      <td>99</td>\n",
       "      <td>99</td>\n",
       "    </tr>\n",
       "    <tr>\n",
       "      <th>13</th>\n",
       "      <td>3.0</td>\n",
       "      <td>B</td>\n",
       "      <td>False</td>\n",
       "    </tr>\n",
       "    <tr>\n",
       "      <th>14</th>\n",
       "      <td>99</td>\n",
       "      <td>99</td>\n",
       "      <td>99</td>\n",
       "    </tr>\n",
       "    <tr>\n",
       "      <th>15</th>\n",
       "      <td>1.0</td>\n",
       "      <td>99</td>\n",
       "      <td>False</td>\n",
       "    </tr>\n",
       "    <tr>\n",
       "      <th>17</th>\n",
       "      <td>4.0</td>\n",
       "      <td>A</td>\n",
       "      <td>99</td>\n",
       "    </tr>\n",
       "    <tr>\n",
       "      <th>18</th>\n",
       "      <td>99</td>\n",
       "      <td>99</td>\n",
       "      <td>99</td>\n",
       "    </tr>\n",
       "    <tr>\n",
       "      <th>19</th>\n",
       "      <td>99</td>\n",
       "      <td>99</td>\n",
       "      <td>99</td>\n",
       "    </tr>\n",
       "    <tr>\n",
       "      <th>20</th>\n",
       "      <td>4.0</td>\n",
       "      <td>C</td>\n",
       "      <td>True</td>\n",
       "    </tr>\n",
       "  </tbody>\n",
       "</table>\n",
       "</div>"
      ],
      "text/plain": [
       "      x   y      z\n",
       "11  0.0  99   True\n",
       "12   99  99     99\n",
       "13  3.0   B  False\n",
       "14   99  99     99\n",
       "15  1.0  99  False\n",
       "17  4.0   A     99\n",
       "18   99  99     99\n",
       "19   99  99     99\n",
       "20  4.0   C   True"
      ]
     },
     "execution_count": 25,
     "metadata": {},
     "output_type": "execute_result"
    }
   ],
   "source": [
    "# where\n",
    "\n",
    "df2.where(pd.notna(df2), \"99\", axis=0)"
   ]
  },
  {
   "cell_type": "markdown",
   "id": "c99f102a-95d1-4082-8a07-f554ac215223",
   "metadata": {
    "tags": []
   },
   "source": [
    "### P17 - interpolate"
   ]
  },
  {
   "cell_type": "markdown",
   "id": "53428375-a777-46fb-9d0f-e7096fca6330",
   "metadata": {},
   "source": [
    "#### tables we need\n"
   ]
  },
  {
   "cell_type": "code",
   "execution_count": 26,
   "id": "16762419-da93-4d80-89f5-4b180437f860",
   "metadata": {},
   "outputs": [],
   "source": [
    "a = pd.Series([np.nan, np.nan, -100, np.nan, np.nan, np.nan, 4, np.nan, 6, np.nan, np.nan, 36, np.nan, np.nan, np.nan, np.nan, 36])\n",
    "b = pd.Series([0.1, 0.2, np.nan, 0.4, np.nan, np.nan, 0.7])\n",
    "\n",
    "m = [0, 1, np.nan, 4, np.nan, np.nan, 6, np.nan, np.nan, 10]\n",
    "n = [0, 20,  40, np.nan, 43, 45, 46, np.nan, np.nan, 50]\n",
    "dfmn = pd.DataFrame({\n",
    "    'm': m,\n",
    "    'n': n\n",
    "})"
   ]
  },
  {
   "cell_type": "code",
   "execution_count": 27,
   "id": "a3b97ebe-1868-422e-b350-ce581b1f6c46",
   "metadata": {},
   "outputs": [],
   "source": [
    "x = np.linspace(0, 10, 30)\n",
    "y = np.sin(x)\n",
    "dfx = pd.DataFrame({\n",
    "    'x_orig': x,\n",
    "    'y_orig': y,\n",
    "    'x': x,\n",
    "    'y': y,\n",
    "})\n",
    "\n",
    "dfx.loc[np.r_[5:8, 13:17, 20:24, 24:28], ['y']] = np.nan\n",
    "dfx.loc[np.r_[1:4, 6:8, 20:24, 10:13], ['x']] = np.nan"
   ]
  },
  {
   "cell_type": "code",
   "execution_count": 51,
   "id": "6b40a82b-ad33-4f82-8f0c-b746bf8de151",
   "metadata": {},
   "outputs": [],
   "source": [
    "dt = [\n",
    "    '20200101',\n",
    "    '20200102',\n",
    "    '20200103',\n",
    "    '20200104',\n",
    "    '20200105',\n",
    "    '20200106',\n",
    "    '20200107',\n",
    "    '20200108',\n",
    "    '20200109',\n",
    "    \"20200110\",\n",
    "]\n",
    "\n",
    "x_orig = np.random.randn(10)\n",
    "dft = pd.DataFrame({'dt': dt, 'x_orig': x_orig})\n",
    "dft['dt'] = dft.apply(lambda x: pd.Timestamp(x['dt']), axis=1)\n",
    "dft['x'] = dft['x_orig']\n",
    "dft.loc[np.r_[3, 4, 6:8], 'x'] = np.nan\n",
    "dft['y_orig'] = np.linspace(1, 10, 10) ** 2\n",
    "dft['y'] = dft['y_orig']\n",
    "dft.loc[np.r_[3, 4, 6:8], 'y'] = np.nan\n",
    "dft.set_index('dt', inplace=True, drop=True)"
   ]
  },
  {
   "cell_type": "code",
   "execution_count": 52,
   "id": "9c90b8bc-2484-409e-8836-ba676ab7698f",
   "metadata": {},
   "outputs": [
    {
     "data": {
      "text/html": [
       "<div>\n",
       "<style scoped>\n",
       "    .dataframe tbody tr th:only-of-type {\n",
       "        vertical-align: middle;\n",
       "    }\n",
       "\n",
       "    .dataframe tbody tr th {\n",
       "        vertical-align: top;\n",
       "    }\n",
       "\n",
       "    .dataframe thead th {\n",
       "        text-align: right;\n",
       "    }\n",
       "</style>\n",
       "<table border=\"1\" class=\"dataframe\">\n",
       "  <thead>\n",
       "    <tr style=\"text-align: right;\">\n",
       "      <th></th>\n",
       "      <th>x_orig</th>\n",
       "      <th>x</th>\n",
       "      <th>y_orig</th>\n",
       "      <th>y</th>\n",
       "    </tr>\n",
       "    <tr>\n",
       "      <th>dt</th>\n",
       "      <th></th>\n",
       "      <th></th>\n",
       "      <th></th>\n",
       "      <th></th>\n",
       "    </tr>\n",
       "  </thead>\n",
       "  <tbody>\n",
       "    <tr>\n",
       "      <th>2020-01-01</th>\n",
       "      <td>0.967997</td>\n",
       "      <td>0.967997</td>\n",
       "      <td>1.0</td>\n",
       "      <td>1.0</td>\n",
       "    </tr>\n",
       "    <tr>\n",
       "      <th>2020-01-02</th>\n",
       "      <td>-0.931194</td>\n",
       "      <td>-0.931194</td>\n",
       "      <td>4.0</td>\n",
       "      <td>4.0</td>\n",
       "    </tr>\n",
       "    <tr>\n",
       "      <th>2020-01-03</th>\n",
       "      <td>-0.751451</td>\n",
       "      <td>-0.751451</td>\n",
       "      <td>9.0</td>\n",
       "      <td>9.0</td>\n",
       "    </tr>\n",
       "    <tr>\n",
       "      <th>2020-01-04</th>\n",
       "      <td>-0.948800</td>\n",
       "      <td>NaN</td>\n",
       "      <td>16.0</td>\n",
       "      <td>NaN</td>\n",
       "    </tr>\n",
       "    <tr>\n",
       "      <th>2020-01-05</th>\n",
       "      <td>-1.298903</td>\n",
       "      <td>NaN</td>\n",
       "      <td>25.0</td>\n",
       "      <td>NaN</td>\n",
       "    </tr>\n",
       "  </tbody>\n",
       "</table>\n",
       "</div>"
      ],
      "text/plain": [
       "              x_orig         x  y_orig    y\n",
       "dt                                         \n",
       "2020-01-01  0.967997  0.967997     1.0  1.0\n",
       "2020-01-02 -0.931194 -0.931194     4.0  4.0\n",
       "2020-01-03 -0.751451 -0.751451     9.0  9.0\n",
       "2020-01-04 -0.948800       NaN    16.0  NaN\n",
       "2020-01-05 -1.298903       NaN    25.0  NaN"
      ]
     },
     "execution_count": 52,
     "metadata": {},
     "output_type": "execute_result"
    }
   ],
   "source": [
    "dft.head()"
   ]
  },
  {
   "cell_type": "code",
   "execution_count": 53,
   "id": "1119a8c5-134a-4c94-850d-16b90033583e",
   "metadata": {},
   "outputs": [
    {
     "data": {
      "text/html": [
       "<div>\n",
       "<style scoped>\n",
       "    .dataframe tbody tr th:only-of-type {\n",
       "        vertical-align: middle;\n",
       "    }\n",
       "\n",
       "    .dataframe tbody tr th {\n",
       "        vertical-align: top;\n",
       "    }\n",
       "\n",
       "    .dataframe thead th {\n",
       "        text-align: right;\n",
       "    }\n",
       "</style>\n",
       "<table border=\"1\" class=\"dataframe\">\n",
       "  <thead>\n",
       "    <tr style=\"text-align: right;\">\n",
       "      <th></th>\n",
       "      <th>x_orig</th>\n",
       "      <th>x</th>\n",
       "      <th>y_orig</th>\n",
       "      <th>y</th>\n",
       "    </tr>\n",
       "    <tr>\n",
       "      <th>dt</th>\n",
       "      <th></th>\n",
       "      <th></th>\n",
       "      <th></th>\n",
       "      <th></th>\n",
       "    </tr>\n",
       "  </thead>\n",
       "  <tbody>\n",
       "    <tr>\n",
       "      <th>2020-01-01</th>\n",
       "      <td>0.967997</td>\n",
       "      <td>0.967997</td>\n",
       "      <td>1.0</td>\n",
       "      <td>1.0</td>\n",
       "    </tr>\n",
       "    <tr>\n",
       "      <th>2020-01-02</th>\n",
       "      <td>-0.931194</td>\n",
       "      <td>-0.931194</td>\n",
       "      <td>4.0</td>\n",
       "      <td>4.0</td>\n",
       "    </tr>\n",
       "    <tr>\n",
       "      <th>2020-01-03</th>\n",
       "      <td>-0.751451</td>\n",
       "      <td>-0.751451</td>\n",
       "      <td>9.0</td>\n",
       "      <td>9.0</td>\n",
       "    </tr>\n",
       "    <tr>\n",
       "      <th>2020-01-04</th>\n",
       "      <td>-0.948800</td>\n",
       "      <td>-0.347035</td>\n",
       "      <td>16.0</td>\n",
       "      <td>18.0</td>\n",
       "    </tr>\n",
       "    <tr>\n",
       "      <th>2020-01-05</th>\n",
       "      <td>-1.298903</td>\n",
       "      <td>0.057380</td>\n",
       "      <td>25.0</td>\n",
       "      <td>27.0</td>\n",
       "    </tr>\n",
       "    <tr>\n",
       "      <th>2020-01-06</th>\n",
       "      <td>0.461796</td>\n",
       "      <td>0.461796</td>\n",
       "      <td>36.0</td>\n",
       "      <td>36.0</td>\n",
       "    </tr>\n",
       "    <tr>\n",
       "      <th>2020-01-07</th>\n",
       "      <td>0.315058</td>\n",
       "      <td>0.102203</td>\n",
       "      <td>49.0</td>\n",
       "      <td>51.0</td>\n",
       "    </tr>\n",
       "    <tr>\n",
       "      <th>2020-01-08</th>\n",
       "      <td>-0.315056</td>\n",
       "      <td>-0.257390</td>\n",
       "      <td>64.0</td>\n",
       "      <td>66.0</td>\n",
       "    </tr>\n",
       "    <tr>\n",
       "      <th>2020-01-09</th>\n",
       "      <td>-0.616982</td>\n",
       "      <td>-0.616982</td>\n",
       "      <td>81.0</td>\n",
       "      <td>81.0</td>\n",
       "    </tr>\n",
       "    <tr>\n",
       "      <th>2020-01-10</th>\n",
       "      <td>-0.087907</td>\n",
       "      <td>-0.087907</td>\n",
       "      <td>100.0</td>\n",
       "      <td>100.0</td>\n",
       "    </tr>\n",
       "  </tbody>\n",
       "</table>\n",
       "</div>"
      ],
      "text/plain": [
       "              x_orig         x  y_orig      y\n",
       "dt                                           \n",
       "2020-01-01  0.967997  0.967997     1.0    1.0\n",
       "2020-01-02 -0.931194 -0.931194     4.0    4.0\n",
       "2020-01-03 -0.751451 -0.751451     9.0    9.0\n",
       "2020-01-04 -0.948800 -0.347035    16.0   18.0\n",
       "2020-01-05 -1.298903  0.057380    25.0   27.0\n",
       "2020-01-06  0.461796  0.461796    36.0   36.0\n",
       "2020-01-07  0.315058  0.102203    49.0   51.0\n",
       "2020-01-08 -0.315056 -0.257390    64.0   66.0\n",
       "2020-01-09 -0.616982 -0.616982    81.0   81.0\n",
       "2020-01-10 -0.087907 -0.087907   100.0  100.0"
      ]
     },
     "execution_count": 53,
     "metadata": {},
     "output_type": "execute_result"
    }
   ],
   "source": [
    "# interpolate, by default it is using linear\n",
    "\n",
    "dft.interpolate(method='time')"
   ]
  },
  {
   "cell_type": "code",
   "execution_count": 54,
   "id": "89eef772-f607-4cfe-9fdd-5572cba43160",
   "metadata": {},
   "outputs": [
    {
     "data": {
      "image/png": "[encoded data removed]",
      "text/plain": [
       "<Figure size 432x288 with 1 Axes>"
      ]
     },
     "metadata": {
      "needs_background": "light"
     },
     "output_type": "display_data"
    }
   ],
   "source": [
    "plt.plot(dft.index, dft['x_orig'], marker='o', markersize=20, alpha=0.25, color='gray')\n",
    "plt.plot(dft.index, dft['x'], color='blue', lw=3)\n",
    "plt.plot(dft.index, dft['x'].interpolate(method='time'), marker='+', markersize=20, color='orange', lw=1)\n",
    "plt.xticks(rotation=90);"
   ]
  },
  {
   "cell_type": "markdown",
   "id": "cb5e1a11-ffbd-44b4-beb3-6e87eb85e804",
   "metadata": {},
   "source": [
    "#### method='values'"
   ]
  },
  {
   "cell_type": "code",
   "execution_count": 56,
   "id": "f3dc48ee-c0a2-47a8-9397-e425c0a395c7",
   "metadata": {},
   "outputs": [
    {
     "data": {
      "text/plain": [
       "0    0.1\n",
       "1    0.2\n",
       "2    NaN\n",
       "3    0.4\n",
       "4    NaN\n",
       "5    NaN\n",
       "6    0.7\n",
       "dtype: float64"
      ]
     },
     "execution_count": 56,
     "metadata": {},
     "output_type": "execute_result"
    }
   ],
   "source": [
    "b"
   ]
  },
  {
   "cell_type": "code",
   "execution_count": 57,
   "id": "343480ec-ac3b-4613-b89a-cd24726feb2a",
   "metadata": {},
   "outputs": [
    {
     "data": {
      "text/plain": [
       "0    0.1\n",
       "1    0.2\n",
       "2    0.3\n",
       "3    0.4\n",
       "4    0.5\n",
       "5    0.6\n",
       "6    0.7\n",
       "dtype: float64"
      ]
     },
     "execution_count": 57,
     "metadata": {},
     "output_type": "execute_result"
    }
   ],
   "source": [
    "b.interpolate(method='values')"
   ]
  },
  {
   "cell_type": "markdown",
   "id": "e8018fd5-f73a-4d7b-8ca5-df902892ce0b",
   "metadata": {},
   "source": [
    "#### methods: linear, quadratic, cubic, polynomial, spline, piecewise_polynomial, krogh, barycenteric, pchip, akima"
   ]
  },
  {
   "cell_type": "code",
   "execution_count": 59,
   "id": "788a58c2-9cc5-4a87-bcbe-8097ce58df93",
   "metadata": {},
   "outputs": [
    {
     "data": {
      "text/plain": [
       "0       NaN\n",
       "1       NaN\n",
       "2    -100.0\n",
       "3       NaN\n",
       "4       NaN\n",
       "5       NaN\n",
       "6       4.0\n",
       "7       NaN\n",
       "8       6.0\n",
       "9       NaN\n",
       "10      NaN\n",
       "11     36.0\n",
       "12      NaN\n",
       "13      NaN\n",
       "14      NaN\n",
       "15      NaN\n",
       "16     36.0\n",
       "dtype: float64"
      ]
     },
     "execution_count": 59,
     "metadata": {},
     "output_type": "execute_result"
    }
   ],
   "source": [
    "a"
   ]
  },
  {
   "cell_type": "code",
   "execution_count": 81,
   "id": "c84cc467-faca-4d30-92b9-f59636d69622",
   "metadata": {},
   "outputs": [
    {
     "data": {
      "image/png": "[encoded data removed]",
      "text/plain": [
       "<Figure size 432x288 with 1 Axes>"
      ]
     },
     "metadata": {
      "needs_background": "light"
     },
     "output_type": "display_data"
    }
   ],
   "source": [
    "plt.scatter(a.index, a, label='original', s=400, alpha=0.4)\n",
    "plt.plot(a.index, a.interpolate(method='linear'), color='red', marker='o', label='linear', alpha=0.5);\n",
    "plt.plot(a.index, a.interpolate(method='quadratic'), color='blue', marker='o', label='quadratic', alpha=0.5);\n",
    "plt.plot(a.index, a.interpolate(method='cubic'), color='skyblue', marker='o', label='cubic', alpha=0.5);\n",
    "plt.plot(a.index, a.interpolate(method='polynomial', order=2), color='gray', marker='o', label='polynomial', alpha=0.5);\n",
    "plt.plot(a.index, a.interpolate(method='spline', order=2), color='yellow', marker='o', label='spline', alpha=0.5);\n",
    "plt.legend();"
   ]
  },
  {
   "cell_type": "code",
   "execution_count": 82,
   "id": "ddf048fa-d7ea-4573-a295-722fe7cf77fe",
   "metadata": {},
   "outputs": [
    {
     "data": {
      "text/plain": [
       "0       NaN\n",
       "1       NaN\n",
       "2    -100.0\n",
       "3     -74.0\n",
       "4       NaN\n",
       "5     -22.0\n",
       "6       4.0\n",
       "7       5.0\n",
       "8       6.0\n",
       "9      16.0\n",
       "10     26.0\n",
       "11     36.0\n",
       "12     36.0\n",
       "13      NaN\n",
       "14      NaN\n",
       "15     36.0\n",
       "16     36.0\n",
       "dtype: float64"
      ]
     },
     "execution_count": 82,
     "metadata": {},
     "output_type": "execute_result"
    }
   ],
   "source": [
    "# limit, limit_direction, limit_area\n",
    "\n",
    "a.interpolate(limit_direction='both', limit_area='inside', limit=1)"
   ]
  },
  {
   "cell_type": "markdown",
   "id": "e095dfee-5450-4c88-8c57-16cfe10dfabc",
   "metadata": {
    "tags": []
   },
   "source": [
    "### P18 - replace()"
   ]
  },
  {
   "cell_type": "code",
   "execution_count": 84,
   "id": "3c4f5216-2e38-4a03-89d6-6d63f246c802",
   "metadata": {},
   "outputs": [
    {
     "data": {
      "text/plain": [
       "0    11\n",
       "1    22\n",
       "2    33\n",
       "3    44\n",
       "dtype: int64"
      ]
     },
     "execution_count": 84,
     "metadata": {},
     "output_type": "execute_result"
    }
   ],
   "source": [
    "a = pd.Series([11, 22, 33, 44])\n",
    "a"
   ]
  },
  {
   "cell_type": "code",
   "execution_count": 85,
   "id": "dd66bf9f-7752-478c-86e7-26d585ddc915",
   "metadata": {},
   "outputs": [
    {
     "data": {
      "text/html": [
       "<div>\n",
       "<style scoped>\n",
       "    .dataframe tbody tr th:only-of-type {\n",
       "        vertical-align: middle;\n",
       "    }\n",
       "\n",
       "    .dataframe tbody tr th {\n",
       "        vertical-align: top;\n",
       "    }\n",
       "\n",
       "    .dataframe thead th {\n",
       "        text-align: right;\n",
       "    }\n",
       "</style>\n",
       "<table border=\"1\" class=\"dataframe\">\n",
       "  <thead>\n",
       "    <tr style=\"text-align: right;\">\n",
       "      <th></th>\n",
       "      <th>A</th>\n",
       "      <th>B</th>\n",
       "      <th>C</th>\n",
       "    </tr>\n",
       "  </thead>\n",
       "  <tbody>\n",
       "    <tr>\n",
       "      <th>0</th>\n",
       "      <td>11</td>\n",
       "      <td>m</td>\n",
       "      <td>i</td>\n",
       "    </tr>\n",
       "    <tr>\n",
       "      <th>1</th>\n",
       "      <td>22</td>\n",
       "      <td>*</td>\n",
       "      <td>NaN</td>\n",
       "    </tr>\n",
       "    <tr>\n",
       "      <th>2</th>\n",
       "      <td>33</td>\n",
       "      <td>*</td>\n",
       "      <td>NaN</td>\n",
       "    </tr>\n",
       "    <tr>\n",
       "      <th>3</th>\n",
       "      <td>44</td>\n",
       "      <td>**</td>\n",
       "      <td>j</td>\n",
       "    </tr>\n",
       "    <tr>\n",
       "      <th>4</th>\n",
       "      <td>55</td>\n",
       "      <td>n</td>\n",
       "      <td>k</td>\n",
       "    </tr>\n",
       "  </tbody>\n",
       "</table>\n",
       "</div>"
      ],
      "text/plain": [
       "    A   B    C\n",
       "0  11   m    i\n",
       "1  22   *  NaN\n",
       "2  33   *  NaN\n",
       "3  44  **    j\n",
       "4  55   n    k"
      ]
     },
     "execution_count": 85,
     "metadata": {},
     "output_type": "execute_result"
    }
   ],
   "source": [
    "dfr = pd.DataFrame({\n",
    "    \"A\": [11, 22, 33, 44, 55],\n",
    "    \"B\": [\"m\", \"*\", \"*\", \"**\", \"n\"],\n",
    "    \"C\": [\"i\", np.nan, np.nan, \"j\", \"k\"]\n",
    "})\n",
    "\n",
    "dfr"
   ]
  },
  {
   "cell_type": "code",
   "execution_count": 86,
   "id": "0a47fa42-c450-46bc-9d8a-4230bc5ec978",
   "metadata": {},
   "outputs": [
    {
     "data": {
      "text/plain": [
       "0    999\n",
       "1     22\n",
       "2     33\n",
       "3     44\n",
       "dtype: int64"
      ]
     },
     "execution_count": 86,
     "metadata": {},
     "output_type": "execute_result"
    }
   ],
   "source": [
    "# replace\n",
    "\n",
    "a.replace(11, 999)"
   ]
  },
  {
   "cell_type": "code",
   "execution_count": 87,
   "id": "c0b4fbbe-c67d-4c76-a4b6-72bbd0cf4524",
   "metadata": {},
   "outputs": [
    {
     "data": {
      "text/plain": [
       "0    999\n",
       "1    888\n",
       "2     33\n",
       "3     44\n",
       "dtype: int64"
      ]
     },
     "execution_count": 87,
     "metadata": {},
     "output_type": "execute_result"
    }
   ],
   "source": [
    "a.replace({11: 999, 22: 888})"
   ]
  },
  {
   "cell_type": "code",
   "execution_count": 91,
   "id": "37ace68c-9d2a-45fd-855d-084188bef62e",
   "metadata": {},
   "outputs": [
    {
     "data": {
      "text/html": [
       "<div>\n",
       "<style scoped>\n",
       "    .dataframe tbody tr th:only-of-type {\n",
       "        vertical-align: middle;\n",
       "    }\n",
       "\n",
       "    .dataframe tbody tr th {\n",
       "        vertical-align: top;\n",
       "    }\n",
       "\n",
       "    .dataframe thead th {\n",
       "        text-align: right;\n",
       "    }\n",
       "</style>\n",
       "<table border=\"1\" class=\"dataframe\">\n",
       "  <thead>\n",
       "    <tr style=\"text-align: right;\">\n",
       "      <th></th>\n",
       "      <th>A</th>\n",
       "      <th>B</th>\n",
       "      <th>C</th>\n",
       "    </tr>\n",
       "  </thead>\n",
       "  <tbody>\n",
       "    <tr>\n",
       "      <th>0</th>\n",
       "      <td>11</td>\n",
       "      <td>m</td>\n",
       "      <td>i</td>\n",
       "    </tr>\n",
       "    <tr>\n",
       "      <th>1</th>\n",
       "      <td>22</td>\n",
       "      <td>999</td>\n",
       "      <td>NaN</td>\n",
       "    </tr>\n",
       "    <tr>\n",
       "      <th>2</th>\n",
       "      <td>33</td>\n",
       "      <td>999</td>\n",
       "      <td>NaN</td>\n",
       "    </tr>\n",
       "    <tr>\n",
       "      <th>3</th>\n",
       "      <td>44</td>\n",
       "      <td>999</td>\n",
       "      <td>j</td>\n",
       "    </tr>\n",
       "    <tr>\n",
       "      <th>4</th>\n",
       "      <td>55</td>\n",
       "      <td>n</td>\n",
       "      <td>k</td>\n",
       "    </tr>\n",
       "  </tbody>\n",
       "</table>\n",
       "</div>"
      ],
      "text/plain": [
       "    A    B    C\n",
       "0  11    m    i\n",
       "1  22  999  NaN\n",
       "2  33  999  NaN\n",
       "3  44  999    j\n",
       "4  55    n    k"
      ]
     },
     "execution_count": 91,
     "metadata": {},
     "output_type": "execute_result"
    }
   ],
   "source": [
    "dfr.replace([\"*\", \"**\"], 999)"
   ]
  },
  {
   "cell_type": "code",
   "execution_count": 93,
   "id": "61bf759a-5eb3-4627-8d5c-970f353ace53",
   "metadata": {},
   "outputs": [
    {
     "data": {
      "text/html": [
       "<div>\n",
       "<style scoped>\n",
       "    .dataframe tbody tr th:only-of-type {\n",
       "        vertical-align: middle;\n",
       "    }\n",
       "\n",
       "    .dataframe tbody tr th {\n",
       "        vertical-align: top;\n",
       "    }\n",
       "\n",
       "    .dataframe thead th {\n",
       "        text-align: right;\n",
       "    }\n",
       "</style>\n",
       "<table border=\"1\" class=\"dataframe\">\n",
       "  <thead>\n",
       "    <tr style=\"text-align: right;\">\n",
       "      <th></th>\n",
       "      <th>A</th>\n",
       "      <th>B</th>\n",
       "      <th>C</th>\n",
       "    </tr>\n",
       "  </thead>\n",
       "  <tbody>\n",
       "    <tr>\n",
       "      <th>0</th>\n",
       "      <td>11</td>\n",
       "      <td>m</td>\n",
       "      <td>i</td>\n",
       "    </tr>\n",
       "    <tr>\n",
       "      <th>1</th>\n",
       "      <td>22</td>\n",
       "      <td>999</td>\n",
       "      <td>NaN</td>\n",
       "    </tr>\n",
       "    <tr>\n",
       "      <th>2</th>\n",
       "      <td>33</td>\n",
       "      <td>999</td>\n",
       "      <td>NaN</td>\n",
       "    </tr>\n",
       "    <tr>\n",
       "      <th>3</th>\n",
       "      <td>44</td>\n",
       "      <td>999</td>\n",
       "      <td>j</td>\n",
       "    </tr>\n",
       "    <tr>\n",
       "      <th>4</th>\n",
       "      <td>55</td>\n",
       "      <td>n</td>\n",
       "      <td>k</td>\n",
       "    </tr>\n",
       "  </tbody>\n",
       "</table>\n",
       "</div>"
      ],
      "text/plain": [
       "    A    B    C\n",
       "0  11    m    i\n",
       "1  22  999  NaN\n",
       "2  33  999  NaN\n",
       "3  44  999    j\n",
       "4  55    n    k"
      ]
     },
     "execution_count": 93,
     "metadata": {},
     "output_type": "execute_result"
    }
   ],
   "source": [
    "# regex\n",
    "\n",
    "dfr.replace(r\"\\*\", 999, regex=True)"
   ]
  },
  {
   "cell_type": "code",
   "execution_count": 99,
   "id": "97cf44d6-7745-4e61-873d-88b8a11278e2",
   "metadata": {},
   "outputs": [
    {
     "data": {
      "text/html": [
       "<div>\n",
       "<style scoped>\n",
       "    .dataframe tbody tr th:only-of-type {\n",
       "        vertical-align: middle;\n",
       "    }\n",
       "\n",
       "    .dataframe tbody tr th {\n",
       "        vertical-align: top;\n",
       "    }\n",
       "\n",
       "    .dataframe thead th {\n",
       "        text-align: right;\n",
       "    }\n",
       "</style>\n",
       "<table border=\"1\" class=\"dataframe\">\n",
       "  <thead>\n",
       "    <tr style=\"text-align: right;\">\n",
       "      <th></th>\n",
       "      <th>A</th>\n",
       "      <th>B</th>\n",
       "      <th>C</th>\n",
       "    </tr>\n",
       "  </thead>\n",
       "  <tbody>\n",
       "    <tr>\n",
       "      <th>0</th>\n",
       "      <td>11</td>\n",
       "      <td>m</td>\n",
       "      <td>i</td>\n",
       "    </tr>\n",
       "    <tr>\n",
       "      <th>1</th>\n",
       "      <td>22</td>\n",
       "      <td>Star</td>\n",
       "      <td>NaN</td>\n",
       "    </tr>\n",
       "    <tr>\n",
       "      <th>2</th>\n",
       "      <td>33</td>\n",
       "      <td>Star</td>\n",
       "      <td>NaN</td>\n",
       "    </tr>\n",
       "    <tr>\n",
       "      <th>3</th>\n",
       "      <td>44</td>\n",
       "      <td>StarStar</td>\n",
       "      <td>j</td>\n",
       "    </tr>\n",
       "    <tr>\n",
       "      <th>4</th>\n",
       "      <td>55</td>\n",
       "      <td>n</td>\n",
       "      <td>k</td>\n",
       "    </tr>\n",
       "  </tbody>\n",
       "</table>\n",
       "</div>"
      ],
      "text/plain": [
       "    A         B    C\n",
       "0  11         m    i\n",
       "1  22      Star  NaN\n",
       "2  33      Star  NaN\n",
       "3  44  StarStar    j\n",
       "4  55         n    k"
      ]
     },
     "execution_count": 99,
     "metadata": {},
     "output_type": "execute_result"
    }
   ],
   "source": [
    "dfr.replace([r'(\\*)'], ['Star'], regex=True)"
   ]
  },
  {
   "cell_type": "markdown",
   "id": "e5703d91-19a2-4c45-904b-30283a1d87cf",
   "metadata": {
    "tags": []
   },
   "source": [
    "### P19 - Categorical Data"
   ]
  },
  {
   "cell_type": "code",
   "execution_count": 100,
   "id": "da2cf71f-52af-44a3-86c2-a0375aa075fc",
   "metadata": {},
   "outputs": [
    {
     "data": {
      "text/plain": [
       "0    m\n",
       "1    n\n",
       "2    o\n",
       "3    p\n",
       "4    m\n",
       "5    n\n",
       "dtype: object"
      ]
     },
     "execution_count": 100,
     "metadata": {},
     "output_type": "execute_result"
    }
   ],
   "source": [
    "a = pd.Series(['m', 'n', 'o', 'p', 'm', 'n'])\n",
    "a"
   ]
  },
  {
   "cell_type": "code",
   "execution_count": 105,
   "id": "77ff21df-dfe5-44d4-8f47-ae4f00305bf2",
   "metadata": {},
   "outputs": [
    {
     "data": {
      "text/html": [
       "<div>\n",
       "<style scoped>\n",
       "    .dataframe tbody tr th:only-of-type {\n",
       "        vertical-align: middle;\n",
       "    }\n",
       "\n",
       "    .dataframe tbody tr th {\n",
       "        vertical-align: top;\n",
       "    }\n",
       "\n",
       "    .dataframe thead th {\n",
       "        text-align: right;\n",
       "    }\n",
       "</style>\n",
       "<table border=\"1\" class=\"dataframe\">\n",
       "  <thead>\n",
       "    <tr style=\"text-align: right;\">\n",
       "      <th></th>\n",
       "      <th>GeoID</th>\n",
       "      <th>Rainfall_mmph</th>\n",
       "    </tr>\n",
       "  </thead>\n",
       "  <tbody>\n",
       "    <tr>\n",
       "      <th>0</th>\n",
       "      <td>910291</td>\n",
       "      <td>7.4</td>\n",
       "    </tr>\n",
       "    <tr>\n",
       "      <th>1</th>\n",
       "      <td>933822</td>\n",
       "      <td>1.3</td>\n",
       "    </tr>\n",
       "    <tr>\n",
       "      <th>2</th>\n",
       "      <td>964834</td>\n",
       "      <td>3.9</td>\n",
       "    </tr>\n",
       "    <tr>\n",
       "      <th>3</th>\n",
       "      <td>936384</td>\n",
       "      <td>5.2</td>\n",
       "    </tr>\n",
       "    <tr>\n",
       "      <th>4</th>\n",
       "      <td>968484</td>\n",
       "      <td>0.1</td>\n",
       "    </tr>\n",
       "    <tr>\n",
       "      <th>5</th>\n",
       "      <td>918242</td>\n",
       "      <td>79.0</td>\n",
       "    </tr>\n",
       "    <tr>\n",
       "      <th>6</th>\n",
       "      <td>924353</td>\n",
       "      <td>24.0</td>\n",
       "    </tr>\n",
       "  </tbody>\n",
       "</table>\n",
       "</div>"
      ],
      "text/plain": [
       "    GeoID  Rainfall_mmph\n",
       "0  910291            7.4\n",
       "1  933822            1.3\n",
       "2  964834            3.9\n",
       "3  936384            5.2\n",
       "4  968484            0.1\n",
       "5  918242           79.0\n",
       "6  924353           24.0"
      ]
     },
     "execution_count": 105,
     "metadata": {},
     "output_type": "execute_result"
    }
   ],
   "source": [
    "dfr = pd.DataFrame({\n",
    "    'GeoID': [910291, 933822, 964834, 936384, 968484, 918242, 924353],\n",
    "    'Rainfall_mmph': [7.4, 1.3, 3.9, 5.2, 0.1, 79, 24]\n",
    "})\n",
    "dfr"
   ]
  },
  {
   "cell_type": "code",
   "execution_count": 107,
   "id": "71581eb9-3b33-4a5e-b817-518634aaffa7",
   "metadata": {},
   "outputs": [
    {
     "data": {
      "text/html": [
       "<div>\n",
       "<style scoped>\n",
       "    .dataframe tbody tr th:only-of-type {\n",
       "        vertical-align: middle;\n",
       "    }\n",
       "\n",
       "    .dataframe tbody tr th {\n",
       "        vertical-align: top;\n",
       "    }\n",
       "\n",
       "    .dataframe thead th {\n",
       "        text-align: right;\n",
       "    }\n",
       "</style>\n",
       "<table border=\"1\" class=\"dataframe\">\n",
       "  <thead>\n",
       "    <tr style=\"text-align: right;\">\n",
       "      <th></th>\n",
       "      <th>CustomerID</th>\n",
       "      <th>VisitsPerWeek</th>\n",
       "      <th>CustomerSatisfaction</th>\n",
       "      <th>code</th>\n",
       "    </tr>\n",
       "  </thead>\n",
       "  <tbody>\n",
       "    <tr>\n",
       "      <th>0</th>\n",
       "      <td>10000012</td>\n",
       "      <td>6</td>\n",
       "      <td>Poor</td>\n",
       "      <td>1</td>\n",
       "    </tr>\n",
       "    <tr>\n",
       "      <th>1</th>\n",
       "      <td>10000014</td>\n",
       "      <td>36</td>\n",
       "      <td>Excellent</td>\n",
       "      <td>4</td>\n",
       "    </tr>\n",
       "    <tr>\n",
       "      <th>2</th>\n",
       "      <td>10000044</td>\n",
       "      <td>12</td>\n",
       "      <td>Average</td>\n",
       "      <td>2</td>\n",
       "    </tr>\n",
       "    <tr>\n",
       "      <th>3</th>\n",
       "      <td>10000013</td>\n",
       "      <td>1</td>\n",
       "      <td>Bad</td>\n",
       "      <td>0</td>\n",
       "    </tr>\n",
       "    <tr>\n",
       "      <th>4</th>\n",
       "      <td>10000023</td>\n",
       "      <td>27</td>\n",
       "      <td>Good</td>\n",
       "      <td>3</td>\n",
       "    </tr>\n",
       "    <tr>\n",
       "      <th>5</th>\n",
       "      <td>10000067</td>\n",
       "      <td>10</td>\n",
       "      <td>Poor</td>\n",
       "      <td>1</td>\n",
       "    </tr>\n",
       "  </tbody>\n",
       "</table>\n",
       "</div>"
      ],
      "text/plain": [
       "   CustomerID  VisitsPerWeek CustomerSatisfaction  code\n",
       "0    10000012              6                 Poor     1\n",
       "1    10000014             36            Excellent     4\n",
       "2    10000044             12              Average     2\n",
       "3    10000013              1                  Bad     0\n",
       "4    10000023             27                 Good     3\n",
       "5    10000067             10                 Poor     1"
      ]
     },
     "execution_count": 107,
     "metadata": {},
     "output_type": "execute_result"
    }
   ],
   "source": [
    "dfc = pd.DataFrame({\n",
    "    'CustomerID': [10000012, 10000014, 10000044, 10000013, 10000023, 10000067],\n",
    "    'VisitsPerWeek': [6, 36, 12, 1, 27, 10],\n",
    "    'CustomerSatisfaction': ['Poor', 'Excellent', 'Average', 'Bad', 'Good', 'Poor'],\n",
    "    'code': [1, 4, 2, 0, 3, 1]\n",
    "})\n",
    "\n",
    "dfc"
   ]
  },
  {
   "cell_type": "code",
   "execution_count": 109,
   "id": "d5afafb5-fe09-4a03-9347-3df3faa6be61",
   "metadata": {},
   "outputs": [
    {
     "data": {
      "text/plain": [
       "0    m\n",
       "1    n\n",
       "2    o\n",
       "3    p\n",
       "4    m\n",
       "5    n\n",
       "dtype: category\n",
       "Categories (4, object): ['m', 'n', 'o', 'p']"
      ]
     },
     "execution_count": 109,
     "metadata": {},
     "output_type": "execute_result"
    }
   ],
   "source": [
    "# dtype = category\n",
    "\n",
    "a = pd.Series(['m', 'n', 'o', 'p', 'm', 'n'], dtype='category')\n",
    "a"
   ]
  },
  {
   "cell_type": "code",
   "execution_count": 119,
   "id": "b819e700-63f8-4bf5-8be1-a1190bb70ee6",
   "metadata": {},
   "outputs": [
    {
     "data": {
      "text/plain": [
       "A      object\n",
       "B    category\n",
       "dtype: object"
      ]
     },
     "execution_count": 119,
     "metadata": {},
     "output_type": "execute_result"
    }
   ],
   "source": [
    "# astype: category\n",
    "\n",
    "df = pd.DataFrame({\n",
    "    \"A\": [\"m\", \"n\", \"o\", \"p\", \"m\", \"n\"]\n",
    "})\n",
    "df['B'] = df['A'].astype('category')\n",
    "\n",
    "df.dtypes"
   ]
  },
  {
   "cell_type": "code",
   "execution_count": 126,
   "id": "8cc584d8-8815-4013-8c2c-dd71bd04ee6a",
   "metadata": {},
   "outputs": [
    {
     "data": {
      "text/plain": [
       "['0.01 upto 2.5', '2.5 upto 10', '10 upto 50', '50 upto 100']"
      ]
     },
     "execution_count": 126,
     "metadata": {},
     "output_type": "execute_result"
    }
   ],
   "source": [
    "# binning\n",
    "\n",
    "rr = [0.01, 2.5, 10, 50, 100]\n",
    "\n",
    "rr_labels = [\"{0} upto {1}\".format(rr[i], rr[i+1]) for i in range(len(rr) - 1)]\n",
    "rr_labels"
   ]
  },
  {
   "cell_type": "code",
   "execution_count": 131,
   "id": "f81add48-11d0-4aaa-8b17-acfe4b49d8b9",
   "metadata": {},
   "outputs": [
    {
     "data": {
      "text/html": [
       "<div>\n",
       "<style scoped>\n",
       "    .dataframe tbody tr th:only-of-type {\n",
       "        vertical-align: middle;\n",
       "    }\n",
       "\n",
       "    .dataframe tbody tr th {\n",
       "        vertical-align: top;\n",
       "    }\n",
       "\n",
       "    .dataframe thead th {\n",
       "        text-align: right;\n",
       "    }\n",
       "</style>\n",
       "<table border=\"1\" class=\"dataframe\">\n",
       "  <thead>\n",
       "    <tr style=\"text-align: right;\">\n",
       "      <th></th>\n",
       "      <th>GeoID</th>\n",
       "      <th>Rainfall_mmph</th>\n",
       "      <th>rain_category</th>\n",
       "    </tr>\n",
       "  </thead>\n",
       "  <tbody>\n",
       "    <tr>\n",
       "      <th>0</th>\n",
       "      <td>910291</td>\n",
       "      <td>7.4</td>\n",
       "      <td>2.5 upto 10</td>\n",
       "    </tr>\n",
       "    <tr>\n",
       "      <th>1</th>\n",
       "      <td>933822</td>\n",
       "      <td>1.3</td>\n",
       "      <td>0.01 upto 2.5</td>\n",
       "    </tr>\n",
       "    <tr>\n",
       "      <th>2</th>\n",
       "      <td>964834</td>\n",
       "      <td>3.9</td>\n",
       "      <td>2.5 upto 10</td>\n",
       "    </tr>\n",
       "    <tr>\n",
       "      <th>3</th>\n",
       "      <td>936384</td>\n",
       "      <td>5.2</td>\n",
       "      <td>2.5 upto 10</td>\n",
       "    </tr>\n",
       "    <tr>\n",
       "      <th>4</th>\n",
       "      <td>968484</td>\n",
       "      <td>0.1</td>\n",
       "      <td>0.01 upto 2.5</td>\n",
       "    </tr>\n",
       "    <tr>\n",
       "      <th>5</th>\n",
       "      <td>918242</td>\n",
       "      <td>79.0</td>\n",
       "      <td>50 upto 100</td>\n",
       "    </tr>\n",
       "    <tr>\n",
       "      <th>6</th>\n",
       "      <td>924353</td>\n",
       "      <td>24.0</td>\n",
       "      <td>10 upto 50</td>\n",
       "    </tr>\n",
       "  </tbody>\n",
       "</table>\n",
       "</div>"
      ],
      "text/plain": [
       "    GeoID  Rainfall_mmph  rain_category\n",
       "0  910291            7.4    2.5 upto 10\n",
       "1  933822            1.3  0.01 upto 2.5\n",
       "2  964834            3.9    2.5 upto 10\n",
       "3  936384            5.2    2.5 upto 10\n",
       "4  968484            0.1  0.01 upto 2.5\n",
       "5  918242           79.0    50 upto 100\n",
       "6  924353           24.0     10 upto 50"
      ]
     },
     "execution_count": 131,
     "metadata": {},
     "output_type": "execute_result"
    }
   ],
   "source": [
    "# cut\n",
    "\n",
    "dfr['rain_category'] = pd.cut(dfr['Rainfall_mmph'], rr, right=False, labels=rr_labels)\n",
    "dfr"
   ]
  },
  {
   "cell_type": "code",
   "execution_count": 132,
   "id": "52cb3155-7196-4a22-97e8-a89408be177d",
   "metadata": {},
   "outputs": [
    {
     "data": {
      "text/plain": [
       "GeoID               int64\n",
       "Rainfall_mmph     float64\n",
       "rain_category    category\n",
       "dtype: object"
      ]
     },
     "execution_count": 132,
     "metadata": {},
     "output_type": "execute_result"
    }
   ],
   "source": [
    "dfr.dtypes"
   ]
  },
  {
   "cell_type": "code",
   "execution_count": 133,
   "id": "e303382e-779a-4163-abca-524cfb3366e4",
   "metadata": {},
   "outputs": [
    {
     "data": {
      "text/html": [
       "<div>\n",
       "<style scoped>\n",
       "    .dataframe tbody tr th:only-of-type {\n",
       "        vertical-align: middle;\n",
       "    }\n",
       "\n",
       "    .dataframe tbody tr th {\n",
       "        vertical-align: top;\n",
       "    }\n",
       "\n",
       "    .dataframe thead th {\n",
       "        text-align: right;\n",
       "    }\n",
       "</style>\n",
       "<table border=\"1\" class=\"dataframe\">\n",
       "  <thead>\n",
       "    <tr style=\"text-align: right;\">\n",
       "      <th></th>\n",
       "      <th>GeoID</th>\n",
       "      <th>Rainfall_mmph</th>\n",
       "      <th>rain_category</th>\n",
       "      <th>rain_category2</th>\n",
       "    </tr>\n",
       "  </thead>\n",
       "  <tbody>\n",
       "    <tr>\n",
       "      <th>0</th>\n",
       "      <td>910291</td>\n",
       "      <td>7.4</td>\n",
       "      <td>2.5 upto 10</td>\n",
       "      <td>medium</td>\n",
       "    </tr>\n",
       "    <tr>\n",
       "      <th>1</th>\n",
       "      <td>933822</td>\n",
       "      <td>1.3</td>\n",
       "      <td>0.01 upto 2.5</td>\n",
       "      <td>light</td>\n",
       "    </tr>\n",
       "    <tr>\n",
       "      <th>2</th>\n",
       "      <td>964834</td>\n",
       "      <td>3.9</td>\n",
       "      <td>2.5 upto 10</td>\n",
       "      <td>medium</td>\n",
       "    </tr>\n",
       "    <tr>\n",
       "      <th>3</th>\n",
       "      <td>936384</td>\n",
       "      <td>5.2</td>\n",
       "      <td>2.5 upto 10</td>\n",
       "      <td>medium</td>\n",
       "    </tr>\n",
       "    <tr>\n",
       "      <th>4</th>\n",
       "      <td>968484</td>\n",
       "      <td>0.1</td>\n",
       "      <td>0.01 upto 2.5</td>\n",
       "      <td>light</td>\n",
       "    </tr>\n",
       "    <tr>\n",
       "      <th>5</th>\n",
       "      <td>918242</td>\n",
       "      <td>79.0</td>\n",
       "      <td>50 upto 100</td>\n",
       "      <td>violent</td>\n",
       "    </tr>\n",
       "    <tr>\n",
       "      <th>6</th>\n",
       "      <td>924353</td>\n",
       "      <td>24.0</td>\n",
       "      <td>10 upto 50</td>\n",
       "      <td>heavy</td>\n",
       "    </tr>\n",
       "  </tbody>\n",
       "</table>\n",
       "</div>"
      ],
      "text/plain": [
       "    GeoID  Rainfall_mmph  rain_category rain_category2\n",
       "0  910291            7.4    2.5 upto 10         medium\n",
       "1  933822            1.3  0.01 upto 2.5          light\n",
       "2  964834            3.9    2.5 upto 10         medium\n",
       "3  936384            5.2    2.5 upto 10         medium\n",
       "4  968484            0.1  0.01 upto 2.5          light\n",
       "5  918242           79.0    50 upto 100        violent\n",
       "6  924353           24.0     10 upto 50          heavy"
      ]
     },
     "execution_count": 133,
     "metadata": {},
     "output_type": "execute_result"
    }
   ],
   "source": [
    "# Categorical\n",
    "\n",
    "rcat = pd.Categorical(['medium', 'light', 'medium', 'medium', 'light', 'violent', 'heavy'])\n",
    "dfr['rain_category2'] = rcat\n",
    "dfr"
   ]
  },
  {
   "cell_type": "code",
   "execution_count": 134,
   "id": "8a319536-1574-4910-93b9-f8f5f775fa5f",
   "metadata": {},
   "outputs": [
    {
     "data": {
      "text/plain": [
       "GeoID                int64\n",
       "Rainfall_mmph      float64\n",
       "rain_category     category\n",
       "rain_category2    category\n",
       "dtype: object"
      ]
     },
     "execution_count": 134,
     "metadata": {},
     "output_type": "execute_result"
    }
   ],
   "source": [
    "dfr.dtypes"
   ]
  },
  {
   "cell_type": "code",
   "execution_count": 135,
   "id": "eebe1873-9478-4859-ab93-a1f578f5c5bd",
   "metadata": {},
   "outputs": [
    {
     "data": {
      "text/plain": [
       "x    category\n",
       "y    category\n",
       "dtype: object"
      ]
     },
     "execution_count": 135,
     "metadata": {},
     "output_type": "execute_result"
    }
   ],
   "source": [
    "# adding a categorical column while creating a df\n",
    "\n",
    "dfx = pd.DataFrame({\n",
    "    \"x\": ['m', 'n', 'o'],\n",
    "    \"y\": [\"o\", \"p\", \"q\"]},\n",
    "    dtype='category'\n",
    ")\n",
    "\n",
    "dfx.dtypes"
   ]
  },
  {
   "cell_type": "code",
   "execution_count": 138,
   "id": "b6b8b1f0-beb7-4a17-a986-42a72ac8ef80",
   "metadata": {},
   "outputs": [
    {
     "data": {
      "text/plain": [
       "0    m\n",
       "1    n\n",
       "2    o\n",
       "3    p\n",
       "4    m\n",
       "5    n\n",
       "dtype: object"
      ]
     },
     "execution_count": 138,
     "metadata": {},
     "output_type": "execute_result"
    }
   ],
   "source": [
    "# CategoricalDtype\n",
    "\n",
    "from pandas.api.types import CategoricalDtype\n",
    "\n",
    "a = pd.Series(['m', 'n', 'o', 'p', 'm', 'n'])\n",
    "a"
   ]
  },
  {
   "cell_type": "code",
   "execution_count": 139,
   "id": "ee583537-7a67-4569-b117-8bba7e45e622",
   "metadata": {},
   "outputs": [
    {
     "data": {
      "text/plain": [
       "CategoricalDtype(categories=['m', 'o', 'p'], ordered=True)"
      ]
     },
     "execution_count": 139,
     "metadata": {},
     "output_type": "execute_result"
    }
   ],
   "source": [
    "cat_type = CategoricalDtype(categories=['m', 'o', 'p'], ordered=True)\n",
    "cat_type"
   ]
  },
  {
   "cell_type": "code",
   "execution_count": 140,
   "id": "78e38b27-2574-4613-8a45-08f502d28c8d",
   "metadata": {},
   "outputs": [
    {
     "data": {
      "text/plain": [
       "0      m\n",
       "1    NaN\n",
       "2      o\n",
       "3      p\n",
       "4      m\n",
       "5    NaN\n",
       "dtype: category\n",
       "Categories (3, object): ['m' < 'o' < 'p']"
      ]
     },
     "execution_count": 140,
     "metadata": {},
     "output_type": "execute_result"
    }
   ],
   "source": [
    "a_cat = a.astype(cat_type)\n",
    "a_cat"
   ]
  },
  {
   "cell_type": "code",
   "execution_count": 143,
   "id": "95851494-830c-43cd-9ead-ca76fd595abd",
   "metadata": {},
   "outputs": [
    {
     "data": {
      "text/html": [
       "<div>\n",
       "<style scoped>\n",
       "    .dataframe tbody tr th:only-of-type {\n",
       "        vertical-align: middle;\n",
       "    }\n",
       "\n",
       "    .dataframe tbody tr th {\n",
       "        vertical-align: top;\n",
       "    }\n",
       "\n",
       "    .dataframe thead th {\n",
       "        text-align: right;\n",
       "    }\n",
       "</style>\n",
       "<table border=\"1\" class=\"dataframe\">\n",
       "  <thead>\n",
       "    <tr style=\"text-align: right;\">\n",
       "      <th></th>\n",
       "      <th>x</th>\n",
       "      <th>y</th>\n",
       "    </tr>\n",
       "  </thead>\n",
       "  <tbody>\n",
       "    <tr>\n",
       "      <th>0</th>\n",
       "      <td>m</td>\n",
       "      <td>m</td>\n",
       "    </tr>\n",
       "    <tr>\n",
       "      <th>1</th>\n",
       "      <td>n</td>\n",
       "      <td>o</td>\n",
       "    </tr>\n",
       "    <tr>\n",
       "      <th>2</th>\n",
       "      <td>o</td>\n",
       "      <td>p</td>\n",
       "    </tr>\n",
       "    <tr>\n",
       "      <th>3</th>\n",
       "      <td>p</td>\n",
       "      <td>q</td>\n",
       "    </tr>\n",
       "  </tbody>\n",
       "</table>\n",
       "</div>"
      ],
      "text/plain": [
       "   x  y\n",
       "0  m  m\n",
       "1  n  o\n",
       "2  o  p\n",
       "3  p  q"
      ]
     },
     "execution_count": 143,
     "metadata": {},
     "output_type": "execute_result"
    }
   ],
   "source": [
    "# list(\"mnop\")\n",
    "\n",
    "dfv = pd.DataFrame({\n",
    "    \"x\": list(\"mnop\"),\n",
    "    \"y\": list(\"mopq\")\n",
    "})\n",
    "\n",
    "dfv"
   ]
  },
  {
   "cell_type": "code",
   "execution_count": 144,
   "id": "2da850d4-f1b5-4aaf-9e9b-7af077df45e9",
   "metadata": {},
   "outputs": [
    {
     "data": {
      "text/html": [
       "<div>\n",
       "<style scoped>\n",
       "    .dataframe tbody tr th:only-of-type {\n",
       "        vertical-align: middle;\n",
       "    }\n",
       "\n",
       "    .dataframe tbody tr th {\n",
       "        vertical-align: top;\n",
       "    }\n",
       "\n",
       "    .dataframe thead th {\n",
       "        text-align: right;\n",
       "    }\n",
       "</style>\n",
       "<table border=\"1\" class=\"dataframe\">\n",
       "  <thead>\n",
       "    <tr style=\"text-align: right;\">\n",
       "      <th></th>\n",
       "      <th>x</th>\n",
       "      <th>y</th>\n",
       "    </tr>\n",
       "  </thead>\n",
       "  <tbody>\n",
       "    <tr>\n",
       "      <th>0</th>\n",
       "      <td>m</td>\n",
       "      <td>m</td>\n",
       "    </tr>\n",
       "    <tr>\n",
       "      <th>1</th>\n",
       "      <td>NaN</td>\n",
       "      <td>o</td>\n",
       "    </tr>\n",
       "    <tr>\n",
       "      <th>2</th>\n",
       "      <td>o</td>\n",
       "      <td>p</td>\n",
       "    </tr>\n",
       "    <tr>\n",
       "      <th>3</th>\n",
       "      <td>p</td>\n",
       "      <td>NaN</td>\n",
       "    </tr>\n",
       "  </tbody>\n",
       "</table>\n",
       "</div>"
      ],
      "text/plain": [
       "     x    y\n",
       "0    m    m\n",
       "1  NaN    o\n",
       "2    o    p\n",
       "3    p  NaN"
      ]
     },
     "execution_count": 144,
     "metadata": {},
     "output_type": "execute_result"
    }
   ],
   "source": [
    "dfv_cat = dfv.astype(cat_type)\n",
    "dfv_cat"
   ]
  },
  {
   "cell_type": "code",
   "execution_count": 145,
   "id": "128e7bdc-6e2e-4daa-ac98-88f2c9cdfdf6",
   "metadata": {},
   "outputs": [
    {
     "data": {
      "text/plain": [
       "x    category\n",
       "y    category\n",
       "dtype: object"
      ]
     },
     "execution_count": 145,
     "metadata": {},
     "output_type": "execute_result"
    }
   ],
   "source": [
    "dfv_cat.dtypes"
   ]
  },
  {
   "cell_type": "code",
   "execution_count": 154,
   "id": "f3988009-78c1-498b-bb02-164598a81f26",
   "metadata": {},
   "outputs": [
    {
     "data": {
      "text/html": [
       "<div>\n",
       "<style scoped>\n",
       "    .dataframe tbody tr th:only-of-type {\n",
       "        vertical-align: middle;\n",
       "    }\n",
       "\n",
       "    .dataframe tbody tr th {\n",
       "        vertical-align: top;\n",
       "    }\n",
       "\n",
       "    .dataframe thead th {\n",
       "        text-align: right;\n",
       "    }\n",
       "</style>\n",
       "<table border=\"1\" class=\"dataframe\">\n",
       "  <thead>\n",
       "    <tr style=\"text-align: right;\">\n",
       "      <th></th>\n",
       "      <th>CustomerID</th>\n",
       "      <th>VisitsPerWeek</th>\n",
       "      <th>CustomerSatisfaction</th>\n",
       "      <th>code</th>\n",
       "      <th>ccat</th>\n",
       "    </tr>\n",
       "  </thead>\n",
       "  <tbody>\n",
       "    <tr>\n",
       "      <th>0</th>\n",
       "      <td>10000012</td>\n",
       "      <td>6</td>\n",
       "      <td>Poor</td>\n",
       "      <td>1</td>\n",
       "      <td>poor</td>\n",
       "    </tr>\n",
       "    <tr>\n",
       "      <th>1</th>\n",
       "      <td>10000014</td>\n",
       "      <td>36</td>\n",
       "      <td>Excellent</td>\n",
       "      <td>4</td>\n",
       "      <td>excellent</td>\n",
       "    </tr>\n",
       "    <tr>\n",
       "      <th>2</th>\n",
       "      <td>10000044</td>\n",
       "      <td>12</td>\n",
       "      <td>Average</td>\n",
       "      <td>2</td>\n",
       "      <td>average</td>\n",
       "    </tr>\n",
       "    <tr>\n",
       "      <th>3</th>\n",
       "      <td>10000013</td>\n",
       "      <td>1</td>\n",
       "      <td>Bad</td>\n",
       "      <td>0</td>\n",
       "      <td>bad</td>\n",
       "    </tr>\n",
       "    <tr>\n",
       "      <th>4</th>\n",
       "      <td>10000023</td>\n",
       "      <td>27</td>\n",
       "      <td>Good</td>\n",
       "      <td>3</td>\n",
       "      <td>good</td>\n",
       "    </tr>\n",
       "    <tr>\n",
       "      <th>5</th>\n",
       "      <td>10000067</td>\n",
       "      <td>10</td>\n",
       "      <td>Poor</td>\n",
       "      <td>1</td>\n",
       "      <td>poor</td>\n",
       "    </tr>\n",
       "  </tbody>\n",
       "</table>\n",
       "</div>"
      ],
      "text/plain": [
       "   CustomerID  VisitsPerWeek CustomerSatisfaction  code       ccat\n",
       "0    10000012              6                 Poor     1       poor\n",
       "1    10000014             36            Excellent     4  excellent\n",
       "2    10000044             12              Average     2    average\n",
       "3    10000013              1                  Bad     0        bad\n",
       "4    10000023             27                 Good     3       good\n",
       "5    10000067             10                 Poor     1       poor"
      ]
     },
     "execution_count": 154,
     "metadata": {},
     "output_type": "execute_result"
    }
   ],
   "source": [
    "# pd.Categorical.from_codes\n",
    "\n",
    "dfc"
   ]
  },
  {
   "cell_type": "code",
   "execution_count": 155,
   "id": "ec2a5810-7709-46e9-a44d-417b7ac37b77",
   "metadata": {},
   "outputs": [
    {
     "data": {
      "text/html": [
       "<div>\n",
       "<style scoped>\n",
       "    .dataframe tbody tr th:only-of-type {\n",
       "        vertical-align: middle;\n",
       "    }\n",
       "\n",
       "    .dataframe tbody tr th {\n",
       "        vertical-align: top;\n",
       "    }\n",
       "\n",
       "    .dataframe thead th {\n",
       "        text-align: right;\n",
       "    }\n",
       "</style>\n",
       "<table border=\"1\" class=\"dataframe\">\n",
       "  <thead>\n",
       "    <tr style=\"text-align: right;\">\n",
       "      <th></th>\n",
       "      <th>CustomerID</th>\n",
       "      <th>VisitsPerWeek</th>\n",
       "      <th>CustomerSatisfaction</th>\n",
       "      <th>code</th>\n",
       "      <th>ccat</th>\n",
       "    </tr>\n",
       "  </thead>\n",
       "  <tbody>\n",
       "    <tr>\n",
       "      <th>0</th>\n",
       "      <td>10000012</td>\n",
       "      <td>6</td>\n",
       "      <td>Poor</td>\n",
       "      <td>1</td>\n",
       "      <td>poor</td>\n",
       "    </tr>\n",
       "    <tr>\n",
       "      <th>1</th>\n",
       "      <td>10000014</td>\n",
       "      <td>36</td>\n",
       "      <td>Excellent</td>\n",
       "      <td>4</td>\n",
       "      <td>excellent</td>\n",
       "    </tr>\n",
       "    <tr>\n",
       "      <th>2</th>\n",
       "      <td>10000044</td>\n",
       "      <td>12</td>\n",
       "      <td>Average</td>\n",
       "      <td>2</td>\n",
       "      <td>average</td>\n",
       "    </tr>\n",
       "    <tr>\n",
       "      <th>3</th>\n",
       "      <td>10000013</td>\n",
       "      <td>1</td>\n",
       "      <td>Bad</td>\n",
       "      <td>0</td>\n",
       "      <td>bad</td>\n",
       "    </tr>\n",
       "    <tr>\n",
       "      <th>4</th>\n",
       "      <td>10000023</td>\n",
       "      <td>27</td>\n",
       "      <td>Good</td>\n",
       "      <td>3</td>\n",
       "      <td>good</td>\n",
       "    </tr>\n",
       "    <tr>\n",
       "      <th>5</th>\n",
       "      <td>10000067</td>\n",
       "      <td>10</td>\n",
       "      <td>Poor</td>\n",
       "      <td>1</td>\n",
       "      <td>poor</td>\n",
       "    </tr>\n",
       "  </tbody>\n",
       "</table>\n",
       "</div>"
      ],
      "text/plain": [
       "   CustomerID  VisitsPerWeek CustomerSatisfaction  code       ccat\n",
       "0    10000012              6                 Poor     1       poor\n",
       "1    10000014             36            Excellent     4  excellent\n",
       "2    10000044             12              Average     2    average\n",
       "3    10000013              1                  Bad     0        bad\n",
       "4    10000023             27                 Good     3       good\n",
       "5    10000067             10                 Poor     1       poor"
      ]
     },
     "execution_count": 155,
     "metadata": {},
     "output_type": "execute_result"
    }
   ],
   "source": [
    "dfc['ccat'] = pd.Series(pd.Categorical.from_codes(dfc['code'], categories=['bad', 'poor', 'average', 'good', 'excellent']))\n",
    "dfc"
   ]
  },
  {
   "cell_type": "code",
   "execution_count": 156,
   "id": "396e7d55-432e-4f8b-a205-9ff26274b257",
   "metadata": {},
   "outputs": [
    {
     "data": {
      "text/plain": [
       "CustomerID                 int64\n",
       "VisitsPerWeek              int64\n",
       "CustomerSatisfaction      object\n",
       "code                       int64\n",
       "ccat                    category\n",
       "dtype: object"
      ]
     },
     "execution_count": 156,
     "metadata": {},
     "output_type": "execute_result"
    }
   ],
   "source": [
    "dfc.dtypes"
   ]
  },
  {
   "cell_type": "markdown",
   "id": "1a9107ca-3a4d-4d85-9e99-1a05aed1bc31",
   "metadata": {
    "tags": []
   },
   "source": [
    "### P20 - Categorical variables_ order, add, remove, rename"
   ]
  },
  {
   "cell_type": "code",
   "execution_count": 170,
   "id": "9540b718-c07d-4d2d-9283-1b4e8c02b579",
   "metadata": {},
   "outputs": [
    {
     "data": {
      "text/plain": [
       "0    m\n",
       "1    n\n",
       "2    o\n",
       "3    p\n",
       "4    m\n",
       "5    n\n",
       "dtype: category\n",
       "Categories (4, object): ['m', 'n', 'o', 'p']"
      ]
     },
     "execution_count": 170,
     "metadata": {},
     "output_type": "execute_result"
    }
   ],
   "source": [
    "a = pd.Series(['m', 'n', 'o', 'p', 'm', 'n'], dtype='category')\n",
    "a"
   ]
  },
  {
   "cell_type": "code",
   "execution_count": 171,
   "id": "962ad496-8dbb-496a-8c54-34bd3b97bb99",
   "metadata": {},
   "outputs": [
    {
     "data": {
      "text/plain": [
       "Index(['m', 'n', 'o', 'p'], dtype='object')"
      ]
     },
     "execution_count": 171,
     "metadata": {},
     "output_type": "execute_result"
    }
   ],
   "source": [
    "a.cat.categories"
   ]
  },
  {
   "cell_type": "code",
   "execution_count": 172,
   "id": "b86e1d16-6101-45f1-9b10-7d5e689491f9",
   "metadata": {},
   "outputs": [
    {
     "data": {
      "text/plain": [
       "False"
      ]
     },
     "execution_count": 172,
     "metadata": {},
     "output_type": "execute_result"
    }
   ],
   "source": [
    "a.cat.ordered"
   ]
  },
  {
   "cell_type": "code",
   "execution_count": 173,
   "id": "a66c815c-4853-4a49-ba97-d8297c02f6bd",
   "metadata": {},
   "outputs": [
    {
     "data": {
      "text/plain": [
       "0    City m\n",
       "1    City n\n",
       "2    City o\n",
       "3    City p\n",
       "4    City m\n",
       "5    City n\n",
       "dtype: category\n",
       "Categories (4, object): ['City m', 'City n', 'City o', 'City p']"
      ]
     },
     "execution_count": 173,
     "metadata": {},
     "output_type": "execute_result"
    }
   ],
   "source": [
    "# rename\n",
    "\n",
    "a.cat.categories = [f'City {cat}' for cat in a.cat.categories]\n",
    "a"
   ]
  },
  {
   "cell_type": "code",
   "execution_count": 174,
   "id": "698af987-94ec-49a2-b66c-72ee9696ab44",
   "metadata": {},
   "outputs": [
    {
     "data": {
      "text/plain": [
       "0    Game 1\n",
       "1    Game 2\n",
       "2    Game 3\n",
       "3    Game 4\n",
       "4    Game 1\n",
       "5    Game 2\n",
       "dtype: category\n",
       "Categories (4, object): ['Game 1', 'Game 2', 'Game 3', 'Game 4']"
      ]
     },
     "execution_count": 174,
     "metadata": {},
     "output_type": "execute_result"
    }
   ],
   "source": [
    "# rename_categories\n",
    "\n",
    "a = a.cat.rename_categories(['Game 1', 'Game 2', 'Game 3', 'Game 4'])\n",
    "a\n"
   ]
  },
  {
   "cell_type": "code",
   "execution_count": 175,
   "id": "9f0d0f63-657e-4d6c-b316-7a0369d1154e",
   "metadata": {},
   "outputs": [
    {
     "data": {
      "text/plain": [
       "0    Game 1\n",
       "1    Game 2\n",
       "2    Game 3\n",
       "3    Game 4\n",
       "4    Game 1\n",
       "5    Game 2\n",
       "dtype: category\n",
       "Categories (5, object): ['Game 1', 'Game 2', 'Game 3', 'Game 4', 999]"
      ]
     },
     "execution_count": 175,
     "metadata": {},
     "output_type": "execute_result"
    }
   ],
   "source": [
    "# add_categories\n",
    "\n",
    "a = a.cat.add_categories([999])\n",
    "a"
   ]
  },
  {
   "cell_type": "code",
   "execution_count": 178,
   "id": "e6a62323-f664-4b8e-a579-aa6e45afea62",
   "metadata": {},
   "outputs": [
    {
     "data": {
      "text/plain": [
       "0    Game 1\n",
       "1    Game 2\n",
       "2    Game 3\n",
       "3    Game 4\n",
       "4    Game 1\n",
       "5    Game 2\n",
       "dtype: category\n",
       "Categories (4, object): ['Game 1', 'Game 2', 'Game 3', 'Game 4']"
      ]
     },
     "execution_count": 178,
     "metadata": {},
     "output_type": "execute_result"
    }
   ],
   "source": [
    "# remove_categories\n",
    "\n",
    "a = a.cat.remove_categories([999])\n",
    "a"
   ]
  },
  {
   "cell_type": "code",
   "execution_count": 180,
   "id": "a805443e-3ddb-4f43-8adf-38b6a41b3687",
   "metadata": {},
   "outputs": [
    {
     "data": {
      "text/plain": [
       "0    Game 1\n",
       "1    Game 2\n",
       "2    Game 3\n",
       "3    Game 4\n",
       "4    Game 1\n",
       "5    Game 2\n",
       "dtype: category\n",
       "Categories (4, object): ['Game 1', 'Game 2', 'Game 3', 'Game 4']"
      ]
     },
     "execution_count": 180,
     "metadata": {},
     "output_type": "execute_result"
    }
   ],
   "source": [
    "# remove_unused_categories\n",
    "\n",
    "a.cat.remove_unused_categories()\n",
    "a"
   ]
  },
  {
   "cell_type": "code",
   "execution_count": 182,
   "id": "e3bd4cfd-93c6-4de8-a2f8-6417665ca1e9",
   "metadata": {},
   "outputs": [
    {
     "data": {
      "text/plain": [
       "0    NaN\n",
       "1    NaN\n",
       "2    NaN\n",
       "3    NaN\n",
       "4    NaN\n",
       "5    NaN\n",
       "dtype: category\n",
       "Categories (3, object): ['x', 'y', 'z']"
      ]
     },
     "execution_count": 182,
     "metadata": {},
     "output_type": "execute_result"
    }
   ],
   "source": [
    "# set categories\n",
    "\n",
    "a = a.cat.set_categories(['x', 'y', 'z'])\n",
    "a"
   ]
  },
  {
   "cell_type": "markdown",
   "id": "1a4d16c0-b23b-44b8-a922-7fca7ce378c8",
   "metadata": {
    "tags": []
   },
   "source": [
    "### P21 - Sort"
   ]
  },
  {
   "cell_type": "code",
   "execution_count": 196,
   "id": "f58a8ceb-6f11-4f53-a969-7426d6148a45",
   "metadata": {},
   "outputs": [
    {
     "data": {
      "text/plain": [
       "0    m\n",
       "1    n\n",
       "2    o\n",
       "3    m\n",
       "dtype: category\n",
       "Categories (3, object): ['m', 'n', 'o']"
      ]
     },
     "execution_count": 196,
     "metadata": {},
     "output_type": "execute_result"
    }
   ],
   "source": [
    "a = pd.Series(['m', 'n', 'o', 'm'], dtype='category')\n",
    "a"
   ]
  },
  {
   "cell_type": "code",
   "execution_count": 197,
   "id": "075b0e24-5b90-443b-a957-48e55c1c14c9",
   "metadata": {},
   "outputs": [
    {
     "data": {
      "text/plain": [
       "0    m\n",
       "1    n\n",
       "2    o\n",
       "3    m\n",
       "dtype: category\n",
       "Categories (3, object): ['m' < 'n' < 'o']"
      ]
     },
     "execution_count": 197,
     "metadata": {},
     "output_type": "execute_result"
    }
   ],
   "source": [
    "# as_ordered\n",
    "\n",
    "a = a.cat.as_ordered()\n",
    "a"
   ]
  },
  {
   "cell_type": "code",
   "execution_count": 198,
   "id": "20122965-eb11-45f7-a36d-b737ff434b41",
   "metadata": {},
   "outputs": [
    {
     "data": {
      "text/plain": [
       "'m'"
      ]
     },
     "execution_count": 198,
     "metadata": {},
     "output_type": "execute_result"
    }
   ],
   "source": [
    "a.min()"
   ]
  },
  {
   "cell_type": "code",
   "execution_count": 201,
   "id": "eda87229-190b-464e-b678-89846b7f2e57",
   "metadata": {},
   "outputs": [
    {
     "data": {
      "text/plain": [
       "0    m\n",
       "1    n\n",
       "2    o\n",
       "3    m\n",
       "dtype: category\n",
       "Categories (3, object): ['m', 'n', 'o']"
      ]
     },
     "execution_count": 201,
     "metadata": {},
     "output_type": "execute_result"
    }
   ],
   "source": [
    "# as_unordered\n",
    "\n",
    "a = a.cat.as_unordered()\n",
    "a"
   ]
  },
  {
   "cell_type": "code",
   "execution_count": null,
   "id": "4cc6e602-d1b2-4e6d-99b3-b8d281c6b6bd",
   "metadata": {
    "tags": []
   },
   "outputs": [],
   "source": [
    "# will throw an error, because it's un-ordered\n",
    "\n",
    "a.min()"
   ]
  },
  {
   "cell_type": "code",
   "execution_count": 207,
   "id": "aeaf6f30-5498-4ec6-bd97-72072b3c3cff",
   "metadata": {},
   "outputs": [
    {
     "data": {
      "text/plain": [
       "0    m\n",
       "1    n\n",
       "2    o\n",
       "3    m\n",
       "dtype: category\n",
       "Categories (3, object): ['o' < 'm' < 'n']"
      ]
     },
     "execution_count": 207,
     "metadata": {},
     "output_type": "execute_result"
    }
   ],
   "source": [
    "#categoricalDtype (ordered=True)\n",
    "a = pd.Series(['m', 'n', 'o', 'm']).astype(CategoricalDtype(['o', 'm', 'n'], ordered=True))\n",
    "a"
   ]
  },
  {
   "cell_type": "code",
   "execution_count": 208,
   "id": "519fdd40-87c3-48a1-9a01-b2978f770c5a",
   "metadata": {},
   "outputs": [
    {
     "data": {
      "text/plain": [
       "2    o\n",
       "0    m\n",
       "3    m\n",
       "1    n\n",
       "dtype: category\n",
       "Categories (3, object): ['o' < 'm' < 'n']"
      ]
     },
     "execution_count": 208,
     "metadata": {},
     "output_type": "execute_result"
    }
   ],
   "source": [
    "# sorted by order, not alphabetically\n",
    "\n",
    "a.sort_values()"
   ]
  },
  {
   "cell_type": "code",
   "execution_count": 209,
   "id": "ef6bcde3-a9f3-4e85-a779-a11f98620648",
   "metadata": {},
   "outputs": [
    {
     "data": {
      "text/plain": [
       "'o'"
      ]
     },
     "execution_count": 209,
     "metadata": {},
     "output_type": "execute_result"
    }
   ],
   "source": [
    "a.min()"
   ]
  },
  {
   "cell_type": "code",
   "execution_count": 210,
   "id": "cc0f778f-4997-4f30-bc83-a35ad83b7184",
   "metadata": {},
   "outputs": [
    {
     "data": {
      "text/plain": [
       "0    1\n",
       "1    2\n",
       "2    3\n",
       "3    1\n",
       "dtype: category\n",
       "Categories (3, int64): [1, 2, 3]"
      ]
     },
     "execution_count": 210,
     "metadata": {},
     "output_type": "execute_result"
    }
   ],
   "source": [
    "# Re-ordering\n",
    "\n",
    "a = pd.Series([1, 2, 3, 1], dtype='category')\n",
    "a"
   ]
  },
  {
   "cell_type": "code",
   "execution_count": 212,
   "id": "a83a33c9-0f50-4d43-9b59-15bf4604b044",
   "metadata": {},
   "outputs": [
    {
     "data": {
      "text/plain": [
       "0    1\n",
       "1    2\n",
       "2    3\n",
       "3    1\n",
       "dtype: category\n",
       "Categories (3, int64): [2 < 3 < 1]"
      ]
     },
     "execution_count": 212,
     "metadata": {},
     "output_type": "execute_result"
    }
   ],
   "source": [
    "# reorder_categories\n",
    "a = a.cat.reorder_categories([2, 3, 1], ordered=True)\n",
    "a"
   ]
  },
  {
   "cell_type": "markdown",
   "id": "95270e71-e526-4868-9830-3128567623c5",
   "metadata": {
    "tags": []
   },
   "source": [
    "### P22 - StringIO"
   ]
  },
  {
   "cell_type": "code",
   "execution_count": 232,
   "id": "a120ac6f-de5e-4fa6-bde2-4ace9e8dd62a",
   "metadata": {},
   "outputs": [],
   "source": [
    "# virtual file\n",
    "\n",
    "import io\n",
    "\n",
    "virtual_file = io.StringIO()\n",
    "\n",
    "df.to_csv(virtual_file, index=False)"
   ]
  },
  {
   "cell_type": "code",
   "execution_count": 236,
   "id": "fee04e3f-878d-4cf8-b21a-7fdadacb4a6a",
   "metadata": {},
   "outputs": [
    {
     "data": {
      "text/html": [
       "<div>\n",
       "<style scoped>\n",
       "    .dataframe tbody tr th:only-of-type {\n",
       "        vertical-align: middle;\n",
       "    }\n",
       "\n",
       "    .dataframe tbody tr th {\n",
       "        vertical-align: top;\n",
       "    }\n",
       "\n",
       "    .dataframe thead th {\n",
       "        text-align: right;\n",
       "    }\n",
       "</style>\n",
       "<table border=\"1\" class=\"dataframe\">\n",
       "  <thead>\n",
       "    <tr style=\"text-align: right;\">\n",
       "      <th></th>\n",
       "      <th>A</th>\n",
       "      <th>B</th>\n",
       "    </tr>\n",
       "  </thead>\n",
       "  <tbody>\n",
       "    <tr>\n",
       "      <th>0</th>\n",
       "      <td>n</td>\n",
       "      <td>1</td>\n",
       "    </tr>\n",
       "    <tr>\n",
       "      <th>1</th>\n",
       "      <td>m</td>\n",
       "      <td>2</td>\n",
       "    </tr>\n",
       "    <tr>\n",
       "      <th>2</th>\n",
       "      <td>m</td>\n",
       "      <td>3</td>\n",
       "    </tr>\n",
       "    <tr>\n",
       "      <th>3</th>\n",
       "      <td>o</td>\n",
       "      <td>2</td>\n",
       "    </tr>\n",
       "    <tr>\n",
       "      <th>4</th>\n",
       "      <td>o</td>\n",
       "      <td>5</td>\n",
       "    </tr>\n",
       "    <tr>\n",
       "      <th>5</th>\n",
       "      <td>o</td>\n",
       "      <td>3</td>\n",
       "    </tr>\n",
       "    <tr>\n",
       "      <th>6</th>\n",
       "      <td>m</td>\n",
       "      <td>1</td>\n",
       "    </tr>\n",
       "  </tbody>\n",
       "</table>\n",
       "</div>"
      ],
      "text/plain": [
       "   A  B\n",
       "0  n  1\n",
       "1  m  2\n",
       "2  m  3\n",
       "3  o  2\n",
       "4  o  5\n",
       "5  o  3\n",
       "6  m  1"
      ]
     },
     "execution_count": 236,
     "metadata": {},
     "output_type": "execute_result"
    }
   ],
   "source": [
    "df2 = pd.read_csv(io.StringIO(virtual_file.getvalue()))\n",
    "df2"
   ]
  },
  {
   "cell_type": "markdown",
   "id": "d02e3eac-2dc6-49a5-a1b4-03cc341ee454",
   "metadata": {
    "tags": []
   },
   "source": [
    "### P23 - concat, union, loc"
   ]
  },
  {
   "cell_type": "code",
   "execution_count": 241,
   "id": "9fd5f006-7513-4d07-9389-82991b754640",
   "metadata": {},
   "outputs": [],
   "source": [
    "# concat\n",
    "\n",
    "a = pd.Series(['F', 'D'], dtype='category')\n",
    "a1 = pd.Series(['D', 'F'], dtype='category')\n",
    "a2 = pd.Series(['A', 'B'], dtype='category')"
   ]
  },
  {
   "cell_type": "code",
   "execution_count": 242,
   "id": "f5930f37-c524-4092-ba6e-f969e1dacb63",
   "metadata": {},
   "outputs": [
    {
     "data": {
      "text/plain": [
       "0    F\n",
       "1    D\n",
       "0    D\n",
       "1    F\n",
       "dtype: category\n",
       "Categories (2, object): ['D', 'F']"
      ]
     },
     "execution_count": 242,
     "metadata": {},
     "output_type": "execute_result"
    }
   ],
   "source": [
    "pd.concat([a, a1])"
   ]
  },
  {
   "cell_type": "code",
   "execution_count": 244,
   "id": "f8cdd834-99dd-4673-a0b1-b6ad5f977911",
   "metadata": {},
   "outputs": [
    {
     "data": {
      "text/plain": [
       "0    F\n",
       "1    D\n",
       "0    A\n",
       "1    B\n",
       "dtype: object"
      ]
     },
     "execution_count": 244,
     "metadata": {},
     "output_type": "execute_result"
    }
   ],
   "source": [
    "# concat: outcome is obj because categories are not the same\n",
    "\n",
    "pd.concat([a, a2])"
   ]
  },
  {
   "cell_type": "code",
   "execution_count": 245,
   "id": "103441ab-e81b-40bc-94bf-8218cfbdccb7",
   "metadata": {},
   "outputs": [
    {
     "data": {
      "text/plain": [
       "0    F\n",
       "1    D\n",
       "0    A\n",
       "1    B\n",
       "dtype: category\n",
       "Categories (4, object): ['A', 'B', 'D', 'F']"
      ]
     },
     "execution_count": 245,
     "metadata": {},
     "output_type": "execute_result"
    }
   ],
   "source": [
    "# dtype is converted to category\n",
    "\n",
    "pd.concat([a, a2]).astype('category')"
   ]
  },
  {
   "cell_type": "code",
   "execution_count": 247,
   "id": "8bb150c0-8886-4c64-a44c-5eeb484f919d",
   "metadata": {},
   "outputs": [],
   "source": [
    "from pandas.api.types import union_categoricals"
   ]
  },
  {
   "cell_type": "code",
   "execution_count": 249,
   "id": "74185214-98b3-471b-83f1-104cfa428710",
   "metadata": {},
   "outputs": [
    {
     "data": {
      "text/plain": [
       "['F', 'D', 'A', 'B']\n",
       "Categories (4, object): ['D', 'F', 'A', 'B']"
      ]
     },
     "execution_count": 249,
     "metadata": {},
     "output_type": "execute_result"
    }
   ],
   "source": [
    "# dtype is kept as categories\n",
    "\n",
    "union_categoricals([a.array, a2.array])"
   ]
  },
  {
   "cell_type": "code",
   "execution_count": 254,
   "id": "8bab6ddb-800a-4a94-9cd0-bc492538d09e",
   "metadata": {},
   "outputs": [],
   "source": [
    "a_o = a.cat.as_ordered()\n",
    "a2_o = a2.cat.as_ordered()"
   ]
  },
  {
   "cell_type": "code",
   "execution_count": 255,
   "id": "1d9425cb-0de9-4e03-a229-5a5554d1ed20",
   "metadata": {},
   "outputs": [
    {
     "data": {
      "text/plain": [
       "0    F\n",
       "1    D\n",
       "dtype: category\n",
       "Categories (2, object): ['D' < 'F']"
      ]
     },
     "execution_count": 255,
     "metadata": {},
     "output_type": "execute_result"
    }
   ],
   "source": [
    "a_o"
   ]
  },
  {
   "cell_type": "code",
   "execution_count": 257,
   "id": "a8fee478-430f-4ddc-b4d2-87c0267fea86",
   "metadata": {},
   "outputs": [
    {
     "data": {
      "text/plain": [
       "0    A\n",
       "1    B\n",
       "dtype: category\n",
       "Categories (2, object): ['A' < 'B']"
      ]
     },
     "execution_count": 257,
     "metadata": {},
     "output_type": "execute_result"
    }
   ],
   "source": [
    "a2_o"
   ]
  },
  {
   "cell_type": "code",
   "execution_count": 259,
   "id": "400254bc-d1f2-4457-9788-c79602bd2a83",
   "metadata": {},
   "outputs": [
    {
     "ename": "TypeError",
     "evalue": "to union ordered Categoricals, all categories must be the same",
     "output_type": "error",
     "traceback": [
      "\u001b[0;31m---------------------------------------------------------------------------\u001b[0m",
      "\u001b[0;31mTypeError\u001b[0m                                 Traceback (most recent call last)",
      "\u001b[0;32m/var/folders/37/wjht8zw57rlcnbqywt11_rkr0000gq/T/ipykernel_12315/121044317.py\u001b[0m in \u001b[0;36m<module>\u001b[0;34m\u001b[0m\n\u001b[1;32m      1\u001b[0m \u001b[0;31m# union ordered categories\u001b[0m\u001b[0;34m\u001b[0m\u001b[0;34m\u001b[0m\u001b[0;34m\u001b[0m\u001b[0m\n\u001b[1;32m      2\u001b[0m \u001b[0;34m\u001b[0m\u001b[0m\n\u001b[0;32m----> 3\u001b[0;31m \u001b[0munion_categoricals\u001b[0m\u001b[0;34m(\u001b[0m\u001b[0;34m[\u001b[0m\u001b[0ma_o\u001b[0m\u001b[0;34m,\u001b[0m \u001b[0ma2_o\u001b[0m\u001b[0;34m]\u001b[0m\u001b[0;34m)\u001b[0m\u001b[0;34m\u001b[0m\u001b[0;34m\u001b[0m\u001b[0m\n\u001b[0m",
      "\u001b[0;32m~/miniconda3/lib/python3.9/site-packages/pandas/core/dtypes/concat.py\u001b[0m in \u001b[0;36munion_categoricals\u001b[0;34m(to_union, sort_categories, ignore_order)\u001b[0m\n\u001b[1;32m    310\u001b[0m         \u001b[0;32mif\u001b[0m \u001b[0mall\u001b[0m\u001b[0;34m(\u001b[0m\u001b[0mc\u001b[0m\u001b[0;34m.\u001b[0m\u001b[0mordered\u001b[0m \u001b[0;32mfor\u001b[0m \u001b[0mc\u001b[0m \u001b[0;32min\u001b[0m \u001b[0mto_union\u001b[0m\u001b[0;34m)\u001b[0m\u001b[0;34m:\u001b[0m\u001b[0;34m\u001b[0m\u001b[0;34m\u001b[0m\u001b[0m\n\u001b[1;32m    311\u001b[0m             \u001b[0mmsg\u001b[0m \u001b[0;34m=\u001b[0m \u001b[0;34m\"to union ordered Categoricals, all categories must be the same\"\u001b[0m\u001b[0;34m\u001b[0m\u001b[0;34m\u001b[0m\u001b[0m\n\u001b[0;32m--> 312\u001b[0;31m             \u001b[0;32mraise\u001b[0m \u001b[0mTypeError\u001b[0m\u001b[0;34m(\u001b[0m\u001b[0mmsg\u001b[0m\u001b[0;34m)\u001b[0m\u001b[0;34m\u001b[0m\u001b[0;34m\u001b[0m\u001b[0m\n\u001b[0m\u001b[1;32m    313\u001b[0m         \u001b[0;32melse\u001b[0m\u001b[0;34m:\u001b[0m\u001b[0;34m\u001b[0m\u001b[0;34m\u001b[0m\u001b[0m\n\u001b[1;32m    314\u001b[0m             \u001b[0;32mraise\u001b[0m \u001b[0mTypeError\u001b[0m\u001b[0;34m(\u001b[0m\u001b[0;34m\"Categorical.ordered must be the same\"\u001b[0m\u001b[0;34m)\u001b[0m\u001b[0;34m\u001b[0m\u001b[0;34m\u001b[0m\u001b[0m\n",
      "\u001b[0;31mTypeError\u001b[0m: to union ordered Categoricals, all categories must be the same"
     ]
    }
   ],
   "source": [
    "# union ordered categories\n",
    "\n",
    "union_categoricals([a_o, a2_o])"
   ]
  },
  {
   "cell_type": "code",
   "execution_count": 261,
   "id": "7dae3525-6561-4933-980f-c4563e20fa82",
   "metadata": {},
   "outputs": [
    {
     "data": {
      "text/plain": [
       "['F', 'D', 'A', 'B']\n",
       "Categories (4, object): ['D', 'F', 'A', 'B']"
      ]
     },
     "execution_count": 261,
     "metadata": {},
     "output_type": "execute_result"
    }
   ],
   "source": [
    "# ignore_order: result will be un-ordered \n",
    "\n",
    "union_categoricals([a_o, a2_o], ignore_order=True)"
   ]
  },
  {
   "cell_type": "markdown",
   "id": "95e991e6-2a2e-4b27-aaa3-115ea92d7617",
   "metadata": {
    "tags": []
   },
   "source": [
    "### P24 - Nullable Integer & Boolean"
   ]
  },
  {
   "cell_type": "code",
   "execution_count": 262,
   "id": "5af39cf7-c075-46b6-a1f8-7a777b443141",
   "metadata": {},
   "outputs": [
    {
     "data": {
      "text/plain": [
       "dtype('int64')"
      ]
     },
     "execution_count": 262,
     "metadata": {},
     "output_type": "execute_result"
    }
   ],
   "source": [
    "np.array([1, 2, 3]).dtype"
   ]
  },
  {
   "cell_type": "code",
   "execution_count": 263,
   "id": "b2d062c0-0d96-4c57-abac-10673bf105d9",
   "metadata": {},
   "outputs": [
    {
     "data": {
      "text/plain": [
       "Int64Dtype()"
      ]
     },
     "execution_count": 263,
     "metadata": {},
     "output_type": "execute_result"
    }
   ],
   "source": [
    "# pandas array!\n",
    "\n",
    "pd.array([1, 2, 3]).dtype"
   ]
  },
  {
   "cell_type": "code",
   "execution_count": 265,
   "id": "cb5bf1b4-a681-4d11-9459-1922b4dc3cb6",
   "metadata": {},
   "outputs": [
    {
     "data": {
      "text/plain": [
       "<IntegerArray>\n",
       "[1, <NA>, 3]\n",
       "Length: 3, dtype: Int16"
      ]
     },
     "execution_count": 265,
     "metadata": {},
     "output_type": "execute_result"
    }
   ],
   "source": [
    "a = pd.array([1, None, 3], dtype=pd.Int16Dtype())\n",
    "a"
   ]
  },
  {
   "cell_type": "code",
   "execution_count": 266,
   "id": "3d578891-b613-4991-9d12-5e855c216703",
   "metadata": {},
   "outputs": [
    {
     "data": {
      "text/plain": [
       "<IntegerArray>\n",
       "[1, 2, <NA>, <NA>, <NA>]\n",
       "Length: 5, dtype: Int64"
      ]
     },
     "execution_count": 266,
     "metadata": {},
     "output_type": "execute_result"
    }
   ],
   "source": [
    "a = pd.array([1, 2, np.nan, None, pd.NA], dtype='Int64')\n",
    "a"
   ]
  },
  {
   "cell_type": "code",
   "execution_count": 268,
   "id": "bfa8b312-7083-42cb-b0fa-3579a181fe00",
   "metadata": {},
   "outputs": [
    {
     "data": {
      "text/plain": [
       "0     True\n",
       "1    False\n",
       "2      NaN\n",
       "dtype: object"
      ]
     },
     "execution_count": 268,
     "metadata": {},
     "output_type": "execute_result"
    }
   ],
   "source": [
    "pd.Series([True, False, np.nan], dtype='object')"
   ]
  },
  {
   "cell_type": "code",
   "execution_count": 269,
   "id": "404a1ba8-0f26-458b-99ad-9bf2b549992e",
   "metadata": {},
   "outputs": [
    {
     "data": {
      "text/plain": [
       "0     True\n",
       "1    False\n",
       "2     <NA>\n",
       "dtype: boolean"
      ]
     },
     "execution_count": 269,
     "metadata": {},
     "output_type": "execute_result"
    }
   ],
   "source": [
    "pd.Series([True, False, np.nan], dtype='boolean')"
   ]
  },
  {
   "cell_type": "markdown",
   "id": "b058aec3-c660-43d4-9888-da1cdbd938b4",
   "metadata": {
    "tags": []
   },
   "source": [
    "### P25 - Vis 1"
   ]
  },
  {
   "cell_type": "code",
   "execution_count": 270,
   "id": "be145e69-0945-4864-9694-75aedec48d2c",
   "metadata": {},
   "outputs": [
    {
     "data": {
      "text/html": [
       "<div>\n",
       "<style scoped>\n",
       "    .dataframe tbody tr th:only-of-type {\n",
       "        vertical-align: middle;\n",
       "    }\n",
       "\n",
       "    .dataframe tbody tr th {\n",
       "        vertical-align: top;\n",
       "    }\n",
       "\n",
       "    .dataframe thead th {\n",
       "        text-align: right;\n",
       "    }\n",
       "</style>\n",
       "<table border=\"1\" class=\"dataframe\">\n",
       "  <thead>\n",
       "    <tr style=\"text-align: right;\">\n",
       "      <th></th>\n",
       "      <th>species</th>\n",
       "      <th>shades</th>\n",
       "      <th>prod_summer</th>\n",
       "      <th>prod_winter</th>\n",
       "      <th>prod_fall</th>\n",
       "      <th>prod_spring</th>\n",
       "      <th>num_orders</th>\n",
       "    </tr>\n",
       "  </thead>\n",
       "  <tbody>\n",
       "    <tr>\n",
       "      <th>2017-01-01</th>\n",
       "      <td>Alyssum</td>\n",
       "      <td>blue</td>\n",
       "      <td>592.465107</td>\n",
       "      <td>270.235177</td>\n",
       "      <td>385.029530</td>\n",
       "      <td>767.021201</td>\n",
       "      <td>1.734035</td>\n",
       "    </tr>\n",
       "    <tr>\n",
       "      <th>2017-01-02</th>\n",
       "      <td>Lily</td>\n",
       "      <td>blue</td>\n",
       "      <td>705.789681</td>\n",
       "      <td>220.838200</td>\n",
       "      <td>630.131753</td>\n",
       "      <td>929.098174</td>\n",
       "      <td>2.134767</td>\n",
       "    </tr>\n",
       "    <tr>\n",
       "      <th>2017-01-03</th>\n",
       "      <td>Jonquil</td>\n",
       "      <td>blue</td>\n",
       "      <td>511.520676</td>\n",
       "      <td>286.646009</td>\n",
       "      <td>600.467369</td>\n",
       "      <td>947.997747</td>\n",
       "      <td>-1.876655</td>\n",
       "    </tr>\n",
       "    <tr>\n",
       "      <th>2017-01-04</th>\n",
       "      <td>Lily</td>\n",
       "      <td>red</td>\n",
       "      <td>667.987319</td>\n",
       "      <td>290.187018</td>\n",
       "      <td>721.572564</td>\n",
       "      <td>880.507470</td>\n",
       "      <td>-0.582854</td>\n",
       "    </tr>\n",
       "    <tr>\n",
       "      <th>2017-01-05</th>\n",
       "      <td>Jonquil</td>\n",
       "      <td>red</td>\n",
       "      <td>661.522647</td>\n",
       "      <td>239.406108</td>\n",
       "      <td>451.853282</td>\n",
       "      <td>875.913145</td>\n",
       "      <td>-2.237171</td>\n",
       "    </tr>\n",
       "  </tbody>\n",
       "</table>\n",
       "</div>"
      ],
      "text/plain": [
       "            species shades  prod_summer  prod_winter   prod_fall  prod_spring  \\\n",
       "2017-01-01  Alyssum   blue   592.465107   270.235177  385.029530   767.021201   \n",
       "2017-01-02     Lily   blue   705.789681   220.838200  630.131753   929.098174   \n",
       "2017-01-03  Jonquil   blue   511.520676   286.646009  600.467369   947.997747   \n",
       "2017-01-04     Lily    red   667.987319   290.187018  721.572564   880.507470   \n",
       "2017-01-05  Jonquil    red   661.522647   239.406108  451.853282   875.913145   \n",
       "\n",
       "            num_orders  \n",
       "2017-01-01    1.734035  \n",
       "2017-01-02    2.134767  \n",
       "2017-01-03   -1.876655  \n",
       "2017-01-04   -0.582854  \n",
       "2017-01-05   -2.237171  "
      ]
     },
     "execution_count": 270,
     "metadata": {},
     "output_type": "execute_result"
    }
   ],
   "source": [
    "flowers = pd.DataFrame({\n",
    "    'species':np.random.choice(a=['Alyssum','Amaranthus','Aster','Rose', 'Lily', 'Jonquil'], size=1000),\n",
    "    'shades':np.random.choice(a=['red','blue'], size=1000),\n",
    "    'prod_summer': 260+np.random.normal(350, 100, 1000),\n",
    "    'prod_winter': 150+np.random.normal(100, 30, 1000),\n",
    "    'prod_fall': 355+np.random.normal(300, 130, 1000),\n",
    "    'prod_spring': 440+np.random.normal(450, 70, 1000),\n",
    "    'num_orders': np.random.randn(1000)*2\n",
    "\n",
    "    }\n",
    "    ,index=pd.date_range('2017-01-01', periods=1000)\n",
    ")\n",
    "\n",
    "flowers.head()"
   ]
  },
  {
   "cell_type": "code",
   "execution_count": 272,
   "id": "ec916e2e-8664-4ba4-9888-d661ecf7ef3c",
   "metadata": {},
   "outputs": [
    {
     "data": {
      "image/png": "[encoded data removed]",
      "text/plain": [
       "<Figure size 432x288 with 1 Axes>"
      ]
     },
     "metadata": {
      "needs_background": "light"
     },
     "output_type": "display_data"
    }
   ],
   "source": [
    "# color box plots\n",
    "\n",
    "color = {\n",
    "    \"boxes\": \"teal\",\n",
    "    \"whiskers\": \"blue\",\n",
    "    \"medians\": \"gray\",\n",
    "    \"caps\": \"red\",\n",
    "}\n",
    "flowers.plot.box(color=color, sym='o');"
   ]
  },
  {
   "cell_type": "code",
   "execution_count": 276,
   "id": "8b1eeea8-68ec-4a96-b652-3127b4763d55",
   "metadata": {},
   "outputs": [
    {
     "data": {
      "text/plain": [
       "<AxesSubplot:>"
      ]
     },
     "execution_count": 276,
     "metadata": {},
     "output_type": "execute_result"
    },
    {
     "data": {
      "image/png": "[encoded data removed]",
      "text/plain": [
       "<Figure size 432x288 with 1 Axes>"
      ]
     },
     "metadata": {
      "needs_background": "light"
     },
     "output_type": "display_data"
    }
   ],
   "source": [
    "# vert, positions\n",
    "\n",
    "flowers.plot.box(vert=False, positions=[1, 6, 7, 8, 9])"
   ]
  },
  {
   "cell_type": "code",
   "execution_count": 280,
   "id": "456d7038-7608-4451-8198-e06ef5658f53",
   "metadata": {},
   "outputs": [
    {
     "data": {
      "text/plain": [
       "array(['Alyssum', 'Lily', 'Jonquil', 'Rose', 'Aster', 'Amaranthus'],\n",
       "      dtype=object)"
      ]
     },
     "execution_count": 280,
     "metadata": {},
     "output_type": "execute_result"
    }
   ],
   "source": [
    "flowers.species.unique()"
   ]
  },
  {
   "cell_type": "code",
   "execution_count": 278,
   "id": "4abc74bf-e04d-45e4-afec-0bedc3d9c4f1",
   "metadata": {},
   "outputs": [
    {
     "data": {
      "image/png": "[encoded data removed]",
      "text/plain": [
       "<Figure size 720x360 with 6 Axes>"
      ]
     },
     "metadata": {
      "needs_background": "light"
     },
     "output_type": "display_data"
    }
   ],
   "source": [
    "# by \n",
    "\n",
    "flowers.boxplot(by='species', figsize=(10, 5));"
   ]
  },
  {
   "cell_type": "code",
   "execution_count": 282,
   "id": "8a4df0bc-717b-4a0f-ace9-49e00031efda",
   "metadata": {},
   "outputs": [],
   "source": [
    "flowers['day'] = flowers.index.day\n",
    "flowers['revenue_million'] = np.random.randint(0, 100, size=1000)"
   ]
  },
  {
   "cell_type": "code",
   "execution_count": 287,
   "id": "5350fbe2-be71-4012-9299-7c3fe36f023e",
   "metadata": {},
   "outputs": [
    {
     "data": {
      "image/png": "[encoded data removed]",
      "text/plain": [
       "<Figure size 432x288 with 2 Axes>"
      ]
     },
     "metadata": {
      "needs_background": "light"
     },
     "output_type": "display_data"
    }
   ],
   "source": [
    "# c\n",
    "\n",
    "flowers.plot.scatter('revenue_million', 'prod_winter', c='day');"
   ]
  },
  {
   "cell_type": "code",
   "execution_count": 291,
   "id": "1407da01-6967-4105-8b0c-272af1291d77",
   "metadata": {},
   "outputs": [
    {
     "data": {
      "image/png": "[encoded data removed]",
      "text/plain": [
       "<Figure size 432x288 with 1 Axes>"
      ]
     },
     "metadata": {
      "needs_background": "light"
     },
     "output_type": "display_data"
    }
   ],
   "source": [
    "# s\n",
    "\n",
    "flowers.plot.scatter(\n",
    "    x='day',\n",
    "    y='prod_winter',\n",
    "    alpha=0.5,\n",
    "    s=flowers['revenue_million']\n",
    ");"
   ]
  },
  {
   "cell_type": "code",
   "execution_count": 293,
   "id": "8b9b5c4f-4946-48ac-b591-b4b46f74e3a1",
   "metadata": {},
   "outputs": [
    {
     "data": {
      "image/png": "[encoded data removed]",
      "text/plain": [
       "<Figure size 432x288 with 2 Axes>"
      ]
     },
     "metadata": {
      "needs_background": "light"
     },
     "output_type": "display_data"
    }
   ],
   "source": [
    "# hexbin\n",
    "# scatter plots display every point, \n",
    "# hexbin plots determine the color of each hexagon by \n",
    "# taking the mean of all the price values within that hexagon\n",
    "\n",
    "flowers.plot.hexbin(\n",
    "    x='prod_summer', \n",
    "    y='revenue_million',\n",
    "    gridsize=25,\n",
    ");"
   ]
  },
  {
   "cell_type": "markdown",
   "id": "a05444fa-bebd-4f68-8420-0526fed39c2e",
   "metadata": {
    "tags": []
   },
   "source": [
    "### P26 - Vis 2"
   ]
  },
  {
   "cell_type": "code",
   "execution_count": null,
   "id": "28bdb404-4890-4ecd-87f9-0f9a031504be",
   "metadata": {},
   "outputs": [],
   "source": []
  }
 ],
 "metadata": {
  "kernelspec": {
   "display_name": "Python 3 (ipykernel)",
   "language": "python",
   "name": "python3"
  },
  "language_info": {
   "codemirror_mode": {
    "name": "ipython",
    "version": 3
   },
   "file_extension": ".py",
   "mimetype": "text/x-python",
   "name": "python",
   "nbconvert_exporter": "python",
   "pygments_lexer": "ipython3",
   "version": "3.9.5"
  }
 },
 "nbformat": 4,
 "nbformat_minor": 5
}
