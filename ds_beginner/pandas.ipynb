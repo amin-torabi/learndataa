{
 "cells": [
  {
   "cell_type": "code",
   "execution_count": 3,
   "id": "f231f511-274e-4ab1-a2ee-a83282943dca",
   "metadata": {},
   "outputs": [],
   "source": [
    "import numpy as np\n",
    "import pandas as pd\n",
    "import seaborn as sns"
   ]
  },
  {
   "cell_type": "markdown",
   "id": "3d9e85de-295d-4e48-9252-67afeaad1ba9",
   "metadata": {},
   "source": [
    "### P1 - Pandas in Python"
   ]
  },
  {
   "cell_type": "code",
   "execution_count": 28,
   "id": "65011b6d-429b-45e6-8107-c1ef0b61750d",
   "metadata": {},
   "outputs": [],
   "source": [
    "tips = sns.load_dataset(\"tips\")"
   ]
  },
  {
   "cell_type": "code",
   "execution_count": 8,
   "id": "dd4b85e2-c364-4a8c-9f83-89b2c2f10f6d",
   "metadata": {},
   "outputs": [
    {
     "data": {
      "text/plain": [
       "array([[16.99, 1.01, 'Female', ..., 'Sun', 'Dinner', 2],\n",
       "       [10.34, 1.66, 'Male', ..., 'Sun', 'Dinner', 3],\n",
       "       [21.01, 3.5, 'Male', ..., 'Sun', 'Dinner', 3],\n",
       "       ...,\n",
       "       [22.67, 2.0, 'Male', ..., 'Sat', 'Dinner', 2],\n",
       "       [17.82, 1.75, 'Male', ..., 'Sat', 'Dinner', 2],\n",
       "       [18.78, 3.0, 'Female', ..., 'Thur', 'Dinner', 2]], dtype=object)"
      ]
     },
     "execution_count": 8,
     "metadata": {},
     "output_type": "execute_result"
    }
   ],
   "source": [
    "# to_numpy\n",
    "\n",
    "x = tips.to_numpy()\n",
    "x"
   ]
  },
  {
   "cell_type": "code",
   "execution_count": 11,
   "id": "c2b937b9-a3a2-44ef-bd25-13218e452250",
   "metadata": {},
   "outputs": [
    {
     "data": {
      "text/html": [
       "<div>\n",
       "<style scoped>\n",
       "    .dataframe tbody tr th:only-of-type {\n",
       "        vertical-align: middle;\n",
       "    }\n",
       "\n",
       "    .dataframe tbody tr th {\n",
       "        vertical-align: top;\n",
       "    }\n",
       "\n",
       "    .dataframe thead th {\n",
       "        text-align: right;\n",
       "    }\n",
       "</style>\n",
       "<table border=\"1\" class=\"dataframe\">\n",
       "  <thead>\n",
       "    <tr style=\"text-align: right;\">\n",
       "      <th></th>\n",
       "      <th>total_bill</th>\n",
       "      <th>tip</th>\n",
       "      <th>sex</th>\n",
       "      <th>smoker</th>\n",
       "      <th>day</th>\n",
       "      <th>time</th>\n",
       "      <th>size</th>\n",
       "    </tr>\n",
       "  </thead>\n",
       "  <tbody>\n",
       "    <tr>\n",
       "      <th>243</th>\n",
       "      <td>18.78</td>\n",
       "      <td>3.00</td>\n",
       "      <td>Female</td>\n",
       "      <td>No</td>\n",
       "      <td>Thur</td>\n",
       "      <td>Dinner</td>\n",
       "      <td>2</td>\n",
       "    </tr>\n",
       "    <tr>\n",
       "      <th>242</th>\n",
       "      <td>17.82</td>\n",
       "      <td>1.75</td>\n",
       "      <td>Male</td>\n",
       "      <td>No</td>\n",
       "      <td>Sat</td>\n",
       "      <td>Dinner</td>\n",
       "      <td>2</td>\n",
       "    </tr>\n",
       "    <tr>\n",
       "      <th>241</th>\n",
       "      <td>22.67</td>\n",
       "      <td>2.00</td>\n",
       "      <td>Male</td>\n",
       "      <td>Yes</td>\n",
       "      <td>Sat</td>\n",
       "      <td>Dinner</td>\n",
       "      <td>2</td>\n",
       "    </tr>\n",
       "    <tr>\n",
       "      <th>240</th>\n",
       "      <td>27.18</td>\n",
       "      <td>2.00</td>\n",
       "      <td>Female</td>\n",
       "      <td>Yes</td>\n",
       "      <td>Sat</td>\n",
       "      <td>Dinner</td>\n",
       "      <td>2</td>\n",
       "    </tr>\n",
       "    <tr>\n",
       "      <th>239</th>\n",
       "      <td>29.03</td>\n",
       "      <td>5.92</td>\n",
       "      <td>Male</td>\n",
       "      <td>No</td>\n",
       "      <td>Sat</td>\n",
       "      <td>Dinner</td>\n",
       "      <td>3</td>\n",
       "    </tr>\n",
       "    <tr>\n",
       "      <th>...</th>\n",
       "      <td>...</td>\n",
       "      <td>...</td>\n",
       "      <td>...</td>\n",
       "      <td>...</td>\n",
       "      <td>...</td>\n",
       "      <td>...</td>\n",
       "      <td>...</td>\n",
       "    </tr>\n",
       "    <tr>\n",
       "      <th>4</th>\n",
       "      <td>24.59</td>\n",
       "      <td>3.61</td>\n",
       "      <td>Female</td>\n",
       "      <td>No</td>\n",
       "      <td>Sun</td>\n",
       "      <td>Dinner</td>\n",
       "      <td>4</td>\n",
       "    </tr>\n",
       "    <tr>\n",
       "      <th>3</th>\n",
       "      <td>23.68</td>\n",
       "      <td>3.31</td>\n",
       "      <td>Male</td>\n",
       "      <td>No</td>\n",
       "      <td>Sun</td>\n",
       "      <td>Dinner</td>\n",
       "      <td>2</td>\n",
       "    </tr>\n",
       "    <tr>\n",
       "      <th>2</th>\n",
       "      <td>21.01</td>\n",
       "      <td>3.50</td>\n",
       "      <td>Male</td>\n",
       "      <td>No</td>\n",
       "      <td>Sun</td>\n",
       "      <td>Dinner</td>\n",
       "      <td>3</td>\n",
       "    </tr>\n",
       "    <tr>\n",
       "      <th>1</th>\n",
       "      <td>10.34</td>\n",
       "      <td>1.66</td>\n",
       "      <td>Male</td>\n",
       "      <td>No</td>\n",
       "      <td>Sun</td>\n",
       "      <td>Dinner</td>\n",
       "      <td>3</td>\n",
       "    </tr>\n",
       "    <tr>\n",
       "      <th>0</th>\n",
       "      <td>16.99</td>\n",
       "      <td>1.01</td>\n",
       "      <td>Female</td>\n",
       "      <td>No</td>\n",
       "      <td>Sun</td>\n",
       "      <td>Dinner</td>\n",
       "      <td>2</td>\n",
       "    </tr>\n",
       "  </tbody>\n",
       "</table>\n",
       "<p>244 rows × 7 columns</p>\n",
       "</div>"
      ],
      "text/plain": [
       "     total_bill   tip     sex smoker   day    time  size\n",
       "243       18.78  3.00  Female     No  Thur  Dinner     2\n",
       "242       17.82  1.75    Male     No   Sat  Dinner     2\n",
       "241       22.67  2.00    Male    Yes   Sat  Dinner     2\n",
       "240       27.18  2.00  Female    Yes   Sat  Dinner     2\n",
       "239       29.03  5.92    Male     No   Sat  Dinner     3\n",
       "..          ...   ...     ...    ...   ...     ...   ...\n",
       "4         24.59  3.61  Female     No   Sun  Dinner     4\n",
       "3         23.68  3.31    Male     No   Sun  Dinner     2\n",
       "2         21.01  3.50    Male     No   Sun  Dinner     3\n",
       "1         10.34  1.66    Male     No   Sun  Dinner     3\n",
       "0         16.99  1.01  Female     No   Sun  Dinner     2\n",
       "\n",
       "[244 rows x 7 columns]"
      ]
     },
     "execution_count": 11,
     "metadata": {},
     "output_type": "execute_result"
    }
   ],
   "source": [
    "# sort_index\n",
    "\n",
    "tips.sort_index(axis=0, ascending=False)"
   ]
  },
  {
   "cell_type": "code",
   "execution_count": 18,
   "id": "6f8db45b-af41-4985-b2d1-9fcc2a8df0d4",
   "metadata": {},
   "outputs": [
    {
     "data": {
      "text/html": [
       "<div>\n",
       "<style scoped>\n",
       "    .dataframe tbody tr th:only-of-type {\n",
       "        vertical-align: middle;\n",
       "    }\n",
       "\n",
       "    .dataframe tbody tr th {\n",
       "        vertical-align: top;\n",
       "    }\n",
       "\n",
       "    .dataframe thead th {\n",
       "        text-align: right;\n",
       "    }\n",
       "</style>\n",
       "<table border=\"1\" class=\"dataframe\">\n",
       "  <thead>\n",
       "    <tr style=\"text-align: right;\">\n",
       "      <th></th>\n",
       "      <th>total_bill</th>\n",
       "      <th>tip</th>\n",
       "      <th>sex</th>\n",
       "      <th>smoker</th>\n",
       "      <th>day</th>\n",
       "      <th>time</th>\n",
       "      <th>size</th>\n",
       "    </tr>\n",
       "  </thead>\n",
       "  <tbody>\n",
       "    <tr>\n",
       "      <th>170</th>\n",
       "      <td>50.81</td>\n",
       "      <td>10.00</td>\n",
       "      <td>Male</td>\n",
       "      <td>Yes</td>\n",
       "      <td>Sat</td>\n",
       "      <td>Dinner</td>\n",
       "      <td>3</td>\n",
       "    </tr>\n",
       "    <tr>\n",
       "      <th>212</th>\n",
       "      <td>48.33</td>\n",
       "      <td>9.00</td>\n",
       "      <td>Male</td>\n",
       "      <td>No</td>\n",
       "      <td>Sat</td>\n",
       "      <td>Dinner</td>\n",
       "      <td>4</td>\n",
       "    </tr>\n",
       "    <tr>\n",
       "      <th>23</th>\n",
       "      <td>39.42</td>\n",
       "      <td>7.58</td>\n",
       "      <td>Male</td>\n",
       "      <td>No</td>\n",
       "      <td>Sat</td>\n",
       "      <td>Dinner</td>\n",
       "      <td>4</td>\n",
       "    </tr>\n",
       "    <tr>\n",
       "      <th>59</th>\n",
       "      <td>48.27</td>\n",
       "      <td>6.73</td>\n",
       "      <td>Male</td>\n",
       "      <td>No</td>\n",
       "      <td>Sat</td>\n",
       "      <td>Dinner</td>\n",
       "      <td>4</td>\n",
       "    </tr>\n",
       "    <tr>\n",
       "      <th>141</th>\n",
       "      <td>34.30</td>\n",
       "      <td>6.70</td>\n",
       "      <td>Male</td>\n",
       "      <td>No</td>\n",
       "      <td>Thur</td>\n",
       "      <td>Lunch</td>\n",
       "      <td>6</td>\n",
       "    </tr>\n",
       "  </tbody>\n",
       "</table>\n",
       "</div>"
      ],
      "text/plain": [
       "     total_bill    tip   sex smoker   day    time  size\n",
       "170       50.81  10.00  Male    Yes   Sat  Dinner     3\n",
       "212       48.33   9.00  Male     No   Sat  Dinner     4\n",
       "23        39.42   7.58  Male     No   Sat  Dinner     4\n",
       "59        48.27   6.73  Male     No   Sat  Dinner     4\n",
       "141       34.30   6.70  Male     No  Thur   Lunch     6"
      ]
     },
     "execution_count": 18,
     "metadata": {},
     "output_type": "execute_result"
    }
   ],
   "source": [
    "# sort_values \n",
    "\n",
    "tips.sort_values(by='tip', ascending=False).head()"
   ]
  },
  {
   "cell_type": "markdown",
   "id": "e72e4872-e8a1-418d-82d3-f15b2fa8b534",
   "metadata": {},
   "source": [
    "### P2 - Pandas in Python"
   ]
  },
  {
   "cell_type": "code",
   "execution_count": 24,
   "id": "bfc1be99-816f-43b8-9d9d-4c1d25265f69",
   "metadata": {},
   "outputs": [
    {
     "data": {
      "text/plain": [
       "16.99"
      ]
     },
     "execution_count": 24,
     "metadata": {},
     "output_type": "execute_result"
    }
   ],
   "source": [
    "# iat\n",
    "\n",
    "tips.iat[0, 0]"
   ]
  },
  {
   "cell_type": "markdown",
   "id": "ce545d3a-8f0f-487b-ac9d-d08818568f9a",
   "metadata": {},
   "source": [
    "### P3 - Sampling"
   ]
  },
  {
   "cell_type": "code",
   "execution_count": 32,
   "id": "19b8ffaa-a3d0-4e8d-8c47-75c71797e5a8",
   "metadata": {},
   "outputs": [
    {
     "data": {
      "text/plain": [
       "165    3.48\n",
       "4      3.61\n",
       "194    4.00\n",
       "142    5.00\n",
       "Name: tip, dtype: float64"
      ]
     },
     "execution_count": 32,
     "metadata": {},
     "output_type": "execute_result"
    }
   ],
   "source": [
    "# sample with n\n",
    "\n",
    "tips.tip.sample(n=4)"
   ]
  },
  {
   "cell_type": "code",
   "execution_count": 38,
   "id": "3112d309-1641-4ef5-8662-c9c3df349b34",
   "metadata": {},
   "outputs": [
    {
     "data": {
      "text/plain": [
       "171    3.16\n",
       "51     2.60\n",
       "33     2.45\n",
       "236    1.00\n",
       "24     3.18\n",
       "Name: tip, dtype: float64"
      ]
     },
     "execution_count": 38,
     "metadata": {},
     "output_type": "execute_result"
    }
   ],
   "source": [
    "# sample with frac\n",
    "\n",
    "tips.tip.sample(frac=0.02)"
   ]
  },
  {
   "cell_type": "code",
   "execution_count": 39,
   "id": "f7f12459-a78f-48e6-ae09-e7445217b629",
   "metadata": {},
   "outputs": [
    {
     "data": {
      "text/plain": [
       "161    2.50\n",
       "81     3.40\n",
       "226    2.00\n",
       "70     1.97\n",
       "42     3.06\n",
       "Name: tip, dtype: float64"
      ]
     },
     "execution_count": 39,
     "metadata": {},
     "output_type": "execute_result"
    }
   ],
   "source": [
    "# replace, if true a number can be sampled twice\n",
    "\n",
    "tips.tip.sample(frac=0.02, replace=True)"
   ]
  },
  {
   "cell_type": "code",
   "execution_count": 67,
   "id": "e0381c84-40ec-45e8-9bd9-1bc45e8c44d1",
   "metadata": {},
   "outputs": [
    {
     "data": {
      "text/plain": [
       "211     5.16\n",
       "170    10.00\n",
       "222     1.92\n",
       "179     3.55\n",
       "Name: tip, dtype: float64"
      ]
     },
     "execution_count": 67,
     "metadata": {},
     "output_type": "execute_result"
    }
   ],
   "source": [
    "# weights: sample series\n",
    "\n",
    "from sklearn.preprocessing import scale\n",
    "weights = abs(scale(tips.tip))  # just to simulate some weights\n",
    "\n",
    "tips.tip.sample(n=4, weights=weights)"
   ]
  },
  {
   "cell_type": "code",
   "execution_count": 69,
   "id": "1614e775-cf6d-4973-bee9-603124ae352b",
   "metadata": {},
   "outputs": [
    {
     "data": {
      "text/plain": [
       "197    5.00\n",
       "50     2.50\n",
       "191    4.19\n",
       "31     2.50\n",
       "Name: tip, dtype: float64"
      ]
     },
     "execution_count": 69,
     "metadata": {},
     "output_type": "execute_result"
    }
   ],
   "source": [
    "# weights: sample df\n",
    "\n",
    "tips.tip.sample(n=4, weights=weights)"
   ]
  },
  {
   "cell_type": "markdown",
   "id": "1a5050ae-5bdd-40a2-857b-d3978c0b9a7f",
   "metadata": {
    "tags": []
   },
   "source": [
    "### P4 - Accessing Data"
   ]
  },
  {
   "cell_type": "code",
   "execution_count": 72,
   "id": "8b6fb45d-3201-4ee7-ae5a-4b55663bc782",
   "metadata": {},
   "outputs": [
    {
     "data": {
      "text/plain": [
       "0       1.01\n",
       "1       1.66\n",
       "2       3.50\n",
       "3       3.31\n",
       "4       3.61\n",
       "       ...  \n",
       "240     2.00\n",
       "241     2.00\n",
       "242     1.75\n",
       "243     3.00\n",
       "244    99.00\n",
       "Length: 245, dtype: float64"
      ]
     },
     "execution_count": 72,
     "metadata": {},
     "output_type": "execute_result"
    }
   ],
   "source": [
    "# append\n",
    "\n",
    "tips.tip.append(pd.Series([99])).reset_index(drop=True)"
   ]
  },
  {
   "cell_type": "markdown",
   "id": "3b472d01-f802-4f31-a2d3-c494ecc14170",
   "metadata": {
    "tags": []
   },
   "source": [
    "### P5 - isin, where, mask"
   ]
  },
  {
   "cell_type": "code",
   "execution_count": 144,
   "id": "b6f6d704-46ed-4c91-b37e-261f87203ee8",
   "metadata": {},
   "outputs": [
    {
     "data": {
      "text/plain": [
       "0    False\n",
       "1    False\n",
       "2    False\n",
       "3    False\n",
       "4    False\n",
       "dtype: bool"
      ]
     },
     "execution_count": 144,
     "metadata": {},
     "output_type": "execute_result"
    }
   ],
   "source": [
    "# isin: can take dict, but looks like we have to provide all columns\n",
    "# all vs any\n",
    "\n",
    "d = {\n",
    "    \"sex\": [\"Female\"],\n",
    "    \"smoker\": [\"No\"],\n",
    "    \"day\": [\"Sun\"],\n",
    "    \"time\": [\"Dinner\"]\n",
    "}\n",
    "\n",
    "tips.isin(d).all(axis=1).head()"
   ]
  },
  {
   "cell_type": "code",
   "execution_count": 149,
   "id": "c27787ee-240f-4401-82ec-599caee3e419",
   "metadata": {},
   "outputs": [
    {
     "data": {
      "text/html": [
       "<div>\n",
       "<style scoped>\n",
       "    .dataframe tbody tr th:only-of-type {\n",
       "        vertical-align: middle;\n",
       "    }\n",
       "\n",
       "    .dataframe tbody tr th {\n",
       "        vertical-align: top;\n",
       "    }\n",
       "\n",
       "    .dataframe thead th {\n",
       "        text-align: right;\n",
       "    }\n",
       "</style>\n",
       "<table border=\"1\" class=\"dataframe\">\n",
       "  <thead>\n",
       "    <tr style=\"text-align: right;\">\n",
       "      <th></th>\n",
       "      <th>total_bill</th>\n",
       "      <th>tip</th>\n",
       "      <th>sex</th>\n",
       "      <th>smoker</th>\n",
       "      <th>day</th>\n",
       "      <th>time</th>\n",
       "      <th>size</th>\n",
       "    </tr>\n",
       "  </thead>\n",
       "  <tbody>\n",
       "    <tr>\n",
       "      <th>0</th>\n",
       "      <td>NaN</td>\n",
       "      <td>NaN</td>\n",
       "      <td>NaN</td>\n",
       "      <td>NaN</td>\n",
       "      <td>NaN</td>\n",
       "      <td>NaN</td>\n",
       "      <td>NaN</td>\n",
       "    </tr>\n",
       "    <tr>\n",
       "      <th>1</th>\n",
       "      <td>NaN</td>\n",
       "      <td>NaN</td>\n",
       "      <td>NaN</td>\n",
       "      <td>NaN</td>\n",
       "      <td>NaN</td>\n",
       "      <td>NaN</td>\n",
       "      <td>NaN</td>\n",
       "    </tr>\n",
       "    <tr>\n",
       "      <th>2</th>\n",
       "      <td>21.01</td>\n",
       "      <td>3.50</td>\n",
       "      <td>Male</td>\n",
       "      <td>No</td>\n",
       "      <td>Sun</td>\n",
       "      <td>Dinner</td>\n",
       "      <td>3.0</td>\n",
       "    </tr>\n",
       "    <tr>\n",
       "      <th>3</th>\n",
       "      <td>23.68</td>\n",
       "      <td>3.31</td>\n",
       "      <td>Male</td>\n",
       "      <td>No</td>\n",
       "      <td>Sun</td>\n",
       "      <td>Dinner</td>\n",
       "      <td>2.0</td>\n",
       "    </tr>\n",
       "    <tr>\n",
       "      <th>4</th>\n",
       "      <td>24.59</td>\n",
       "      <td>3.61</td>\n",
       "      <td>Female</td>\n",
       "      <td>No</td>\n",
       "      <td>Sun</td>\n",
       "      <td>Dinner</td>\n",
       "      <td>4.0</td>\n",
       "    </tr>\n",
       "  </tbody>\n",
       "</table>\n",
       "</div>"
      ],
      "text/plain": [
       "   total_bill   tip     sex smoker  day    time  size\n",
       "0         NaN   NaN     NaN    NaN  NaN     NaN   NaN\n",
       "1         NaN   NaN     NaN    NaN  NaN     NaN   NaN\n",
       "2       21.01  3.50    Male     No  Sun  Dinner   3.0\n",
       "3       23.68  3.31    Male     No  Sun  Dinner   2.0\n",
       "4       24.59  3.61  Female     No  Sun  Dinner   4.0"
      ]
     },
     "execution_count": 149,
     "metadata": {},
     "output_type": "execute_result"
    }
   ],
   "source": [
    "# where, returns all rows. non-matches will be NaN\n",
    "\n",
    "tips.where(tips.tip > 2).head()"
   ]
  },
  {
   "cell_type": "code",
   "execution_count": 148,
   "id": "4ee81fc4-8802-47a1-b8fa-40d8dd9755b0",
   "metadata": {},
   "outputs": [
    {
     "data": {
      "text/html": [
       "<div>\n",
       "<style scoped>\n",
       "    .dataframe tbody tr th:only-of-type {\n",
       "        vertical-align: middle;\n",
       "    }\n",
       "\n",
       "    .dataframe tbody tr th {\n",
       "        vertical-align: top;\n",
       "    }\n",
       "\n",
       "    .dataframe thead th {\n",
       "        text-align: right;\n",
       "    }\n",
       "</style>\n",
       "<table border=\"1\" class=\"dataframe\">\n",
       "  <thead>\n",
       "    <tr style=\"text-align: right;\">\n",
       "      <th></th>\n",
       "      <th>total_bill</th>\n",
       "      <th>tip</th>\n",
       "      <th>sex</th>\n",
       "      <th>smoker</th>\n",
       "      <th>day</th>\n",
       "      <th>time</th>\n",
       "      <th>size</th>\n",
       "    </tr>\n",
       "  </thead>\n",
       "  <tbody>\n",
       "    <tr>\n",
       "      <th>2</th>\n",
       "      <td>21.01</td>\n",
       "      <td>3.50</td>\n",
       "      <td>Male</td>\n",
       "      <td>No</td>\n",
       "      <td>Sun</td>\n",
       "      <td>Dinner</td>\n",
       "      <td>3</td>\n",
       "    </tr>\n",
       "    <tr>\n",
       "      <th>3</th>\n",
       "      <td>23.68</td>\n",
       "      <td>3.31</td>\n",
       "      <td>Male</td>\n",
       "      <td>No</td>\n",
       "      <td>Sun</td>\n",
       "      <td>Dinner</td>\n",
       "      <td>2</td>\n",
       "    </tr>\n",
       "    <tr>\n",
       "      <th>4</th>\n",
       "      <td>24.59</td>\n",
       "      <td>3.61</td>\n",
       "      <td>Female</td>\n",
       "      <td>No</td>\n",
       "      <td>Sun</td>\n",
       "      <td>Dinner</td>\n",
       "      <td>4</td>\n",
       "    </tr>\n",
       "    <tr>\n",
       "      <th>5</th>\n",
       "      <td>25.29</td>\n",
       "      <td>4.71</td>\n",
       "      <td>Male</td>\n",
       "      <td>No</td>\n",
       "      <td>Sun</td>\n",
       "      <td>Dinner</td>\n",
       "      <td>4</td>\n",
       "    </tr>\n",
       "    <tr>\n",
       "      <th>7</th>\n",
       "      <td>26.88</td>\n",
       "      <td>3.12</td>\n",
       "      <td>Male</td>\n",
       "      <td>No</td>\n",
       "      <td>Sun</td>\n",
       "      <td>Dinner</td>\n",
       "      <td>4</td>\n",
       "    </tr>\n",
       "  </tbody>\n",
       "</table>\n",
       "</div>"
      ],
      "text/plain": [
       "   total_bill   tip     sex smoker  day    time  size\n",
       "2       21.01  3.50    Male     No  Sun  Dinner     3\n",
       "3       23.68  3.31    Male     No  Sun  Dinner     2\n",
       "4       24.59  3.61  Female     No  Sun  Dinner     4\n",
       "5       25.29  4.71    Male     No  Sun  Dinner     4\n",
       "7       26.88  3.12    Male     No  Sun  Dinner     4"
      ]
     },
     "execution_count": 148,
     "metadata": {},
     "output_type": "execute_result"
    }
   ],
   "source": [
    "# will only return matches\n",
    "\n",
    "tips[tips.tip > 2].head()"
   ]
  },
  {
   "cell_type": "code",
   "execution_count": 155,
   "id": "43109465-84b4-4c01-a59e-172506a3e31b",
   "metadata": {},
   "outputs": [
    {
     "data": {
      "text/html": [
       "<div>\n",
       "<style scoped>\n",
       "    .dataframe tbody tr th:only-of-type {\n",
       "        vertical-align: middle;\n",
       "    }\n",
       "\n",
       "    .dataframe tbody tr th {\n",
       "        vertical-align: top;\n",
       "    }\n",
       "\n",
       "    .dataframe thead th {\n",
       "        text-align: right;\n",
       "    }\n",
       "</style>\n",
       "<table border=\"1\" class=\"dataframe\">\n",
       "  <thead>\n",
       "    <tr style=\"text-align: right;\">\n",
       "      <th></th>\n",
       "      <th>tip</th>\n",
       "    </tr>\n",
       "  </thead>\n",
       "  <tbody>\n",
       "    <tr>\n",
       "      <th>0</th>\n",
       "      <td>999.00</td>\n",
       "    </tr>\n",
       "    <tr>\n",
       "      <th>1</th>\n",
       "      <td>999.00</td>\n",
       "    </tr>\n",
       "    <tr>\n",
       "      <th>2</th>\n",
       "      <td>3.50</td>\n",
       "    </tr>\n",
       "    <tr>\n",
       "      <th>3</th>\n",
       "      <td>3.31</td>\n",
       "    </tr>\n",
       "    <tr>\n",
       "      <th>4</th>\n",
       "      <td>3.61</td>\n",
       "    </tr>\n",
       "  </tbody>\n",
       "</table>\n",
       "</div>"
      ],
      "text/plain": [
       "      tip\n",
       "0  999.00\n",
       "1  999.00\n",
       "2    3.50\n",
       "3    3.31\n",
       "4    3.61"
      ]
     },
     "execution_count": 155,
     "metadata": {},
     "output_type": "execute_result"
    }
   ],
   "source": [
    "# other, replaces nan\n",
    "\n",
    "tips[['tip']].where(tips.tip > 2, other=999).head()"
   ]
  },
  {
   "cell_type": "code",
   "execution_count": 158,
   "id": "674dc192-e972-472f-a5e6-a7f77e6f1cf9",
   "metadata": {},
   "outputs": [
    {
     "data": {
      "text/html": [
       "<div>\n",
       "<style scoped>\n",
       "    .dataframe tbody tr th:only-of-type {\n",
       "        vertical-align: middle;\n",
       "    }\n",
       "\n",
       "    .dataframe tbody tr th {\n",
       "        vertical-align: top;\n",
       "    }\n",
       "\n",
       "    .dataframe thead th {\n",
       "        text-align: right;\n",
       "    }\n",
       "</style>\n",
       "<table border=\"1\" class=\"dataframe\">\n",
       "  <thead>\n",
       "    <tr style=\"text-align: right;\">\n",
       "      <th></th>\n",
       "      <th>tip</th>\n",
       "    </tr>\n",
       "  </thead>\n",
       "  <tbody>\n",
       "    <tr>\n",
       "      <th>0</th>\n",
       "      <td>1.01</td>\n",
       "    </tr>\n",
       "    <tr>\n",
       "      <th>1</th>\n",
       "      <td>1.66</td>\n",
       "    </tr>\n",
       "    <tr>\n",
       "      <th>2</th>\n",
       "      <td>999.00</td>\n",
       "    </tr>\n",
       "    <tr>\n",
       "      <th>3</th>\n",
       "      <td>999.00</td>\n",
       "    </tr>\n",
       "    <tr>\n",
       "      <th>4</th>\n",
       "      <td>999.00</td>\n",
       "    </tr>\n",
       "  </tbody>\n",
       "</table>\n",
       "</div>"
      ],
      "text/plain": [
       "      tip\n",
       "0    1.01\n",
       "1    1.66\n",
       "2  999.00\n",
       "3  999.00\n",
       "4  999.00"
      ]
     },
     "execution_count": 158,
     "metadata": {},
     "output_type": "execute_result"
    }
   ],
   "source": [
    "# mask, exact opposite of where\n",
    "\n",
    "tips[['tip']].mask(tips.tip > 2, other=999).head()"
   ]
  },
  {
   "cell_type": "code",
   "execution_count": 165,
   "id": "69be8264-ace6-4635-a28a-dd4475fff50d",
   "metadata": {},
   "outputs": [
    {
     "data": {
      "text/html": [
       "<div>\n",
       "<style scoped>\n",
       "    .dataframe tbody tr th:only-of-type {\n",
       "        vertical-align: middle;\n",
       "    }\n",
       "\n",
       "    .dataframe tbody tr th {\n",
       "        vertical-align: top;\n",
       "    }\n",
       "\n",
       "    .dataframe thead th {\n",
       "        text-align: right;\n",
       "    }\n",
       "</style>\n",
       "<table border=\"1\" class=\"dataframe\">\n",
       "  <thead>\n",
       "    <tr style=\"text-align: right;\">\n",
       "      <th></th>\n",
       "      <th>tip</th>\n",
       "    </tr>\n",
       "  </thead>\n",
       "  <tbody>\n",
       "    <tr>\n",
       "      <th>0</th>\n",
       "      <td>16.99</td>\n",
       "    </tr>\n",
       "    <tr>\n",
       "      <th>1</th>\n",
       "      <td>10.34</td>\n",
       "    </tr>\n",
       "    <tr>\n",
       "      <th>2</th>\n",
       "      <td>3.50</td>\n",
       "    </tr>\n",
       "    <tr>\n",
       "      <th>3</th>\n",
       "      <td>3.31</td>\n",
       "    </tr>\n",
       "    <tr>\n",
       "      <th>4</th>\n",
       "      <td>3.61</td>\n",
       "    </tr>\n",
       "  </tbody>\n",
       "</table>\n",
       "</div>"
      ],
      "text/plain": [
       "     tip\n",
       "0  16.99\n",
       "1  10.34\n",
       "2   3.50\n",
       "3   3.31\n",
       "4   3.61"
      ]
     },
     "execution_count": 165,
     "metadata": {},
     "output_type": "execute_result"
    }
   ],
   "source": [
    "# where match, replace with another column\n",
    "\n",
    "tips[['tip']].where(tips[['tip']] > 3, tips['total_bill'], axis=0).head()"
   ]
  },
  {
   "cell_type": "markdown",
   "id": "9b023cb8-9015-47fa-84b3-680b049293ef",
   "metadata": {
    "tags": []
   },
   "source": [
    "### P6 - duplicates"
   ]
  },
  {
   "cell_type": "code",
   "execution_count": 180,
   "id": "50759877-915f-4b8d-8a59-968203893b31",
   "metadata": {},
   "outputs": [
    {
     "data": {
      "text/plain": [
       "0      False\n",
       "1      False\n",
       "2       True\n",
       "3      False\n",
       "4      False\n",
       "       ...  \n",
       "239     True\n",
       "240     True\n",
       "241     True\n",
       "242     True\n",
       "243    False\n",
       "Length: 244, dtype: bool"
      ]
     },
     "execution_count": 180,
     "metadata": {},
     "output_type": "execute_result"
    }
   ],
   "source": [
    "# duplicated, keep (first, last, False)\n",
    "\n",
    "tips.duplicated(['sex', 'time', 'smoker', 'day', 'size'], keep='first')"
   ]
  },
  {
   "cell_type": "code",
   "execution_count": 192,
   "id": "9182f41e-334a-4077-98c1-7b2a58e53b2a",
   "metadata": {},
   "outputs": [
    {
     "data": {
      "text/plain": [
       "'Male'"
      ]
     },
     "execution_count": 192,
     "metadata": {},
     "output_type": "execute_result"
    }
   ],
   "source": [
    "# get by index\n",
    "\n",
    "tips['sex'].get(1)"
   ]
  },
  {
   "cell_type": "markdown",
   "id": "fe1d4b96-b16f-48ee-9ae2-9565e1ea0d1c",
   "metadata": {
    "tags": []
   },
   "source": [
    "### P7 - Index"
   ]
  },
  {
   "cell_type": "code",
   "execution_count": null,
   "id": "068f8a67-63f0-4a67-9e7e-2c85738a9af8",
   "metadata": {},
   "outputs": [],
   "source": []
  }
 ],
 "metadata": {
  "kernelspec": {
   "display_name": "Python 3 (ipykernel)",
   "language": "python",
   "name": "python3"
  },
  "language_info": {
   "codemirror_mode": {
    "name": "ipython",
    "version": 3
   },
   "file_extension": ".py",
   "mimetype": "text/x-python",
   "name": "python",
   "nbconvert_exporter": "python",
   "pygments_lexer": "ipython3",
   "version": "3.9.5"
  }
 },
 "nbformat": 4,
 "nbformat_minor": 5
}
